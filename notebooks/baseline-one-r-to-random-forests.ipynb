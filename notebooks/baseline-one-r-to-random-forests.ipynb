{
 "cells": [
  {
   "cell_type": "markdown",
   "id": "b1467bdc",
   "metadata": {},
   "source": [
    "# Baseline: From OneR to Random Forests"
   ]
  },
  {
   "cell_type": "markdown",
   "id": "d4218305",
   "metadata": {},
   "source": [
    "A decision trees from-scratch treatment for tabular data using the [Identify Age-Related Conditions][0] kaggle competition.\n",
    "\n",
    "Start by importing commonly used modules that make it convenient to work with the fastai library. Some will be patched to make them work in non-standard ways but improve interactivity.\n",
    "\n",
    "[0]: https://www.kaggle.com/competitions/icr-identify-age-related-conditions"
   ]
  },
  {
   "cell_type": "code",
   "execution_count": 1,
   "id": "782631be",
   "metadata": {},
   "outputs": [],
   "source": [
    "from fastai.imports import *"
   ]
  },
  {
   "cell_type": "markdown",
   "id": "173d13e9",
   "metadata": {},
   "source": [
    "## Data Processing\n",
    "\n",
    "Get the dataset appropriately whether we're in kaggle or not. If in kaggle, it is assumed the competition dataset has been connected to the notebook."
   ]
  },
  {
   "cell_type": "code",
   "execution_count": 2,
   "id": "7e366e70",
   "metadata": {},
   "outputs": [
    {
     "name": "stdout",
     "output_type": "stream",
     "text": [
      "icr-identify-age-related-conditions.zip: Skipping, found more recently modified local copy (use --force to force download)\n"
     ]
    }
   ],
   "source": [
    "import os\n",
    "competition_name = \"icr-identify-age-related-conditions\"\n",
    "\n",
    "is_kaggle = os.environ.get('KAGGLE_KERNEL_RUN_TYPE', '')\n",
    "if is_kaggle:\n",
    "    path = Path(f\"/kaggle/input/{competition_name}\")\n",
    "else:\n",
    "    import zipfile, kaggle\n",
    "    path = Path.home() / '.kaggle' / 'input' / competition_name\n",
    "    kaggle.api.competition_download_cli(competition_name, path=path.parent)\n",
    "    zipfile.ZipFile(f'{path}.zip').extractall(path)"
   ]
  },
  {
   "cell_type": "markdown",
   "id": "c3172fa6",
   "metadata": {},
   "source": [
    "Load the datasets."
   ]
  },
  {
   "cell_type": "code",
   "execution_count": 3,
   "id": "72c643d8",
   "metadata": {},
   "outputs": [
    {
     "data": {
      "text/plain": [
       "(#4) [Path('/home/krm/.kaggle/input/icr-identify-age-related-conditions/test.csv'),Path('/home/krm/.kaggle/input/icr-identify-age-related-conditions/greeks.csv'),Path('/home/krm/.kaggle/input/icr-identify-age-related-conditions/train.csv'),Path('/home/krm/.kaggle/input/icr-identify-age-related-conditions/sample_submission.csv')]"
      ]
     },
     "execution_count": 3,
     "metadata": {},
     "output_type": "execute_result"
    }
   ],
   "source": [
    "path.ls()"
   ]
  },
  {
   "cell_type": "code",
   "execution_count": 4,
   "id": "9578190d",
   "metadata": {},
   "outputs": [
    {
     "data": {
      "text/html": [
       "<div>\n",
       "<style scoped>\n",
       "    .dataframe tbody tr th:only-of-type {\n",
       "        vertical-align: middle;\n",
       "    }\n",
       "\n",
       "    .dataframe tbody tr th {\n",
       "        vertical-align: top;\n",
       "    }\n",
       "\n",
       "    .dataframe thead th {\n",
       "        text-align: right;\n",
       "    }\n",
       "</style>\n",
       "<table border=\"1\" class=\"dataframe\">\n",
       "  <thead>\n",
       "    <tr style=\"text-align: right;\">\n",
       "      <th></th>\n",
       "      <th>Id</th>\n",
       "      <th>AB</th>\n",
       "      <th>AF</th>\n",
       "      <th>AH</th>\n",
       "      <th>AM</th>\n",
       "      <th>AR</th>\n",
       "      <th>AX</th>\n",
       "      <th>AY</th>\n",
       "      <th>AZ</th>\n",
       "      <th>BC</th>\n",
       "      <th>...</th>\n",
       "      <th>FL</th>\n",
       "      <th>FR</th>\n",
       "      <th>FS</th>\n",
       "      <th>GB</th>\n",
       "      <th>GE</th>\n",
       "      <th>GF</th>\n",
       "      <th>GH</th>\n",
       "      <th>GI</th>\n",
       "      <th>GL</th>\n",
       "      <th>Class</th>\n",
       "    </tr>\n",
       "  </thead>\n",
       "  <tbody>\n",
       "    <tr>\n",
       "      <th>0</th>\n",
       "      <td>000ff2bfdfe9</td>\n",
       "      <td>0.209377</td>\n",
       "      <td>3109.03329</td>\n",
       "      <td>85.200147</td>\n",
       "      <td>22.394407</td>\n",
       "      <td>8.138688</td>\n",
       "      <td>0.699861</td>\n",
       "      <td>0.025578</td>\n",
       "      <td>9.812214</td>\n",
       "      <td>5.555634</td>\n",
       "      <td>...</td>\n",
       "      <td>7.298162</td>\n",
       "      <td>1.73855</td>\n",
       "      <td>0.094822</td>\n",
       "      <td>11.339138</td>\n",
       "      <td>72.611063</td>\n",
       "      <td>2003.810319</td>\n",
       "      <td>22.136229</td>\n",
       "      <td>69.834944</td>\n",
       "      <td>0.120343</td>\n",
       "      <td>1</td>\n",
       "    </tr>\n",
       "    <tr>\n",
       "      <th>1</th>\n",
       "      <td>007255e47698</td>\n",
       "      <td>0.145282</td>\n",
       "      <td>978.76416</td>\n",
       "      <td>85.200147</td>\n",
       "      <td>36.968889</td>\n",
       "      <td>8.138688</td>\n",
       "      <td>3.632190</td>\n",
       "      <td>0.025578</td>\n",
       "      <td>13.517790</td>\n",
       "      <td>1.229900</td>\n",
       "      <td>...</td>\n",
       "      <td>0.173229</td>\n",
       "      <td>0.49706</td>\n",
       "      <td>0.568932</td>\n",
       "      <td>9.292698</td>\n",
       "      <td>72.611063</td>\n",
       "      <td>27981.562750</td>\n",
       "      <td>29.135430</td>\n",
       "      <td>32.131996</td>\n",
       "      <td>21.978000</td>\n",
       "      <td>0</td>\n",
       "    </tr>\n",
       "    <tr>\n",
       "      <th>2</th>\n",
       "      <td>013f2bd269f5</td>\n",
       "      <td>0.470030</td>\n",
       "      <td>2635.10654</td>\n",
       "      <td>85.200147</td>\n",
       "      <td>32.360553</td>\n",
       "      <td>8.138688</td>\n",
       "      <td>6.732840</td>\n",
       "      <td>0.025578</td>\n",
       "      <td>12.824570</td>\n",
       "      <td>1.229900</td>\n",
       "      <td>...</td>\n",
       "      <td>7.709560</td>\n",
       "      <td>0.97556</td>\n",
       "      <td>1.198821</td>\n",
       "      <td>37.077772</td>\n",
       "      <td>88.609437</td>\n",
       "      <td>13676.957810</td>\n",
       "      <td>28.022851</td>\n",
       "      <td>35.192676</td>\n",
       "      <td>0.196941</td>\n",
       "      <td>0</td>\n",
       "    </tr>\n",
       "    <tr>\n",
       "      <th>3</th>\n",
       "      <td>043ac50845d5</td>\n",
       "      <td>0.252107</td>\n",
       "      <td>3819.65177</td>\n",
       "      <td>120.201618</td>\n",
       "      <td>77.112203</td>\n",
       "      <td>8.138688</td>\n",
       "      <td>3.685344</td>\n",
       "      <td>0.025578</td>\n",
       "      <td>11.053708</td>\n",
       "      <td>1.229900</td>\n",
       "      <td>...</td>\n",
       "      <td>6.122162</td>\n",
       "      <td>0.49706</td>\n",
       "      <td>0.284466</td>\n",
       "      <td>18.529584</td>\n",
       "      <td>82.416803</td>\n",
       "      <td>2094.262452</td>\n",
       "      <td>39.948656</td>\n",
       "      <td>90.493248</td>\n",
       "      <td>0.155829</td>\n",
       "      <td>0</td>\n",
       "    </tr>\n",
       "    <tr>\n",
       "      <th>4</th>\n",
       "      <td>044fb8a146ec</td>\n",
       "      <td>0.380297</td>\n",
       "      <td>3733.04844</td>\n",
       "      <td>85.200147</td>\n",
       "      <td>14.103738</td>\n",
       "      <td>8.138688</td>\n",
       "      <td>3.942255</td>\n",
       "      <td>0.054810</td>\n",
       "      <td>3.396778</td>\n",
       "      <td>102.151980</td>\n",
       "      <td>...</td>\n",
       "      <td>8.153058</td>\n",
       "      <td>48.50134</td>\n",
       "      <td>0.121914</td>\n",
       "      <td>16.408728</td>\n",
       "      <td>146.109943</td>\n",
       "      <td>8524.370502</td>\n",
       "      <td>45.381316</td>\n",
       "      <td>36.262628</td>\n",
       "      <td>0.096614</td>\n",
       "      <td>1</td>\n",
       "    </tr>\n",
       "  </tbody>\n",
       "</table>\n",
       "<p>5 rows × 58 columns</p>\n",
       "</div>"
      ],
      "text/plain": [
       "             Id        AB          AF          AH         AM        AR  \\\n",
       "0  000ff2bfdfe9  0.209377  3109.03329   85.200147  22.394407  8.138688   \n",
       "1  007255e47698  0.145282   978.76416   85.200147  36.968889  8.138688   \n",
       "2  013f2bd269f5  0.470030  2635.10654   85.200147  32.360553  8.138688   \n",
       "3  043ac50845d5  0.252107  3819.65177  120.201618  77.112203  8.138688   \n",
       "4  044fb8a146ec  0.380297  3733.04844   85.200147  14.103738  8.138688   \n",
       "\n",
       "         AX        AY         AZ          BC  ...        FL        FR  \\\n",
       "0  0.699861  0.025578   9.812214    5.555634  ...  7.298162   1.73855   \n",
       "1  3.632190  0.025578  13.517790    1.229900  ...  0.173229   0.49706   \n",
       "2  6.732840  0.025578  12.824570    1.229900  ...  7.709560   0.97556   \n",
       "3  3.685344  0.025578  11.053708    1.229900  ...  6.122162   0.49706   \n",
       "4  3.942255  0.054810   3.396778  102.151980  ...  8.153058  48.50134   \n",
       "\n",
       "         FS         GB          GE            GF         GH         GI  \\\n",
       "0  0.094822  11.339138   72.611063   2003.810319  22.136229  69.834944   \n",
       "1  0.568932   9.292698   72.611063  27981.562750  29.135430  32.131996   \n",
       "2  1.198821  37.077772   88.609437  13676.957810  28.022851  35.192676   \n",
       "3  0.284466  18.529584   82.416803   2094.262452  39.948656  90.493248   \n",
       "4  0.121914  16.408728  146.109943   8524.370502  45.381316  36.262628   \n",
       "\n",
       "          GL  Class  \n",
       "0   0.120343      1  \n",
       "1  21.978000      0  \n",
       "2   0.196941      0  \n",
       "3   0.155829      0  \n",
       "4   0.096614      1  \n",
       "\n",
       "[5 rows x 58 columns]"
      ]
     },
     "execution_count": 4,
     "metadata": {},
     "output_type": "execute_result"
    }
   ],
   "source": [
    "df_train = pd.read_csv(f'{path}/train.csv')\n",
    "df_test = pd.read_csv(f'{path}/test.csv')\n",
    "df_train.head()"
   ]
  },
  {
   "cell_type": "markdown",
   "id": "3244e6e5",
   "metadata": {},
   "source": [
    "We can now examine the data."
   ]
  },
  {
   "cell_type": "code",
   "execution_count": 5,
   "id": "d653fccc",
   "metadata": {},
   "outputs": [
    {
     "data": {
      "text/html": [
       "<div>\n",
       "<style scoped>\n",
       "    .dataframe tbody tr th:only-of-type {\n",
       "        vertical-align: middle;\n",
       "    }\n",
       "\n",
       "    .dataframe tbody tr th {\n",
       "        vertical-align: top;\n",
       "    }\n",
       "\n",
       "    .dataframe thead th {\n",
       "        text-align: right;\n",
       "    }\n",
       "</style>\n",
       "<table border=\"1\" class=\"dataframe\">\n",
       "  <thead>\n",
       "    <tr style=\"text-align: right;\">\n",
       "      <th></th>\n",
       "      <th>AB</th>\n",
       "      <th>AF</th>\n",
       "      <th>AH</th>\n",
       "      <th>AM</th>\n",
       "      <th>AR</th>\n",
       "      <th>AX</th>\n",
       "      <th>AY</th>\n",
       "      <th>AZ</th>\n",
       "      <th>BC</th>\n",
       "      <th>BD</th>\n",
       "      <th>...</th>\n",
       "      <th>FL</th>\n",
       "      <th>FR</th>\n",
       "      <th>FS</th>\n",
       "      <th>GB</th>\n",
       "      <th>GE</th>\n",
       "      <th>GF</th>\n",
       "      <th>GH</th>\n",
       "      <th>GI</th>\n",
       "      <th>GL</th>\n",
       "      <th>Class</th>\n",
       "    </tr>\n",
       "  </thead>\n",
       "  <tbody>\n",
       "    <tr>\n",
       "      <th>count</th>\n",
       "      <td>617.000000</td>\n",
       "      <td>617.000000</td>\n",
       "      <td>617.000000</td>\n",
       "      <td>617.000000</td>\n",
       "      <td>617.000000</td>\n",
       "      <td>617.000000</td>\n",
       "      <td>617.000000</td>\n",
       "      <td>617.000000</td>\n",
       "      <td>617.000000</td>\n",
       "      <td>617.000000</td>\n",
       "      <td>...</td>\n",
       "      <td>616.000000</td>\n",
       "      <td>617.000000</td>\n",
       "      <td>615.000000</td>\n",
       "      <td>617.000000</td>\n",
       "      <td>617.000000</td>\n",
       "      <td>617.000000</td>\n",
       "      <td>617.000000</td>\n",
       "      <td>617.000000</td>\n",
       "      <td>616.000000</td>\n",
       "      <td>617.000000</td>\n",
       "    </tr>\n",
       "    <tr>\n",
       "      <th>mean</th>\n",
       "      <td>0.477149</td>\n",
       "      <td>3502.013221</td>\n",
       "      <td>118.624513</td>\n",
       "      <td>38.968552</td>\n",
       "      <td>10.128242</td>\n",
       "      <td>5.545576</td>\n",
       "      <td>0.060320</td>\n",
       "      <td>10.566447</td>\n",
       "      <td>8.053012</td>\n",
       "      <td>5350.388655</td>\n",
       "      <td>...</td>\n",
       "      <td>5.433199</td>\n",
       "      <td>3.533905</td>\n",
       "      <td>0.421501</td>\n",
       "      <td>20.724856</td>\n",
       "      <td>131.714987</td>\n",
       "      <td>14679.595398</td>\n",
       "      <td>31.489716</td>\n",
       "      <td>50.584437</td>\n",
       "      <td>8.530961</td>\n",
       "      <td>0.175041</td>\n",
       "    </tr>\n",
       "    <tr>\n",
       "      <th>std</th>\n",
       "      <td>0.468388</td>\n",
       "      <td>2300.322717</td>\n",
       "      <td>127.838950</td>\n",
       "      <td>69.728226</td>\n",
       "      <td>10.518877</td>\n",
       "      <td>2.551696</td>\n",
       "      <td>0.416817</td>\n",
       "      <td>4.350645</td>\n",
       "      <td>65.166943</td>\n",
       "      <td>3021.326641</td>\n",
       "      <td>...</td>\n",
       "      <td>11.496257</td>\n",
       "      <td>50.181948</td>\n",
       "      <td>1.305365</td>\n",
       "      <td>9.991907</td>\n",
       "      <td>144.181524</td>\n",
       "      <td>19352.959387</td>\n",
       "      <td>9.864239</td>\n",
       "      <td>36.266251</td>\n",
       "      <td>10.327010</td>\n",
       "      <td>0.380310</td>\n",
       "    </tr>\n",
       "    <tr>\n",
       "      <th>min</th>\n",
       "      <td>0.081187</td>\n",
       "      <td>192.593280</td>\n",
       "      <td>85.200147</td>\n",
       "      <td>3.177522</td>\n",
       "      <td>8.138688</td>\n",
       "      <td>0.699861</td>\n",
       "      <td>0.025578</td>\n",
       "      <td>3.396778</td>\n",
       "      <td>1.229900</td>\n",
       "      <td>1693.624320</td>\n",
       "      <td>...</td>\n",
       "      <td>0.173229</td>\n",
       "      <td>0.497060</td>\n",
       "      <td>0.067730</td>\n",
       "      <td>4.102182</td>\n",
       "      <td>72.611063</td>\n",
       "      <td>13.038894</td>\n",
       "      <td>9.432735</td>\n",
       "      <td>0.897628</td>\n",
       "      <td>0.001129</td>\n",
       "      <td>0.000000</td>\n",
       "    </tr>\n",
       "    <tr>\n",
       "      <th>25%</th>\n",
       "      <td>0.252107</td>\n",
       "      <td>2197.345480</td>\n",
       "      <td>85.200147</td>\n",
       "      <td>12.270314</td>\n",
       "      <td>8.138688</td>\n",
       "      <td>4.128294</td>\n",
       "      <td>0.025578</td>\n",
       "      <td>8.129580</td>\n",
       "      <td>1.229900</td>\n",
       "      <td>4155.702870</td>\n",
       "      <td>...</td>\n",
       "      <td>0.173229</td>\n",
       "      <td>0.497060</td>\n",
       "      <td>0.067730</td>\n",
       "      <td>14.036718</td>\n",
       "      <td>72.611063</td>\n",
       "      <td>2798.992584</td>\n",
       "      <td>25.034888</td>\n",
       "      <td>23.011684</td>\n",
       "      <td>0.124392</td>\n",
       "      <td>0.000000</td>\n",
       "    </tr>\n",
       "    <tr>\n",
       "      <th>50%</th>\n",
       "      <td>0.354659</td>\n",
       "      <td>3120.318960</td>\n",
       "      <td>85.200147</td>\n",
       "      <td>20.533110</td>\n",
       "      <td>8.138688</td>\n",
       "      <td>5.031912</td>\n",
       "      <td>0.025578</td>\n",
       "      <td>10.461320</td>\n",
       "      <td>1.229900</td>\n",
       "      <td>4997.960730</td>\n",
       "      <td>...</td>\n",
       "      <td>3.028141</td>\n",
       "      <td>1.131000</td>\n",
       "      <td>0.250601</td>\n",
       "      <td>18.771436</td>\n",
       "      <td>72.611063</td>\n",
       "      <td>7838.273610</td>\n",
       "      <td>30.608946</td>\n",
       "      <td>41.007968</td>\n",
       "      <td>0.337827</td>\n",
       "      <td>0.000000</td>\n",
       "    </tr>\n",
       "    <tr>\n",
       "      <th>75%</th>\n",
       "      <td>0.559763</td>\n",
       "      <td>4361.637390</td>\n",
       "      <td>113.739540</td>\n",
       "      <td>39.139886</td>\n",
       "      <td>8.138688</td>\n",
       "      <td>6.431634</td>\n",
       "      <td>0.036845</td>\n",
       "      <td>12.969516</td>\n",
       "      <td>5.081244</td>\n",
       "      <td>6035.885700</td>\n",
       "      <td>...</td>\n",
       "      <td>6.238814</td>\n",
       "      <td>1.512060</td>\n",
       "      <td>0.535067</td>\n",
       "      <td>25.608406</td>\n",
       "      <td>127.591671</td>\n",
       "      <td>19035.709240</td>\n",
       "      <td>36.863947</td>\n",
       "      <td>67.931664</td>\n",
       "      <td>21.978000</td>\n",
       "      <td>0.000000</td>\n",
       "    </tr>\n",
       "    <tr>\n",
       "      <th>max</th>\n",
       "      <td>6.161666</td>\n",
       "      <td>28688.187660</td>\n",
       "      <td>1910.123198</td>\n",
       "      <td>630.518230</td>\n",
       "      <td>178.943634</td>\n",
       "      <td>38.270880</td>\n",
       "      <td>10.315851</td>\n",
       "      <td>38.971568</td>\n",
       "      <td>1463.693448</td>\n",
       "      <td>53060.599240</td>\n",
       "      <td>...</td>\n",
       "      <td>137.932739</td>\n",
       "      <td>1244.227020</td>\n",
       "      <td>31.365763</td>\n",
       "      <td>135.781294</td>\n",
       "      <td>1497.351958</td>\n",
       "      <td>143790.071200</td>\n",
       "      <td>81.210825</td>\n",
       "      <td>191.194764</td>\n",
       "      <td>21.978000</td>\n",
       "      <td>1.000000</td>\n",
       "    </tr>\n",
       "  </tbody>\n",
       "</table>\n",
       "<p>8 rows × 56 columns</p>\n",
       "</div>"
      ],
      "text/plain": [
       "               AB            AF           AH          AM          AR  \\\n",
       "count  617.000000    617.000000   617.000000  617.000000  617.000000   \n",
       "mean     0.477149   3502.013221   118.624513   38.968552   10.128242   \n",
       "std      0.468388   2300.322717   127.838950   69.728226   10.518877   \n",
       "min      0.081187    192.593280    85.200147    3.177522    8.138688   \n",
       "25%      0.252107   2197.345480    85.200147   12.270314    8.138688   \n",
       "50%      0.354659   3120.318960    85.200147   20.533110    8.138688   \n",
       "75%      0.559763   4361.637390   113.739540   39.139886    8.138688   \n",
       "max      6.161666  28688.187660  1910.123198  630.518230  178.943634   \n",
       "\n",
       "               AX          AY          AZ           BC           BD   ...  \\\n",
       "count  617.000000  617.000000  617.000000   617.000000    617.000000  ...   \n",
       "mean     5.545576    0.060320   10.566447     8.053012   5350.388655  ...   \n",
       "std      2.551696    0.416817    4.350645    65.166943   3021.326641  ...   \n",
       "min      0.699861    0.025578    3.396778     1.229900   1693.624320  ...   \n",
       "25%      4.128294    0.025578    8.129580     1.229900   4155.702870  ...   \n",
       "50%      5.031912    0.025578   10.461320     1.229900   4997.960730  ...   \n",
       "75%      6.431634    0.036845   12.969516     5.081244   6035.885700  ...   \n",
       "max     38.270880   10.315851   38.971568  1463.693448  53060.599240  ...   \n",
       "\n",
       "               FL           FR          FS          GB           GE  \\\n",
       "count  616.000000   617.000000  615.000000  617.000000   617.000000   \n",
       "mean     5.433199     3.533905    0.421501   20.724856   131.714987   \n",
       "std     11.496257    50.181948    1.305365    9.991907   144.181524   \n",
       "min      0.173229     0.497060    0.067730    4.102182    72.611063   \n",
       "25%      0.173229     0.497060    0.067730   14.036718    72.611063   \n",
       "50%      3.028141     1.131000    0.250601   18.771436    72.611063   \n",
       "75%      6.238814     1.512060    0.535067   25.608406   127.591671   \n",
       "max    137.932739  1244.227020   31.365763  135.781294  1497.351958   \n",
       "\n",
       "                  GF          GH          GI          GL       Class  \n",
       "count     617.000000  617.000000  617.000000  616.000000  617.000000  \n",
       "mean    14679.595398   31.489716   50.584437    8.530961    0.175041  \n",
       "std     19352.959387    9.864239   36.266251   10.327010    0.380310  \n",
       "min        13.038894    9.432735    0.897628    0.001129    0.000000  \n",
       "25%      2798.992584   25.034888   23.011684    0.124392    0.000000  \n",
       "50%      7838.273610   30.608946   41.007968    0.337827    0.000000  \n",
       "75%     19035.709240   36.863947   67.931664   21.978000    0.000000  \n",
       "max    143790.071200   81.210825  191.194764   21.978000    1.000000  \n",
       "\n",
       "[8 rows x 56 columns]"
      ]
     },
     "execution_count": 5,
     "metadata": {},
     "output_type": "execute_result"
    }
   ],
   "source": [
    "df_train.describe()"
   ]
  },
  {
   "cell_type": "markdown",
   "id": "49a7ef9c",
   "metadata": {},
   "source": [
    "We see that the mean of the dependant column `Class` is much closer to zero than one. This means that the observations with a positive diagnosis are smaller in proportion in the training data. We confirm this by plotting a pie chart for column `Class`."
   ]
  },
  {
   "cell_type": "code",
   "execution_count": 6,
   "id": "95e14983",
   "metadata": {},
   "outputs": [
    {
     "data": {
      "text/plain": [
       "<Axes: ylabel='count'>"
      ]
     },
     "execution_count": 6,
     "metadata": {},
     "output_type": "execute_result"
    },
    {
     "data": {
      "image/png": "[encoded data removed]",
      "text/plain": [
       "<Figure size 640x480 with 1 Axes>"
      ]
     },
     "metadata": {},
     "output_type": "display_data"
    }
   ],
   "source": [
    "%matplotlib inline\n",
    "\n",
    "df_train.Class.value_counts().plot.pie()"
   ]
  },
  {
   "cell_type": "markdown",
   "id": "05141064",
   "metadata": {},
   "source": [
    "We also check for null values"
   ]
  },
  {
   "cell_type": "code",
   "execution_count": 7,
   "id": "6263cd1a",
   "metadata": {},
   "outputs": [
    {
     "data": {
      "text/plain": [
       "Id        0\n",
       "AB        0\n",
       "AF        0\n",
       "AH        0\n",
       "AM        0\n",
       "AR        0\n",
       "AX        0\n",
       "AY        0\n",
       "AZ        0\n",
       "BC        0\n",
       "BD        0\n",
       "BN        0\n",
       "BP        0\n",
       "BQ       60\n",
       "BR        0\n",
       "BZ        0\n",
       "CB        2\n",
       "CC        3\n",
       "CD        0\n",
       "CF        0\n",
       "CH        0\n",
       "CL        0\n",
       "CR        0\n",
       "CS        0\n",
       "CU        0\n",
       "CW        0\n",
       "DA        0\n",
       "DE        0\n",
       "DF        0\n",
       "DH        0\n",
       "DI        0\n",
       "DL        0\n",
       "DN        0\n",
       "DU        1\n",
       "DV        0\n",
       "DY        0\n",
       "EB        0\n",
       "EE        0\n",
       "EG        0\n",
       "EH        0\n",
       "EJ        0\n",
       "EL       60\n",
       "EP        0\n",
       "EU        0\n",
       "FC        1\n",
       "FD        0\n",
       "FE        0\n",
       "FI        0\n",
       "FL        1\n",
       "FR        0\n",
       "FS        2\n",
       "GB        0\n",
       "GE        0\n",
       "GF        0\n",
       "GH        0\n",
       "GI        0\n",
       "GL        1\n",
       "Class     0\n",
       "dtype: int64"
      ]
     },
     "execution_count": 7,
     "metadata": {},
     "output_type": "execute_result"
    }
   ],
   "source": [
    "df_train.isna().sum()"
   ]
  },
  {
   "cell_type": "code",
   "execution_count": 8,
   "id": "e5688f44",
   "metadata": {},
   "outputs": [
    {
     "name": "stdout",
     "output_type": "stream",
     "text": [
      "<class 'pandas.core.frame.DataFrame'>\n",
      "RangeIndex: 617 entries, 0 to 616\n",
      "Data columns (total 58 columns):\n",
      " #   Column  Non-Null Count  Dtype  \n",
      "---  ------  --------------  -----  \n",
      " 0   Id      617 non-null    object \n",
      " 1   AB      617 non-null    float64\n",
      " 2   AF      617 non-null    float64\n",
      " 3   AH      617 non-null    float64\n",
      " 4   AM      617 non-null    float64\n",
      " 5   AR      617 non-null    float64\n",
      " 6   AX      617 non-null    float64\n",
      " 7   AY      617 non-null    float64\n",
      " 8   AZ      617 non-null    float64\n",
      " 9   BC      617 non-null    float64\n",
      " 10  BD      617 non-null    float64\n",
      " 11  BN      617 non-null    float64\n",
      " 12  BP      617 non-null    float64\n",
      " 13  BQ      557 non-null    float64\n",
      " 14  BR      617 non-null    float64\n",
      " 15  BZ      617 non-null    float64\n",
      " 16  CB      615 non-null    float64\n",
      " 17  CC      614 non-null    float64\n",
      " 18  CD      617 non-null    float64\n",
      " 19  CF      617 non-null    float64\n",
      " 20  CH      617 non-null    float64\n",
      " 21  CL      617 non-null    float64\n",
      " 22  CR      617 non-null    float64\n",
      " 23  CS      617 non-null    float64\n",
      " 24  CU      617 non-null    float64\n",
      " 25  CW      617 non-null    float64\n",
      " 26  DA      617 non-null    float64\n",
      " 27  DE      617 non-null    float64\n",
      " 28  DF      617 non-null    float64\n",
      " 29  DH      617 non-null    float64\n",
      " 30  DI      617 non-null    float64\n",
      " 31  DL      617 non-null    float64\n",
      " 32  DN      617 non-null    float64\n",
      " 33  DU      616 non-null    float64\n",
      " 34  DV      617 non-null    float64\n",
      " 35  DY      617 non-null    float64\n",
      " 36  EB      617 non-null    float64\n",
      " 37  EE      617 non-null    float64\n",
      " 38  EG      617 non-null    float64\n",
      " 39  EH      617 non-null    float64\n",
      " 40  EJ      617 non-null    object \n",
      " 41  EL      557 non-null    float64\n",
      " 42  EP      617 non-null    float64\n",
      " 43  EU      617 non-null    float64\n",
      " 44  FC      616 non-null    float64\n",
      " 45  FD      617 non-null    float64\n",
      " 46  FE      617 non-null    float64\n",
      " 47  FI      617 non-null    float64\n",
      " 48  FL      616 non-null    float64\n",
      " 49  FR      617 non-null    float64\n",
      " 50  FS      615 non-null    float64\n",
      " 51  GB      617 non-null    float64\n",
      " 52  GE      617 non-null    float64\n",
      " 53  GF      617 non-null    float64\n",
      " 54  GH      617 non-null    float64\n",
      " 55  GI      617 non-null    float64\n",
      " 56  GL      616 non-null    float64\n",
      " 57  Class   617 non-null    int64  \n",
      "dtypes: float64(55), int64(1), object(2)\n",
      "memory usage: 279.7+ KB\n"
     ]
    }
   ],
   "source": [
    "df_train.info()"
   ]
  },
  {
   "cell_type": "markdown",
   "id": "b60d82ed",
   "metadata": {},
   "source": [
    "We'll only do simple data processing. On the completition's data tab, we're informed that all columns are numeric  with the exception of EJ, which is categorical. We'll replace null values with modes, and convert EJ to a pandas categorical column."
   ]
  },
  {
   "cell_type": "code",
   "execution_count": 9,
   "id": "e30dee51",
   "metadata": {},
   "outputs": [],
   "source": [
    "modes = df_train.mode().iloc[0]"
   ]
  },
  {
   "cell_type": "code",
   "execution_count": 10,
   "id": "14e95884",
   "metadata": {},
   "outputs": [],
   "source": [
    "\n",
    "def process_data(df):\n",
    "    df.fillna(modes, inplace=True)\n",
    "    df[\"EJ\"] = pd.Categorical(df.EJ)\n",
    "    \n",
    "process_data(df_train)\n",
    "process_data(df_test)"
   ]
  },
  {
   "cell_type": "code",
   "execution_count": 11,
   "id": "aa51bada",
   "metadata": {},
   "outputs": [
    {
     "name": "stdout",
     "output_type": "stream",
     "text": [
      "<class 'pandas.core.frame.DataFrame'>\n",
      "RangeIndex: 617 entries, 0 to 616\n",
      "Data columns (total 58 columns):\n",
      " #   Column  Non-Null Count  Dtype   \n",
      "---  ------  --------------  -----   \n",
      " 0   Id      617 non-null    object  \n",
      " 1   AB      617 non-null    float64 \n",
      " 2   AF      617 non-null    float64 \n",
      " 3   AH      617 non-null    float64 \n",
      " 4   AM      617 non-null    float64 \n",
      " 5   AR      617 non-null    float64 \n",
      " 6   AX      617 non-null    float64 \n",
      " 7   AY      617 non-null    float64 \n",
      " 8   AZ      617 non-null    float64 \n",
      " 9   BC      617 non-null    float64 \n",
      " 10  BD      617 non-null    float64 \n",
      " 11  BN      617 non-null    float64 \n",
      " 12  BP      617 non-null    float64 \n",
      " 13  BQ      617 non-null    float64 \n",
      " 14  BR      617 non-null    float64 \n",
      " 15  BZ      617 non-null    float64 \n",
      " 16  CB      617 non-null    float64 \n",
      " 17  CC      617 non-null    float64 \n",
      " 18  CD      617 non-null    float64 \n",
      " 19  CF      617 non-null    float64 \n",
      " 20  CH      617 non-null    float64 \n",
      " 21  CL      617 non-null    float64 \n",
      " 22  CR      617 non-null    float64 \n",
      " 23  CS      617 non-null    float64 \n",
      " 24  CU      617 non-null    float64 \n",
      " 25  CW      617 non-null    float64 \n",
      " 26  DA      617 non-null    float64 \n",
      " 27  DE      617 non-null    float64 \n",
      " 28  DF      617 non-null    float64 \n",
      " 29  DH      617 non-null    float64 \n",
      " 30  DI      617 non-null    float64 \n",
      " 31  DL      617 non-null    float64 \n",
      " 32  DN      617 non-null    float64 \n",
      " 33  DU      617 non-null    float64 \n",
      " 34  DV      617 non-null    float64 \n",
      " 35  DY      617 non-null    float64 \n",
      " 36  EB      617 non-null    float64 \n",
      " 37  EE      617 non-null    float64 \n",
      " 38  EG      617 non-null    float64 \n",
      " 39  EH      617 non-null    float64 \n",
      " 40  EJ      617 non-null    category\n",
      " 41  EL      617 non-null    float64 \n",
      " 42  EP      617 non-null    float64 \n",
      " 43  EU      617 non-null    float64 \n",
      " 44  FC      617 non-null    float64 \n",
      " 45  FD      617 non-null    float64 \n",
      " 46  FE      617 non-null    float64 \n",
      " 47  FI      617 non-null    float64 \n",
      " 48  FL      617 non-null    float64 \n",
      " 49  FR      617 non-null    float64 \n",
      " 50  FS      617 non-null    float64 \n",
      " 51  GB      617 non-null    float64 \n",
      " 52  GE      617 non-null    float64 \n",
      " 53  GF      617 non-null    float64 \n",
      " 54  GH      617 non-null    float64 \n",
      " 55  GI      617 non-null    float64 \n",
      " 56  GL      617 non-null    float64 \n",
      " 57  Class   617 non-null    int64   \n",
      "dtypes: category(1), float64(55), int64(1), object(1)\n",
      "memory usage: 275.6+ KB\n"
     ]
    }
   ],
   "source": [
    "df_train.info()"
   ]
  },
  {
   "cell_type": "markdown",
   "id": "5e74ecb6",
   "metadata": {},
   "source": [
    "A decision tree only requires that the column values can be ordered numerically.\n",
    "\n",
    "For the categorical column EJ, we'll use the underlying categorical codes as its values."
   ]
  },
  {
   "cell_type": "code",
   "execution_count": 12,
   "id": "b25827d5",
   "metadata": {},
   "outputs": [
    {
     "data": {
      "text/plain": [
       "(0    B\n",
       " 1    A\n",
       " 2    B\n",
       " 3    B\n",
       " 4    B\n",
       " Name: EJ, dtype: category\n",
       " Categories (2, object): ['A', 'B'],\n",
       " 0    1\n",
       " 1    0\n",
       " 2    1\n",
       " 3    1\n",
       " 4    1\n",
       " dtype: int8)"
      ]
     },
     "execution_count": 12,
     "metadata": {},
     "output_type": "execute_result"
    }
   ],
   "source": [
    "df_train.EJ.head(), df_train.EJ.cat.codes.head()"
   ]
  },
  {
   "cell_type": "markdown",
   "id": "21f0cda6",
   "metadata": {},
   "source": [
    "Separately identify the categorical, numeric and dependent variables"
   ]
  },
  {
   "cell_type": "code",
   "execution_count": 13,
   "id": "1826905c",
   "metadata": {},
   "outputs": [],
   "source": [
    "categoricals = [\"EJ\"]\n",
    "dependent = \"Class\"\n",
    "conts = [column for column in df_train.columns if not column in categoricals + [dependent] + [\"Id\"]]"
   ]
  },
  {
   "cell_type": "markdown",
   "id": "796b63ad",
   "metadata": {},
   "source": [
    "## Binary Splits"
   ]
  },
  {
   "cell_type": "markdown",
   "id": "4d5015a0",
   "metadata": {},
   "source": [
    "A decision tree is build on binary splits i.e. using the value of a column to split the rows into two groups. Let's use a barplot and countplot to analyse how splitting on EJ relates to the diagnosed class."
   ]
  },
  {
   "cell_type": "code",
   "execution_count": 14,
   "id": "edfcac11",
   "metadata": {},
   "outputs": [
    {
     "data": {
      "text/plain": [
       "[Text(0.5, 1.0, 'Histogram')]"
      ]
     },
     "execution_count": 14,
     "metadata": {},
     "output_type": "execute_result"
    },
    {
     "data": {
      "image/png": "[encoded data removed]",
      "text/plain": [
       "<Figure size 1100x500 with 2 Axes>"
      ]
     },
     "metadata": {},
     "output_type": "display_data"
    }
   ],
   "source": [
    "import seaborn as sns\n",
    "\n",
    "fig, axs = plt.subplots(1, 2, figsize=(11, 5))\n",
    "sns.barplot(data=df_train, y=dependent, x=\"EJ\", ax=axs[0]).set(title=\"Positive Diagnosis Rate\")\n",
    "sns.countplot(data=df_train, x=\"EJ\", ax=axs[1]).set(title=\"Histogram\")"
   ]
  },
  {
   "cell_type": "markdown",
   "id": "4a8250da",
   "metadata": {},
   "source": [
    "We have a higher positivity rate for category B (~ 20%) than category A (~ 3%). We also have much higher proportion of observations with category B (~ 400) than category A (~ 230). This correlation could in part explain why B has a higher positivity rate.\n",
    "\n",
    "We can also do a split based on a continuous column. We'll go with column `AB` just for demonstration purposes. We use a boxplot to compare the averages of both positive and negative diagnosis based on the trait `AB` and a density plot to visualize the distribution of observations on `AB`."
   ]
  },
  {
   "cell_type": "code",
   "execution_count": 15,
   "id": "3998a5fe",
   "metadata": {},
   "outputs": [
    {
     "data": {
      "text/plain": [
       "<Axes: xlabel='AB', ylabel='Density'>"
      ]
     },
     "execution_count": 15,
     "metadata": {},
     "output_type": "execute_result"
    },
    {
     "data": {
      "image/png": "[encoded data removed]",
      "text/plain": [
       "<Figure size 1100x500 with 2 Axes>"
      ]
     },
     "metadata": {},
     "output_type": "display_data"
    }
   ],
   "source": [
    "fig, (ax1, ax2) = plt.subplots(nrows=1, ncols=2, figsize=(11, 5))\n",
    "sns.boxenplot(data=df_train, x=dependent, y=\"AB\", ax=ax1)\n",
    "sns.kdeplot(data=df_train, x=\"AB\", ax=ax2)"
   ]
  },
  {
   "cell_type": "markdown",
   "id": "979386c7",
   "metadata": {},
   "source": [
    "What we see is that the observations that result in a positive diagnosis have a slightly higher average of value `AB` than those that don't. We also notice that there some outliers with higher values for `AB`. It is difficult to determine the value of `AB` that best splits between the two classes though, since most of the observations are between 0 and 1 for `AB`, although the average value of negative diagnosis (class 0) appears below 0.5.\n",
    "\n",
    "Since we have quite a number of columns, it would be tedious to plot each of them and figure out how well it partitions between positive and negative diagnosis, and which value of that column gives the best split.\n",
    "\n",
    "We can however create a function that will help us quickly evaluate different splits by calculating a measure of impurity of how a split divides the observations into 2 groups, i.e. how (dis)similar they are with respect to the dependent variable.\n",
    "\n",
    "We'll measure similarity by calculating the standard deviation of the dependent variable within each group of the split. The lower it is, they more similar the observations in each group are. We'll multiply this by the number of observations in each group since the bigger the group, they more weight it has.\n",
    "\n",
    "We'll calculate the score of a split by summing the scores of the left side and the right side of that split using a particular value of that column."
   ]
  },
  {
   "cell_type": "code",
   "execution_count": 16,
   "id": "b1191162",
   "metadata": {},
   "outputs": [],
   "source": [
    "def score(col, y, split_value):\n",
    "    lhs = col <= split_value\n",
    "    return (_side_score(lhs, y) + _side_score(~lhs, y))/len(y)\n",
    "\n",
    "def _side_score(side, y):\n",
    "    count = side.sum()\n",
    "    if count <=1: return 0\n",
    "    return y[side].std() * count"
   ]
  },
  {
   "cell_type": "markdown",
   "id": "6f3acd1e",
   "metadata": {},
   "source": [
    "For instance, the score based on value 0.5 for columns `AB`:"
   ]
  },
  {
   "cell_type": "code",
   "execution_count": 17,
   "id": "592d3264",
   "metadata": {},
   "outputs": [
    {
     "data": {
      "text/plain": [
       "0.36017711175753037"
      ]
     },
     "execution_count": 17,
     "metadata": {},
     "output_type": "execute_result"
    }
   ],
   "source": [
    "score(df_train.AB, df_train[dependent], 0.5)"
   ]
  },
  {
   "cell_type": "markdown",
   "id": "0f49b23a",
   "metadata": {},
   "source": [
    "For the categorical column, we'd need to replace the column string values with their underlying codes, since we're splitting using numeric values.\n"
   ]
  },
  {
   "cell_type": "code",
   "execution_count": 18,
   "id": "f48b9771",
   "metadata": {},
   "outputs": [
    {
     "data": {
      "text/html": [
       "<div>\n",
       "<style scoped>\n",
       "    .dataframe tbody tr th:only-of-type {\n",
       "        vertical-align: middle;\n",
       "    }\n",
       "\n",
       "    .dataframe tbody tr th {\n",
       "        vertical-align: top;\n",
       "    }\n",
       "\n",
       "    .dataframe thead th {\n",
       "        text-align: right;\n",
       "    }\n",
       "</style>\n",
       "<table border=\"1\" class=\"dataframe\">\n",
       "  <thead>\n",
       "    <tr style=\"text-align: right;\">\n",
       "      <th></th>\n",
       "      <th>EJ</th>\n",
       "    </tr>\n",
       "  </thead>\n",
       "  <tbody>\n",
       "    <tr>\n",
       "      <th>0</th>\n",
       "      <td>1</td>\n",
       "    </tr>\n",
       "    <tr>\n",
       "      <th>1</th>\n",
       "      <td>0</td>\n",
       "    </tr>\n",
       "    <tr>\n",
       "      <th>2</th>\n",
       "      <td>1</td>\n",
       "    </tr>\n",
       "    <tr>\n",
       "      <th>3</th>\n",
       "      <td>1</td>\n",
       "    </tr>\n",
       "    <tr>\n",
       "      <th>4</th>\n",
       "      <td>1</td>\n",
       "    </tr>\n",
       "  </tbody>\n",
       "</table>\n",
       "</div>"
      ],
      "text/plain": [
       "   EJ\n",
       "0   1\n",
       "1   0\n",
       "2   1\n",
       "3   1\n",
       "4   1"
      ]
     },
     "execution_count": 18,
     "metadata": {},
     "output_type": "execute_result"
    }
   ],
   "source": [
    "df_train_n = df_train.copy()\n",
    "df_train_n[categoricals] = df_train_n[categoricals].apply(lambda x: x.cat.codes)\n",
    "df_train_n[categoricals].head()"
   ]
  },
  {
   "cell_type": "markdown",
   "id": "dfa84e40",
   "metadata": {},
   "source": [
    "We then calculate the score using <= 1 as our split"
   ]
  },
  {
   "cell_type": "code",
   "execution_count": 19,
   "id": "121cb8bd",
   "metadata": {},
   "outputs": [
    {
     "data": {
      "text/plain": [
       "0.3803100751041243"
      ]
     },
     "execution_count": 19,
     "metadata": {},
     "output_type": "execute_result"
    }
   ],
   "source": [
    "score(df_train_n.EJ, df_train_n[dependent], 1)"
   ]
  },
  {
   "cell_type": "markdown",
   "id": "c1f7ee76",
   "metadata": {},
   "source": [
    "Looks like the split on the categorical is a bit worse than that of column `AB`."
   ]
  },
  {
   "cell_type": "markdown",
   "id": "b1569c0f",
   "metadata": {},
   "source": [
    "To help us find the best split point, we'll iterate through the columns, and for each, we iterate through it's unique values to find the best split point for the column."
   ]
  },
  {
   "cell_type": "markdown",
   "id": "830a648e",
   "metadata": {},
   "source": [
    "For example to find the best split point for column `AB`:"
   ]
  },
  {
   "cell_type": "code",
   "execution_count": 20,
   "id": "083ffc6f",
   "metadata": {},
   "outputs": [
    {
     "data": {
      "text/plain": [
       "array([0.081187 , 0.08546  , 0.098279 , 0.102552 , 0.111098 , 0.119644 ,\n",
       "       0.1217805, 0.1303265, 0.132463 , 0.136736 , 0.141009 , 0.145282 ,\n",
       "       0.149555 , 0.153828 , 0.1559645, 0.158101 , 0.1602375, 0.162374 ,\n",
       "       0.166647 , 0.17092  , 0.175193 , 0.179466 , 0.183739 , 0.1858755,\n",
       "       0.188012 , 0.1901485, 0.192285 , 0.196558 , 0.200831 , 0.2029675,\n",
       "       0.205104 , 0.209377 , 0.21365  , 0.217923 , 0.222196 , 0.2243325,\n",
       "       0.226469 , 0.230742 , 0.235015 , 0.239288 , 0.243561 , 0.247834 ,\n",
       "       0.252107 , 0.25638  , 0.260653 , 0.2627895, 0.264926 , 0.269199 ,\n",
       "       0.2713355, 0.273472 ])"
      ]
     },
     "execution_count": 20,
     "metadata": {},
     "output_type": "execute_result"
    }
   ],
   "source": [
    "col = df_train_n[\"AB\"]\n",
    "y = df_train_n[dependent]\n",
    "uniques = col.unique()\n",
    "uniques.sort()\n",
    "uniques[:50]"
   ]
  },
  {
   "cell_type": "code",
   "execution_count": 21,
   "id": "992e8d7d",
   "metadata": {},
   "outputs": [
    {
     "data": {
      "text/plain": [
       "0.410208"
      ]
     },
     "execution_count": 21,
     "metadata": {},
     "output_type": "execute_result"
    }
   ],
   "source": [
    "scores = np.array([score(col, y, split) for split in uniques])\n",
    "uniques[scores.argmin()]"
   ]
  },
  {
   "cell_type": "markdown",
   "id": "a96a28c9",
   "metadata": {},
   "source": [
    "This tells us that the value of `AB` that gives the best split is 0.410208.\n",
    "\n",
    "Let's implement this idea to calculate the best split point for any given column."
   ]
  },
  {
   "cell_type": "code",
   "execution_count": 22,
   "id": "649f4def",
   "metadata": {},
   "outputs": [],
   "source": [
    "def min_column(df, col_name):\n",
    "    col, y = df[col_name], df[dependent]\n",
    "    uniques = col.unique()\n",
    "    scores = np.array([score(col, y, split) for split in uniques])\n",
    "    index = scores.argmin()\n",
    "    return uniques[index], scores[index]"
   ]
  },
  {
   "cell_type": "code",
   "execution_count": 23,
   "id": "d98a34b7",
   "metadata": {},
   "outputs": [
    {
     "data": {
      "text/plain": [
       "(0.410208, 0.3561906829723693)"
      ]
     },
     "execution_count": 23,
     "metadata": {},
     "output_type": "execute_result"
    }
   ],
   "source": [
    "min_column(df_train_n, \"AB\")"
   ]
  },
  {
   "cell_type": "markdown",
   "id": "22f1df3f",
   "metadata": {},
   "source": [
    "We then try the same thing for the categorical variable:"
   ]
  },
  {
   "cell_type": "code",
   "execution_count": 24,
   "id": "3015b0b2",
   "metadata": {},
   "outputs": [
    {
     "data": {
      "text/plain": [
       "(0, 0.3773339803468088)"
      ]
     },
     "execution_count": 24,
     "metadata": {},
     "output_type": "execute_result"
    }
   ],
   "source": [
    "min_column(df_train_n, \"EJ\")"
   ]
  },
  {
   "cell_type": "markdown",
   "id": "7e1f810a",
   "metadata": {},
   "source": [
    "Turns out having all observations on one side gives a better score when looking at the categorical column alone.\n",
    "\n",
    "We then calculate the best split points for each of the columns to find the best split overall."
   ]
  },
  {
   "cell_type": "code",
   "execution_count": 25,
   "id": "4cbe1405",
   "metadata": {},
   "outputs": [],
   "source": [
    "columns = conts + categoricals\n",
    "splits = {col: min_column(df_train_n, col) for col in columns}"
   ]
  },
  {
   "cell_type": "code",
   "execution_count": 26,
   "id": "cf2b1794",
   "metadata": {},
   "outputs": [
    {
     "data": {
      "text/plain": [
       "{'AB': (0.410208, 0.3561906829723693),\n",
       " 'AF': (2808.64232, 0.35583548065304915),\n",
       " 'AH': (193.801377, 0.3761985927636321),\n",
       " 'AM': (149.318758, 0.367338331639673),\n",
       " 'AR': (16.327194, 0.3678281215243884),\n",
       " 'AX': (17.877462, 0.37677322461475915),\n",
       " 'AY': (0.6019965, 0.37677322461475915),\n",
       " 'AZ': (10.971782, 0.3782810033906922),\n",
       " 'BC': (13.500788, 0.35968813799570454),\n",
       " 'BD ': (12083.34891, 0.3749922782916859),\n",
       " 'BN': (21.186, 0.3651185274145938),\n",
       " 'BP': (196.710795, 0.3725348222558456),\n",
       " 'BQ': (115.695865, 0.3668876611761174),\n",
       " 'BR': (3466.745415, 0.374094640781585),\n",
       " 'BZ': (2885.319798, 0.376211243844383),\n",
       " 'CB': (13.32695, 0.37775055805021784),\n",
       " 'CC': (0.5478777, 0.3665150807004323),\n",
       " 'CD ': (85.955376, 0.3635292346687648),\n",
       " 'CF': (1.8504485, 0.367406050093466),\n",
       " 'CH': (0.016318, 0.3782672405025747),\n",
       " 'CL': (1.24754, 0.37657306471010377),\n",
       " 'CR': (0.527325, 0.35228611051878406),\n",
       " 'CS': (62.2516675, 0.37277362672289577),\n",
       " 'CU': (1.274427, 0.37534114864714596),\n",
       " 'CW ': (35.67944, 0.3772898765041537),\n",
       " 'DA': (27.36564, 0.353137425790351),\n",
       " 'DE': (149.18453, 0.3625701653246753),\n",
       " 'DF': (0.500175, 0.36551421649454285),\n",
       " 'DH': (0.240504, 0.3671902453269601),\n",
       " 'DI': (253.8155925, 0.3550252288774408),\n",
       " 'DL': (134.1642, 0.37162996473999704),\n",
       " 'DN': (59.068544, 0.3749922782916859),\n",
       " 'DU': (2.27601, 0.3207517917154871),\n",
       " 'DV': (2.19891, 0.37819979248926816),\n",
       " 'DY': (4.474032, 0.3708655621394996),\n",
       " 'EB': (6.269316, 0.3625606667600181),\n",
       " 'EE': (1.463253, 0.36191183975348784),\n",
       " 'EG': (6845.912275, 0.37731357741606586),\n",
       " 'EH': (0.389376, 0.3593626675299252),\n",
       " 'EL': (46.05744, 0.37829464648148575),\n",
       " 'EP': (224.078075, 0.37429306818140773),\n",
       " 'EU': (8.497392, 0.3699652228963962),\n",
       " 'FC': (13.33752, 0.37580636037706155),\n",
       " 'FD ': (8.151501, 0.3607755013721559),\n",
       " 'FE': (15667.04141, 0.3658514670660312),\n",
       " 'FI': (8.9724075, 0.3657210528731738),\n",
       " 'FL': (7.925430474, 0.3436877494985317),\n",
       " 'FR': (2.73702, 0.365585424163423),\n",
       " 'FS': (0.839852, 0.37680072033409695),\n",
       " 'GB': (40.435794, 0.37726637931071944),\n",
       " 'GE': (363.134821, 0.37718575251296815),\n",
       " 'GF': (14737.27446, 0.37078665888029855),\n",
       " 'GH': (61.028121, 0.3762112438443829),\n",
       " 'GI': (117.6047, 0.3767203577225661),\n",
       " 'GL': (0.121055405, 0.3450719268397208),\n",
       " 'EJ': (0, 0.3773339803468088)}"
      ]
     },
     "execution_count": 26,
     "metadata": {},
     "output_type": "execute_result"
    }
   ],
   "source": [
    "splits"
   ]
  },
  {
   "cell_type": "markdown",
   "id": "09da2dcd",
   "metadata": {},
   "source": [
    "It is very tedious to visually identify the best split, so we'll write some code to find the best one i.e. the one with the minimum score."
   ]
  },
  {
   "cell_type": "code",
   "execution_count": 27,
   "id": "47fd9216",
   "metadata": {},
   "outputs": [
    {
     "data": {
      "text/plain": [
       "('DU', (2.27601, 0.3207517917154871))"
      ]
     },
     "execution_count": 27,
     "metadata": {},
     "output_type": "execute_result"
    }
   ],
   "source": [
    "min_score = 1\n",
    "for k, v in splits.items():\n",
    "    if v[1] < min_score:\n",
    "        min_score = v[1]\n",
    "        min_score_column = k\n",
    "min_score_column, splits[min_score_column]        "
   ]
  },
  {
   "cell_type": "markdown",
   "id": "7f7873f0",
   "metadata": {},
   "source": [
    "According to this, the column `DU` gives the best score at split point `2.27601` overall. We can make a simple model based off this approach. This will be a variant of what is called the [OneR](https://link.springer.com/article/10.1023/A:1022631118932) (One Rule) classifier.\n",
    "\n",
    "Though it's already a small dataset, we'll go through the typicall process of carving out a small validation set to evaluate the model."
   ]
  },
  {
   "cell_type": "code",
   "execution_count": 28,
   "id": "bf2ac36b",
   "metadata": {},
   "outputs": [],
   "source": [
    "from numpy import random\n",
    "from sklearn.model_selection import train_test_split\n",
    "\n",
    "random.seed(42)\n",
    "model_train, model_val = train_test_split(df_train_n,  test_size=0.25)"
   ]
  },
  {
   "cell_type": "code",
   "execution_count": 29,
   "id": "6e8a0141",
   "metadata": {},
   "outputs": [
    {
     "data": {
      "text/plain": [
       "((462, 58), (155, 58))"
      ]
     },
     "execution_count": 29,
     "metadata": {},
     "output_type": "execute_result"
    }
   ],
   "source": [
    "model_train.shape, model_val.shape"
   ]
  },
  {
   "cell_type": "markdown",
   "id": "6b371445",
   "metadata": {},
   "source": [
    "We split each of training and validation sets to independent and dependent variables."
   ]
  },
  {
   "cell_type": "code",
   "execution_count": 30,
   "id": "d5e43124",
   "metadata": {},
   "outputs": [],
   "source": [
    "def x_y(df):\n",
    "    return df[conts + categoricals], df[dependent]\n",
    "\n",
    "model_train_x, model_train_y = x_y(model_train)\n",
    "model_val_x, model_val_y = x_y(model_val)"
   ]
  },
  {
   "cell_type": "markdown",
   "id": "6e5e8f51",
   "metadata": {},
   "source": [
    "We get the best split using our model's training set."
   ]
  },
  {
   "cell_type": "code",
   "execution_count": 31,
   "id": "e5839771",
   "metadata": {},
   "outputs": [
    {
     "data": {
      "text/plain": [
       "{'AB': (0.581128, 0.3500151266645586),\n",
       " 'AF': (2807.2121, 0.3482960305933906),\n",
       " 'AH': (196.117971, 0.37031622929971825),\n",
       " 'AM': (113.124119, 0.3677805771621117),\n",
       " 'AR': (15.870966, 0.36607803019531715),\n",
       " 'AX': (17.877462, 0.3701715230565572),\n",
       " 'AY': (0.038976, 0.372511904676532),\n",
       " 'AZ': (23.626198, 0.3735437010139049),\n",
       " 'BC': (13.500788, 0.35865783745331065),\n",
       " 'BD ': (10563.27538, 0.37017152305655715),\n",
       " 'BN': (20.8329, 0.36082123208699335),\n",
       " 'BP': (282.245337, 0.36079488319104713),\n",
       " 'BQ': (69.65249, 0.36180119785038894),\n",
       " 'BR': (5161.327397, 0.36527011004085347),\n",
       " 'BZ': (2885.319798, 0.36963503519601426),\n",
       " 'CB': (12.931737, 0.37244503925274197),\n",
       " 'CC': (0.61375644, 0.3617285103240913),\n",
       " 'CD ': (85.68186, 0.3631411826566342),\n",
       " 'CF': (1.8504485, 0.36160897217069404),\n",
       " 'CH': (0.012338, 0.3725637613110524),\n",
       " 'CL': (1.24754, 0.3725459888575431),\n",
       " 'CR': (0.527325, 0.34941117879168376),\n",
       " 'CS': (62.2516675, 0.3671272819598272),\n",
       " 'CU': (1.125468, 0.366462462615929),\n",
       " 'CW ': (35.67944, 0.3672847631433858),\n",
       " 'DA': (29.1194, 0.3463316955107069),\n",
       " 'DE': (155.36692, 0.36119828797693376),\n",
       " 'DF': (0.500175, 0.3650918054126017),\n",
       " 'DH': (0.2719335, 0.362288870397952),\n",
       " 'DI': (192.67764, 0.34941117879168376),\n",
       " 'DL': (134.1642, 0.3646293261032984),\n",
       " 'DN': (21.024744, 0.36748569748798376),\n",
       " 'DU': (2.262216, 0.3196074664465314),\n",
       " 'DV': (1.74307, 0.37176172009930203),\n",
       " 'DY': (3.890072, 0.3676248337188574),\n",
       " 'EB': (6.269316, 0.35697558261424034),\n",
       " 'EE': (1.463253, 0.35748838200348587),\n",
       " 'EG': (6845.912275, 0.3720728224305451),\n",
       " 'EH': (1.521, 0.3527183592451205),\n",
       " 'EL': (11.094798, 0.3725637613110524),\n",
       " 'EP': (224.078075, 0.36960833445153146),\n",
       " 'EU': (6.537624, 0.36450134846788734),\n",
       " 'FC': (13.286112, 0.3705960987901368),\n",
       " 'FD ': (8.151501, 0.35395076856984536),\n",
       " 'FE': (28141.50595, 0.3638562145037893),\n",
       " 'FI': (8.9724075, 0.3603920499475795),\n",
       " 'FL': (6.720894827, 0.34161499102282883),\n",
       " 'FR': (2.86346, 0.3523235128808954),\n",
       " 'FS': (0.88049, 0.36984546183970063),\n",
       " 'GB': (34.845292, 0.36994696490448187),\n",
       " 'GE': (771.058022, 0.3735437010139049),\n",
       " 'GF': (14412.89425, 0.36657418543636233),\n",
       " 'GH': (62.47559, 0.3677289926805099),\n",
       " 'GI': (105.603748, 0.3712885732260451),\n",
       " 'GL': (0.121055405, 0.34590901176068733),\n",
       " 'EJ': (0, 0.37298104861476167)}"
      ]
     },
     "execution_count": 31,
     "metadata": {},
     "output_type": "execute_result"
    }
   ],
   "source": [
    "one_r_splits = {col: min_column(model_train, col) for col in model_train_x.columns}\n",
    "one_r_splits"
   ]
  },
  {
   "cell_type": "code",
   "execution_count": 32,
   "id": "bc403eda",
   "metadata": {},
   "outputs": [
    {
     "data": {
      "text/plain": [
       "('DU', (2.262216, 0.3196074664465314))"
      ]
     },
     "execution_count": 32,
     "metadata": {},
     "output_type": "execute_result"
    }
   ],
   "source": [
    "def get_best_split(splits):\n",
    "    min_score = 1\n",
    "    for k, v in splits.items():\n",
    "        if v[1] < min_score:\n",
    "            min_score = v[1]\n",
    "            min_score_column = k\n",
    "    return min_score_column, splits[min_score_column]\n",
    "\n",
    "column, split = get_best_split(one_r_splits)\n",
    "column, split"
   ]
  },
  {
   "cell_type": "markdown",
   "id": "128a2c02",
   "metadata": {},
   "source": [
    "According to this, `DU` still remains the best split at split point `2.262216`. We then use this as a simple OneR model and make predictions for the validation set."
   ]
  },
  {
   "cell_type": "code",
   "execution_count": 33,
   "id": "e6380afa",
   "metadata": {},
   "outputs": [],
   "source": [
    "preds = model_val_x[\"DU\"] <= 2.262216"
   ]
  },
  {
   "cell_type": "markdown",
   "id": "a4960b1b",
   "metadata": {},
   "source": [
    "From this we can calculate the mean absolute error just to see how off the predictions are from the actual values in the validation set."
   ]
  },
  {
   "cell_type": "code",
   "execution_count": 34,
   "id": "f979ab4b",
   "metadata": {},
   "outputs": [
    {
     "data": {
      "text/plain": [
       "0.864516129032258"
      ]
     },
     "execution_count": 34,
     "metadata": {},
     "output_type": "execute_result"
    }
   ],
   "source": [
    "from sklearn.metrics import mean_absolute_error\n",
    "mean_absolute_error(model_val_y, preds)"
   ]
  },
  {
   "cell_type": "markdown",
   "id": "e3b97697",
   "metadata": {},
   "source": [
    "The error is relatively large suggesting that this baseline model is very inaccurate, meaning OneR works poorly for this data.\n",
    "\n",
    "The competition defines the metric used to evaluate submissions [here][1]. I've copied the implementation from [this][2] comment in the discussion. The implementation details of this do not matter for our purposes. We just want to gauge the relative score as we go along.\n",
    "\n",
    "[1]: https://www.kaggle.com/competitions/icr-identify-age-related-conditions/overview/evaluation\n",
    "[2]: https://www.kaggle.com/competitions/icr-identify-age-related-conditions/discussion/410864#2265438"
   ]
  },
  {
   "cell_type": "code",
   "execution_count": 35,
   "id": "659d76b4",
   "metadata": {},
   "outputs": [
    {
     "data": {
      "text/plain": [
       "25.950508209640226"
      ]
     },
     "execution_count": 35,
     "metadata": {},
     "output_type": "execute_result"
    }
   ],
   "source": [
    "def balanced_logarithmic_loss(y_true, y_pred):\n",
    "\n",
    "    # Nc is the number of observations\n",
    "    N_1 = np.sum(y_true == 1, axis=0)\n",
    "    N_0 = np.sum(y_true == 0, axis=0)\n",
    "\n",
    "    # In order to avoid the extremes of the log function, each predicted probability 𝑝 is replaced with max(min(𝑝,1−10−15),10−15)\n",
    "    y_pred = np.maximum(np.minimum(y_pred, 1 - 1e-15), 1e-15)\n",
    "\n",
    "    # balanced logarithmic loss\n",
    "    loss_numerator = - (1/N_0) * np.sum((1 - y_true) * np.log(1-y_pred)) - (1/N_1) * np.sum(y_true * np.log(y_pred))\n",
    "\n",
    "    return loss_numerator / 2\n",
    "\n",
    "balanced_logarithmic_loss(model_val_y.to_numpy(), preds.to_numpy())"
   ]
  },
  {
   "cell_type": "markdown",
   "id": "3b828639",
   "metadata": {},
   "source": [
    "Our local score is 25.95. \n",
    "\n",
    "When submitted to the competition it had a leaderboard score of 25.97."
   ]
  },
  {
   "cell_type": "markdown",
   "id": "089d2691",
   "metadata": {},
   "source": [
    "## Decision Tree\n",
    "\n",
    "After having identified the best split for the training set we can split the data into two groups, then for each group, find the next best split.\n",
    "\n",
    "We split our training data into two groups based on the value of `DU` we identified above then find the best successive splits."
   ]
  },
  {
   "cell_type": "code",
   "execution_count": 36,
   "id": "2242b233",
   "metadata": {},
   "outputs": [
    {
     "data": {
      "text/plain": [
       "((396, 58), (66, 58))"
      ]
     },
     "execution_count": 36,
     "metadata": {},
     "output_type": "execute_result"
    }
   ],
   "source": [
    "lhs = model_train[\"DU\"] <= 2.262216\n",
    "left_group = model_train[lhs]\n",
    "right_group = model_train[~lhs]\n",
    "left_group.shape, right_group.shape"
   ]
  },
  {
   "cell_type": "markdown",
   "id": "3c084e0b",
   "metadata": {},
   "source": [
    "Next, we find the best splits for each group while excluding the `DU` column."
   ]
  },
  {
   "cell_type": "code",
   "execution_count": 37,
   "id": "10f47be1",
   "metadata": {},
   "outputs": [
    {
     "data": {
      "text/plain": [
       "({'AB': (0.363205, 0.2205227532918278),\n",
       "  'AF': (1744.8442, 0.26422367520400314),\n",
       "  'AH': (186.276801, 0.28281828339030296),\n",
       "  'AM': (16.333578, 0.2678889313583875),\n",
       "  'AR': (15.870966, 0.2866140712941824),\n",
       "  'AX': (5.244528, 0.2773853964685262),\n",
       "  'AY': (0.6019965, 0.2874443162878375),\n",
       "  'AZ': (8.186298, 0.2851965412728709),\n",
       "  'BC': (13.500788, 0.254228411937528),\n",
       "  'BD ': (10563.27538, 0.28342483094474047),\n",
       "  'BN': (15.1833, 0.2815221656802702),\n",
       "  'BP': (318.7728, 0.27010283692431253),\n",
       "  'BQ': (11.865775, 0.2794184862139197),\n",
       "  'BR': (5161.327397, 0.2752096532354187),\n",
       "  'BZ': (1703.832302, 0.28396363710150363),\n",
       "  'CB': (12.931737, 0.28032816063022753),\n",
       "  'CC': (0.61375644, 0.2699890428677908),\n",
       "  'CD ': (88.048368, 0.2693262549530457),\n",
       "  'CF': (2.548358, 0.27644641567153155),\n",
       "  'CH': (0.016716, 0.2836102268644721),\n",
       "  'CL': (1.152065, 0.2817474069769845),\n",
       "  'CR': (0.6729, 0.25077109773069917),\n",
       "  'CS': (55.8007175, 0.2831938474420979),\n",
       "  'CU': (1.059264, 0.2763697098465586),\n",
       "  'CW ': (44.301128, 0.28402599531661465),\n",
       "  'DA': (38.83104, 0.24522761095128734),\n",
       "  'DE': (151.051665, 0.2694259159914128),\n",
       "  'DF': (0.500175, 0.2709760197318968),\n",
       "  'DH': (0.240504, 0.26672971464460576),\n",
       "  'DI': (194.021745, 0.24826322692985892),\n",
       "  'DL': (113.1762, 0.25651840267368864),\n",
       "  'DN': (59.068544, 0.27934746754006307),\n",
       "  'DV': (3.04325, 0.28815065732759965),\n",
       "  'DY': (8.91662, 0.2751628343696961),\n",
       "  'EB': (17.691204, 0.28033350160822096),\n",
       "  'EE': (1.443098, 0.2525775803204561),\n",
       "  'EG': (2330.295275, 0.28380953536491194),\n",
       "  'EH': (0.03042, 0.2776192844889819),\n",
       "  'EL': (24.567972, 0.2708402531316478),\n",
       "  'EP': (224.078075, 0.2873304659747274),\n",
       "  'EU': (6.537624, 0.22930957657304885),\n",
       "  'FC': (26.663616, 0.28636197449296075),\n",
       "  'FD ': (5.325489, 0.270404190514022),\n",
       "  'FE': (15667.04141, 0.2782594217449274),\n",
       "  'FI': (7.822947, 0.2738422457069847),\n",
       "  'FL': (0.296625, 0.2858261205083379),\n",
       "  'FR': (2.86346, 0.256970642908978),\n",
       "  'FS': (1.21914, 0.2865342615078834),\n",
       "  'GB': (34.845292, 0.2833625612804258),\n",
       "  'GE': (771.058022, 0.29019098509591523),\n",
       "  'GF': (1571.342004, 0.2846660155262617),\n",
       "  'GH': (43.20081, 0.2795202987385677),\n",
       "  'GI': (8.701076, 0.28277685434606015),\n",
       "  'GL': (0.561, 0.2841560493396353),\n",
       "  'EJ': (0, 0.2877201690556401)},\n",
       " {'AB': (0.235015, 0.4583176806743689),\n",
       "  'AF': (2668.16616, 0.4708737384176801),\n",
       "  'AH': (170.365458, 0.47075213362693974),\n",
       "  'AM': (44.401689, 0.4646573463122341),\n",
       "  'AR': (14.727774, 0.44553059864417316),\n",
       "  'AX': (6.272172, 0.4432056139475385),\n",
       "  'AY': (0.1068795, 0.45870530538108095),\n",
       "  'AZ': (17.89768, 0.4828616963629532),\n",
       "  'BC': (11.733246, 0.4689554885298609),\n",
       "  'BD ': (7678.43794, 0.4785433967084947),\n",
       "  'BN': (19.0674, 0.4789832263550328),\n",
       "  'BP': (752.38011, 0.4789832263550328),\n",
       "  'BQ': (40.66405, 0.46574855874267257),\n",
       "  'BR': (906.218837, 0.47604720080279034),\n",
       "  'BZ': (2165.826792, 0.48286169636295323),\n",
       "  'CB': (64.134798, 0.48142065877400064),\n",
       "  'CC': (0.28939032, 0.47684593482996557),\n",
       "  'CD ': (38.878912, 0.4645771635252842),\n",
       "  'CF': (2.600055, 0.4493931256642845),\n",
       "  'CH': (0.048158, 0.4789832263550328),\n",
       "  'CL': (3.341625, 0.47684593482996557),\n",
       "  'CR': (0.42195, 0.4645771635252842),\n",
       "  'CS': (26.776673, 0.4519701054647674),\n",
       "  'CU': (0.408258, 0.45870530538108095),\n",
       "  'CW ': (45.734856, 0.47684593482996557),\n",
       "  'DA': (31.61424, 0.4323589687324282),\n",
       "  'DE': (38.189785, 0.4789832263550328),\n",
       "  'DF': (2.976129, 0.4789832263550328),\n",
       "  'DH': (0.524736, 0.4689554885298609),\n",
       "  'DI': (148.8737475, 0.4630168573674233),\n",
       "  'DL': (134.1642, 0.4689554885298609),\n",
       "  'DN': (27.275528, 0.4646573463122341),\n",
       "  'DV': (2.08236, 0.4645771635252842),\n",
       "  'DY': (8.184424, 0.47684593482996557),\n",
       "  'EB': (4.926396, 0.4482172507605322),\n",
       "  'EE': (2.450848, 0.4806126011483664),\n",
       "  'EG': (979.1558875, 0.42561760588538),\n",
       "  'EH': (1.521, 0.4323589687324282),\n",
       "  'EL': (52.693641, 0.4784120740720739),\n",
       "  'EP': (98.5989875, 0.45771848227839446),\n",
       "  'EU': (77.304492, 0.45870530538108095),\n",
       "  'FC': (34.489056, 0.4519040862043542),\n",
       "  'FD ': (31.863879, 0.4519701054647674),\n",
       "  'FE': (20522.19526, 0.4389950342373603),\n",
       "  'FI': (8.616819, 0.42587247147903806),\n",
       "  'FL': (23.9606794, 0.42561760588538),\n",
       "  'FR': (2.51111, 0.47075213362693974),\n",
       "  'FS': (1.571336, 0.4689554885298609),\n",
       "  'GB': (9.888026, 0.47075213362693974),\n",
       "  'GE': (218.570828, 0.4645771635252842),\n",
       "  'GF': (840.636873, 0.47684593482996557),\n",
       "  'GH': (17.767775, 0.44553059864417316),\n",
       "  'GI': (90.493248, 0.42561760588538),\n",
       "  'GL': (0.047863636, 0.40470758822889663),\n",
       "  'EJ': (1, 0.4888023515980042)})"
      ]
     },
     "execution_count": 37,
     "metadata": {},
     "output_type": "execute_result"
    }
   ],
   "source": [
    "second_level_columns = [c for c in (conts + categoricals) if c != \"DU\"]\n",
    "left_splits = {col: min_column(left_group, col) for col in second_level_columns}\n",
    "right_splits = {col: min_column(right_group, col) for col in second_level_columns}\n",
    "left_splits, right_splits"
   ]
  },
  {
   "cell_type": "code",
   "execution_count": 38,
   "id": "d7ce883e",
   "metadata": {},
   "outputs": [
    {
     "data": {
      "text/plain": [
       "(('AB', (0.363205, 0.2205227532918278)),\n",
       " ('GL', (0.047863636, 0.40470758822889663)))"
      ]
     },
     "execution_count": 38,
     "metadata": {},
     "output_type": "execute_result"
    }
   ],
   "source": [
    "best_left_split = get_best_split(left_splits)\n",
    "best_right_split = get_best_split(right_splits)\n",
    "best_left_split, best_right_split"
   ]
  },
  {
   "cell_type": "markdown",
   "id": "2fbccd3a",
   "metadata": {},
   "source": [
    "For our left group, column `AB` results in the best split and `GL` for the right group.\n",
    "\n",
    "Combining the three splitting rules by first splitting by `DU`, then the left group by `AB` and the right by `GL` results in a decision tree. Rather than rolling it out by hand, we can use sklearn's built in Decision Tree classifier."
   ]
  },
  {
   "cell_type": "code",
   "execution_count": 39,
   "id": "d5f57ae9",
   "metadata": {},
   "outputs": [],
   "source": [
    "from sklearn.tree import DecisionTreeClassifier, export_graphviz\n",
    "\n",
    "model = DecisionTreeClassifier(max_leaf_nodes=4).fit(model_train_x, model_train_y)"
   ]
  },
  {
   "cell_type": "markdown",
   "id": "4358c733",
   "metadata": {},
   "source": [
    "We write a procedure to visualize the created tree."
   ]
  },
  {
   "cell_type": "code",
   "execution_count": 40,
   "id": "98747ded",
   "metadata": {},
   "outputs": [],
   "source": [
    "import graphviz\n",
    "\n",
    "def draw_tree(tree, df, size=10, ratio=0.6, precision=2, **kwargs):\n",
    "    dot_format = export_graphviz(tree, out_file=None, feature_names=df.columns, filled=True, rounded=True,\n",
    "                                special_characters=True, rotate=False, precision=precision, **kwargs)\n",
    "    return graphviz.Source(re.sub('Tree {', f'Tree {{ size={size}; ratio={ratio}', dot_format))"
   ]
  },
  {
   "cell_type": "code",
   "execution_count": 41,
   "id": "8733a805",
   "metadata": {},
   "outputs": [
    {
     "data": {
      "image/svg+xml": [
       "<?xml version=\"1.0\" encoding=\"UTF-8\" standalone=\"no\"?>\n",
       "<!DOCTYPE svg PUBLIC \"-//W3C//DTD SVG 1.1//EN\"\n",
       " \"http://www.w3.org/Graphics/SVG/1.1/DTD/svg11.dtd\">\n",
       "<!-- Generated by graphviz version 2.43.0 (0)\n",
       " -->\n",
       "<!-- Title: Tree Pages: 1 -->\n",
       "<svg width=\"617pt\" height=\"373pt\"\n",
       " viewBox=\"0.00 0.00 617.03 373.00\" xmlns=\"http://www.w3.org/2000/svg\" xmlns:xlink=\"http://www.w3.org/1999/xlink\">\n",
       "<g id=\"graph0\" class=\"graph\" transform=\"scale(1 1) rotate(0) translate(4 369)\">\n",
       "<title>Tree</title>\n",
       "<polygon fill=\"white\" stroke=\"transparent\" points=\"-4,4 -4,-369 613.03,-369 613.03,4 -4,4\"/>\n",
       "<!-- 0 -->\n",
       "<g id=\"node1\" class=\"node\">\n",
       "<title>0</title>\n",
       "<path fill=\"#ea9b61\" stroke=\"black\" d=\"M468.18,-365C468.18,-365 352.18,-365 352.18,-365 346.18,-365 340.18,-359 340.18,-353 340.18,-353 340.18,-309 340.18,-309 340.18,-303 346.18,-297 352.18,-297 352.18,-297 468.18,-297 468.18,-297 474.18,-297 480.18,-303 480.18,-309 480.18,-309 480.18,-353 480.18,-353 480.18,-359 474.18,-365 468.18,-365\"/>\n",
       "<text text-anchor=\"start\" x=\"373.18\" y=\"-349.8\" font-family=\"Helvetica,sans-Serif\" font-size=\"14.00\">DU ≤ 2.28</text>\n",
       "<text text-anchor=\"start\" x=\"370.68\" y=\"-334.8\" font-family=\"Helvetica,sans-Serif\" font-size=\"14.00\">gini = 0.28</text>\n",
       "<text text-anchor=\"start\" x=\"357.18\" y=\"-319.8\" font-family=\"Helvetica,sans-Serif\" font-size=\"14.00\">samples = 462</text>\n",
       "<text text-anchor=\"start\" x=\"348.18\" y=\"-304.8\" font-family=\"Helvetica,sans-Serif\" font-size=\"14.00\">value = [384, 78]</text>\n",
       "</g>\n",
       "<!-- 1 -->\n",
       "<g id=\"node2\" class=\"node\">\n",
       "<title>1</title>\n",
       "<path fill=\"#e88e4d\" stroke=\"black\" d=\"M360.18,-261C360.18,-261 244.18,-261 244.18,-261 238.18,-261 232.18,-255 232.18,-249 232.18,-249 232.18,-205 232.18,-205 232.18,-199 238.18,-193 244.18,-193 244.18,-193 360.18,-193 360.18,-193 366.18,-193 372.18,-199 372.18,-205 372.18,-205 372.18,-249 372.18,-249 372.18,-255 366.18,-261 360.18,-261\"/>\n",
       "<text text-anchor=\"start\" x=\"261.68\" y=\"-245.8\" font-family=\"Helvetica,sans-Serif\" font-size=\"14.00\">BC ≤ 14.17</text>\n",
       "<text text-anchor=\"start\" x=\"262.68\" y=\"-230.8\" font-family=\"Helvetica,sans-Serif\" font-size=\"14.00\">gini = 0.17</text>\n",
       "<text text-anchor=\"start\" x=\"249.18\" y=\"-215.8\" font-family=\"Helvetica,sans-Serif\" font-size=\"14.00\">samples = 396</text>\n",
       "<text text-anchor=\"start\" x=\"240.18\" y=\"-200.8\" font-family=\"Helvetica,sans-Serif\" font-size=\"14.00\">value = [359, 37]</text>\n",
       "</g>\n",
       "<!-- 0&#45;&gt;1 -->\n",
       "<g id=\"edge1\" class=\"edge\">\n",
       "<title>0&#45;&gt;1</title>\n",
       "<path fill=\"none\" stroke=\"black\" d=\"M375.12,-296.88C365.5,-287.8 354.96,-277.85 344.96,-268.4\"/>\n",
       "<polygon fill=\"black\" stroke=\"black\" points=\"347.12,-265.62 337.44,-261.3 342.31,-270.71 347.12,-265.62\"/>\n",
       "<text text-anchor=\"middle\" x=\"338.16\" y=\"-282.59\" font-family=\"Helvetica,sans-Serif\" font-size=\"14.00\">True</text>\n",
       "</g>\n",
       "<!-- 2 -->\n",
       "<g id=\"node7\" class=\"node\">\n",
       "<title>2</title>\n",
       "<path fill=\"#b2d9f5\" stroke=\"black\" d=\"M570.68,-253.5C570.68,-253.5 463.68,-253.5 463.68,-253.5 457.68,-253.5 451.68,-247.5 451.68,-241.5 451.68,-241.5 451.68,-212.5 451.68,-212.5 451.68,-206.5 457.68,-200.5 463.68,-200.5 463.68,-200.5 570.68,-200.5 570.68,-200.5 576.68,-200.5 582.68,-206.5 582.68,-212.5 582.68,-212.5 582.68,-241.5 582.68,-241.5 582.68,-247.5 576.68,-253.5 570.68,-253.5\"/>\n",
       "<text text-anchor=\"start\" x=\"477.68\" y=\"-238.3\" font-family=\"Helvetica,sans-Serif\" font-size=\"14.00\">gini = 0.47</text>\n",
       "<text text-anchor=\"start\" x=\"468.68\" y=\"-223.3\" font-family=\"Helvetica,sans-Serif\" font-size=\"14.00\">samples = 66</text>\n",
       "<text text-anchor=\"start\" x=\"459.68\" y=\"-208.3\" font-family=\"Helvetica,sans-Serif\" font-size=\"14.00\">value = [25, 41]</text>\n",
       "</g>\n",
       "<!-- 0&#45;&gt;2 -->\n",
       "<g id=\"edge6\" class=\"edge\">\n",
       "<title>0&#45;&gt;2</title>\n",
       "<path fill=\"none\" stroke=\"black\" d=\"M444.92,-296.88C457.15,-285.23 470.88,-272.14 483.06,-260.53\"/>\n",
       "<polygon fill=\"black\" stroke=\"black\" points=\"485.59,-262.95 490.41,-253.52 480.76,-257.89 485.59,-262.95\"/>\n",
       "<text text-anchor=\"middle\" x=\"489.82\" y=\"-274.81\" font-family=\"Helvetica,sans-Serif\" font-size=\"14.00\">False</text>\n",
       "</g>\n",
       "<!-- 3 -->\n",
       "<g id=\"node3\" class=\"node\">\n",
       "<title>3</title>\n",
       "<path fill=\"#e78a47\" stroke=\"black\" d=\"M256.18,-157C256.18,-157 140.18,-157 140.18,-157 134.18,-157 128.18,-151 128.18,-145 128.18,-145 128.18,-101 128.18,-101 128.18,-95 134.18,-89 140.18,-89 140.18,-89 256.18,-89 256.18,-89 262.18,-89 268.18,-95 268.18,-101 268.18,-101 268.18,-145 268.18,-145 268.18,-151 262.18,-157 256.18,-157\"/>\n",
       "<text text-anchor=\"start\" x=\"159.68\" y=\"-141.8\" font-family=\"Helvetica,sans-Serif\" font-size=\"14.00\">DI ≤ 266.3</text>\n",
       "<text text-anchor=\"start\" x=\"158.68\" y=\"-126.8\" font-family=\"Helvetica,sans-Serif\" font-size=\"14.00\">gini = 0.12</text>\n",
       "<text text-anchor=\"start\" x=\"145.18\" y=\"-111.8\" font-family=\"Helvetica,sans-Serif\" font-size=\"14.00\">samples = 381</text>\n",
       "<text text-anchor=\"start\" x=\"136.18\" y=\"-96.8\" font-family=\"Helvetica,sans-Serif\" font-size=\"14.00\">value = [356, 25]</text>\n",
       "</g>\n",
       "<!-- 1&#45;&gt;3 -->\n",
       "<g id=\"edge2\" class=\"edge\">\n",
       "<title>1&#45;&gt;3</title>\n",
       "<path fill=\"none\" stroke=\"black\" d=\"M268.42,-192.88C259.15,-183.8 249.01,-173.85 239.38,-164.4\"/>\n",
       "<polygon fill=\"black\" stroke=\"black\" points=\"241.73,-161.8 232.14,-157.3 236.82,-166.8 241.73,-161.8\"/>\n",
       "</g>\n",
       "<!-- 4 -->\n",
       "<g id=\"node6\" class=\"node\">\n",
       "<title>4</title>\n",
       "<path fill=\"#6ab6ec\" stroke=\"black\" d=\"M456.18,-149.5C456.18,-149.5 358.18,-149.5 358.18,-149.5 352.18,-149.5 346.18,-143.5 346.18,-137.5 346.18,-137.5 346.18,-108.5 346.18,-108.5 346.18,-102.5 352.18,-96.5 358.18,-96.5 358.18,-96.5 456.18,-96.5 456.18,-96.5 462.18,-96.5 468.18,-102.5 468.18,-108.5 468.18,-108.5 468.18,-137.5 468.18,-137.5 468.18,-143.5 462.18,-149.5 456.18,-149.5\"/>\n",
       "<text text-anchor=\"start\" x=\"367.68\" y=\"-134.3\" font-family=\"Helvetica,sans-Serif\" font-size=\"14.00\">gini = 0.32</text>\n",
       "<text text-anchor=\"start\" x=\"358.68\" y=\"-119.3\" font-family=\"Helvetica,sans-Serif\" font-size=\"14.00\">samples = 15</text>\n",
       "<text text-anchor=\"start\" x=\"354.18\" y=\"-104.3\" font-family=\"Helvetica,sans-Serif\" font-size=\"14.00\">value = [3, 12]</text>\n",
       "</g>\n",
       "<!-- 1&#45;&gt;4 -->\n",
       "<g id=\"edge5\" class=\"edge\">\n",
       "<title>1&#45;&gt;4</title>\n",
       "<path fill=\"none\" stroke=\"black\" d=\"M336.27,-192.88C348.28,-181.23 361.75,-168.14 373.7,-156.53\"/>\n",
       "<polygon fill=\"black\" stroke=\"black\" points=\"376.18,-159 380.91,-149.52 371.3,-153.98 376.18,-159\"/>\n",
       "</g>\n",
       "<!-- 5 -->\n",
       "<g id=\"node4\" class=\"node\">\n",
       "<title>5</title>\n",
       "<path fill=\"#e68743\" stroke=\"black\" d=\"M156.18,-52.5C156.18,-52.5 40.18,-52.5 40.18,-52.5 34.18,-52.5 28.18,-46.5 28.18,-40.5 28.18,-40.5 28.18,-11.5 28.18,-11.5 28.18,-5.5 34.18,0.5 40.18,0.5 40.18,0.5 156.18,0.5 156.18,0.5 162.18,0.5 168.18,-5.5 168.18,-11.5 168.18,-11.5 168.18,-40.5 168.18,-40.5 168.18,-46.5 162.18,-52.5 156.18,-52.5\"/>\n",
       "<text text-anchor=\"start\" x=\"58.68\" y=\"-37.3\" font-family=\"Helvetica,sans-Serif\" font-size=\"14.00\">gini = 0.09</text>\n",
       "<text text-anchor=\"start\" x=\"45.18\" y=\"-22.3\" font-family=\"Helvetica,sans-Serif\" font-size=\"14.00\">samples = 370</text>\n",
       "<text text-anchor=\"start\" x=\"36.18\" y=\"-7.3\" font-family=\"Helvetica,sans-Serif\" font-size=\"14.00\">value = [353, 17]</text>\n",
       "</g>\n",
       "<!-- 3&#45;&gt;5 -->\n",
       "<g id=\"edge3\" class=\"edge\">\n",
       "<title>3&#45;&gt;5</title>\n",
       "<path fill=\"none\" stroke=\"black\" d=\"M163.21,-88.77C153.24,-79.31 142.4,-69.01 132.48,-59.58\"/>\n",
       "<polygon fill=\"black\" stroke=\"black\" points=\"134.76,-56.92 125.1,-52.57 129.94,-62 134.76,-56.92\"/>\n",
       "</g>\n",
       "<!-- 6 -->\n",
       "<g id=\"node5\" class=\"node\">\n",
       "<title>6</title>\n",
       "<path fill=\"#83c2ef\" stroke=\"black\" d=\"M344.68,-52.5C344.68,-52.5 255.68,-52.5 255.68,-52.5 249.68,-52.5 243.68,-46.5 243.68,-40.5 243.68,-40.5 243.68,-11.5 243.68,-11.5 243.68,-5.5 249.68,0.5 255.68,0.5 255.68,0.5 344.68,0.5 344.68,0.5 350.68,0.5 356.68,-5.5 356.68,-11.5 356.68,-11.5 356.68,-40.5 356.68,-40.5 356.68,-46.5 350.68,-52.5 344.68,-52.5\"/>\n",
       "<text text-anchor=\"start\" x=\"265.18\" y=\"-37.3\" font-family=\"Helvetica,sans-Serif\" font-size=\"14.00\">gini = 0.4</text>\n",
       "<text text-anchor=\"start\" x=\"251.68\" y=\"-22.3\" font-family=\"Helvetica,sans-Serif\" font-size=\"14.00\">samples = 11</text>\n",
       "<text text-anchor=\"start\" x=\"251.68\" y=\"-7.3\" font-family=\"Helvetica,sans-Serif\" font-size=\"14.00\">value = [3, 8]</text>\n",
       "</g>\n",
       "<!-- 3&#45;&gt;6 -->\n",
       "<g id=\"edge4\" class=\"edge\">\n",
       "<title>3&#45;&gt;6</title>\n",
       "<path fill=\"none\" stroke=\"black\" d=\"M233.86,-88.77C244.02,-79.31 255.08,-69.01 265.2,-59.58\"/>\n",
       "<polygon fill=\"black\" stroke=\"black\" points=\"267.8,-61.95 272.73,-52.57 263.03,-56.83 267.8,-61.95\"/>\n",
       "</g>\n",
       "</g>\n",
       "</svg>\n"
      ],
      "text/plain": [
       "<graphviz.sources.Source at 0x7fd0ff138610>"
      ]
     },
     "execution_count": 41,
     "metadata": {},
     "output_type": "execute_result"
    }
   ],
   "source": [
    "draw_tree(model, model_train_x, size=10)"
   ]
  },
  {
   "cell_type": "markdown",
   "id": "34b83cd7",
   "metadata": {},
   "source": [
    "The decision tree uses a measure of impurity called the gini index. This measures the probability that if one picks two observations from a group, they will not have the same value for the dependent column, i.e. the `Class` in our case. Therefore in the case of perfect classification, where all observations in the group have the same value for `Class`, the gini index is zero. The more impure the group is, the higher the gini index.\n",
    "\n",
    "It is determined by subtracting the sum of squared probabilities of each class of the prediction from 1, and can be implemented as follows."
   ]
  },
  {
   "cell_type": "code",
   "execution_count": 42,
   "id": "23bb8e82",
   "metadata": {},
   "outputs": [],
   "source": [
    "def gini(df, condition):\n",
    "    actual = df.loc[condition, dependent]\n",
    "    return 1 - actual.mean()**2 - (1-actual).mean()**2"
   ]
  },
  {
   "cell_type": "markdown",
   "id": "83db3525",
   "metadata": {},
   "source": [
    "We can replicate the split at the root of the tree above like so:"
   ]
  },
  {
   "cell_type": "code",
   "execution_count": 43,
   "id": "414f2686",
   "metadata": {},
   "outputs": [
    {
     "data": {
      "text/plain": [
       "(0.16940873380267307, 0.47061524334251614)"
      ]
     },
     "execution_count": 43,
     "metadata": {},
     "output_type": "execute_result"
    }
   ],
   "source": [
    "gini(model_train, model_train['DU'] <= 2.28), gini(model_train, model_train['DU'] > 2.28)"
   ]
  },
  {
   "cell_type": "markdown",
   "id": "97766a79",
   "metadata": {},
   "source": [
    "Like with our OneR approach, the decision tree starts with a split on `DU` as the best split, thought it uses a different value for the split. Subsequent splits are different from what we got when we tried it by hand.\n",
    "\n",
    "The non-leaf nodes show which column was used for the split and at what value, the gini score, the number of observations in that group prior to the split as `samples` and `value` hints at the purity of that group, showing how it is partitioned by the dependent variable.\n",
    "\n",
    "We can calculate the mean absolute error of this decision tree:"
   ]
  },
  {
   "cell_type": "code",
   "execution_count": 44,
   "id": "54e4898d",
   "metadata": {},
   "outputs": [
    {
     "data": {
      "text/plain": [
       "0.11612903225806452"
      ]
     },
     "execution_count": 44,
     "metadata": {},
     "output_type": "execute_result"
    }
   ],
   "source": [
    "preds = model.predict(model_val_x)\n",
    "mean_absolute_error(model_val_y, preds)"
   ]
  },
  {
   "cell_type": "markdown",
   "id": "609fe33f",
   "metadata": {},
   "source": [
    "And also calculate the logloss metric:"
   ]
  },
  {
   "cell_type": "code",
   "execution_count": 45,
   "id": "186504b0",
   "metadata": {},
   "outputs": [
    {
     "data": {
      "text/plain": [
       "5.549265256402579"
      ]
     },
     "execution_count": 45,
     "metadata": {},
     "output_type": "execute_result"
    }
   ],
   "source": [
    "balanced_logarithmic_loss(model_val_y.to_numpy(), preds)"
   ]
  },
  {
   "cell_type": "markdown",
   "id": "9a7b11e1",
   "metadata": {},
   "source": [
    "We see that just two additional splits have increased the accuracy on the training data considerably.\n",
    "\n",
    "We can create a bigger tree to see whether it will minimise the error further."
   ]
  },
  {
   "cell_type": "code",
   "execution_count": 46,
   "id": "a2ae94cc",
   "metadata": {},
   "outputs": [
    {
     "data": {
      "image/svg+xml": [
       "<?xml version=\"1.0\" encoding=\"UTF-8\" standalone=\"no\"?>\n",
       "<!DOCTYPE svg PUBLIC \"-//W3C//DTD SVG 1.1//EN\"\n",
       " \"http://www.w3.org/Graphics/SVG/1.1/DTD/svg11.dtd\">\n",
       "<!-- Generated by graphviz version 2.43.0 (0)\n",
       " -->\n",
       "<!-- Title: Tree Pages: 1 -->\n",
       "<svg width=\"791pt\" height=\"477pt\"\n",
       " viewBox=\"0.00 0.00 790.58 477.00\" xmlns=\"http://www.w3.org/2000/svg\" xmlns:xlink=\"http://www.w3.org/1999/xlink\">\n",
       "<g id=\"graph0\" class=\"graph\" transform=\"scale(1 1) rotate(0) translate(4 473)\">\n",
       "<title>Tree</title>\n",
       "<polygon fill=\"white\" stroke=\"transparent\" points=\"-4,4 -4,-473 786.58,-473 786.58,4 -4,4\"/>\n",
       "<!-- 0 -->\n",
       "<g id=\"node1\" class=\"node\">\n",
       "<title>0</title>\n",
       "<path fill=\"#ea9b61\" stroke=\"black\" d=\"M460.65,-469C460.65,-469 344.65,-469 344.65,-469 338.65,-469 332.65,-463 332.65,-457 332.65,-457 332.65,-413 332.65,-413 332.65,-407 338.65,-401 344.65,-401 344.65,-401 460.65,-401 460.65,-401 466.65,-401 472.65,-407 472.65,-413 472.65,-413 472.65,-457 472.65,-457 472.65,-463 466.65,-469 460.65,-469\"/>\n",
       "<text text-anchor=\"start\" x=\"365.65\" y=\"-453.8\" font-family=\"Helvetica,sans-Serif\" font-size=\"14.00\">DU ≤ 2.28</text>\n",
       "<text text-anchor=\"start\" x=\"363.15\" y=\"-438.8\" font-family=\"Helvetica,sans-Serif\" font-size=\"14.00\">gini = 0.28</text>\n",
       "<text text-anchor=\"start\" x=\"349.65\" y=\"-423.8\" font-family=\"Helvetica,sans-Serif\" font-size=\"14.00\">samples = 462</text>\n",
       "<text text-anchor=\"start\" x=\"340.65\" y=\"-408.8\" font-family=\"Helvetica,sans-Serif\" font-size=\"14.00\">value = [384, 78]</text>\n",
       "</g>\n",
       "<!-- 1 -->\n",
       "<g id=\"node2\" class=\"node\">\n",
       "<title>1</title>\n",
       "<path fill=\"#e88e4d\" stroke=\"black\" d=\"M319.65,-365C319.65,-365 203.65,-365 203.65,-365 197.65,-365 191.65,-359 191.65,-353 191.65,-353 191.65,-309 191.65,-309 191.65,-303 197.65,-297 203.65,-297 203.65,-297 319.65,-297 319.65,-297 325.65,-297 331.65,-303 331.65,-309 331.65,-309 331.65,-353 331.65,-353 331.65,-359 325.65,-365 319.65,-365\"/>\n",
       "<text text-anchor=\"start\" x=\"220.65\" y=\"-349.8\" font-family=\"Helvetica,sans-Serif\" font-size=\"14.00\">DA ≤ 31.55</text>\n",
       "<text text-anchor=\"start\" x=\"222.15\" y=\"-334.8\" font-family=\"Helvetica,sans-Serif\" font-size=\"14.00\">gini = 0.17</text>\n",
       "<text text-anchor=\"start\" x=\"208.65\" y=\"-319.8\" font-family=\"Helvetica,sans-Serif\" font-size=\"14.00\">samples = 396</text>\n",
       "<text text-anchor=\"start\" x=\"199.65\" y=\"-304.8\" font-family=\"Helvetica,sans-Serif\" font-size=\"14.00\">value = [359, 37]</text>\n",
       "</g>\n",
       "<!-- 0&#45;&gt;1 -->\n",
       "<g id=\"edge1\" class=\"edge\">\n",
       "<title>0&#45;&gt;1</title>\n",
       "<path fill=\"none\" stroke=\"black\" d=\"M356.87,-400.88C343.82,-391.44 329.47,-381.06 315.96,-371.29\"/>\n",
       "<polygon fill=\"black\" stroke=\"black\" points=\"317.83,-368.32 307.68,-365.3 313.73,-374 317.83,-368.32\"/>\n",
       "<text text-anchor=\"middle\" x=\"311.64\" y=\"-386.28\" font-family=\"Helvetica,sans-Serif\" font-size=\"14.00\">True</text>\n",
       "</g>\n",
       "<!-- 8 -->\n",
       "<g id=\"node9\" class=\"node\">\n",
       "<title>8</title>\n",
       "<path fill=\"#b2d9f5\" stroke=\"black\" d=\"M597.15,-357.5C597.15,-357.5 490.15,-357.5 490.15,-357.5 484.15,-357.5 478.15,-351.5 478.15,-345.5 478.15,-345.5 478.15,-316.5 478.15,-316.5 478.15,-310.5 484.15,-304.5 490.15,-304.5 490.15,-304.5 597.15,-304.5 597.15,-304.5 603.15,-304.5 609.15,-310.5 609.15,-316.5 609.15,-316.5 609.15,-345.5 609.15,-345.5 609.15,-351.5 603.15,-357.5 597.15,-357.5\"/>\n",
       "<text text-anchor=\"start\" x=\"504.15\" y=\"-342.3\" font-family=\"Helvetica,sans-Serif\" font-size=\"14.00\">gini = 0.47</text>\n",
       "<text text-anchor=\"start\" x=\"495.15\" y=\"-327.3\" font-family=\"Helvetica,sans-Serif\" font-size=\"14.00\">samples = 66</text>\n",
       "<text text-anchor=\"start\" x=\"486.15\" y=\"-312.3\" font-family=\"Helvetica,sans-Serif\" font-size=\"14.00\">value = [25, 41]</text>\n",
       "</g>\n",
       "<!-- 0&#45;&gt;8 -->\n",
       "<g id=\"edge8\" class=\"edge\">\n",
       "<title>0&#45;&gt;8</title>\n",
       "<path fill=\"none\" stroke=\"black\" d=\"M448.43,-400.88C465,-388.9 483.66,-375.4 500.04,-363.55\"/>\n",
       "<polygon fill=\"black\" stroke=\"black\" points=\"502.32,-366.22 508.37,-357.52 498.22,-360.55 502.32,-366.22\"/>\n",
       "<text text-anchor=\"middle\" x=\"504.41\" y=\"-378.5\" font-family=\"Helvetica,sans-Serif\" font-size=\"14.00\">False</text>\n",
       "</g>\n",
       "<!-- 2 -->\n",
       "<g id=\"node3\" class=\"node\">\n",
       "<title>2</title>\n",
       "<path fill=\"#f7d9c4\" stroke=\"black\" d=\"M174.15,-253.5C174.15,-253.5 67.15,-253.5 67.15,-253.5 61.15,-253.5 55.15,-247.5 55.15,-241.5 55.15,-241.5 55.15,-212.5 55.15,-212.5 55.15,-206.5 61.15,-200.5 67.15,-200.5 67.15,-200.5 174.15,-200.5 174.15,-200.5 180.15,-200.5 186.15,-206.5 186.15,-212.5 186.15,-212.5 186.15,-241.5 186.15,-241.5 186.15,-247.5 180.15,-253.5 174.15,-253.5\"/>\n",
       "<text text-anchor=\"start\" x=\"81.15\" y=\"-238.3\" font-family=\"Helvetica,sans-Serif\" font-size=\"14.00\">gini = 0.48</text>\n",
       "<text text-anchor=\"start\" x=\"72.15\" y=\"-223.3\" font-family=\"Helvetica,sans-Serif\" font-size=\"14.00\">samples = 51</text>\n",
       "<text text-anchor=\"start\" x=\"63.15\" y=\"-208.3\" font-family=\"Helvetica,sans-Serif\" font-size=\"14.00\">value = [30, 21]</text>\n",
       "</g>\n",
       "<!-- 1&#45;&gt;2 -->\n",
       "<g id=\"edge2\" class=\"edge\">\n",
       "<title>1&#45;&gt;2</title>\n",
       "<path fill=\"none\" stroke=\"black\" d=\"M215.87,-296.88C199.3,-284.9 180.64,-271.4 164.26,-259.55\"/>\n",
       "<polygon fill=\"black\" stroke=\"black\" points=\"166.08,-256.55 155.93,-253.52 161.98,-262.22 166.08,-256.55\"/>\n",
       "</g>\n",
       "<!-- 3 -->\n",
       "<g id=\"node4\" class=\"node\">\n",
       "<title>3</title>\n",
       "<path fill=\"#e68743\" stroke=\"black\" d=\"M460.65,-261C460.65,-261 344.65,-261 344.65,-261 338.65,-261 332.65,-255 332.65,-249 332.65,-249 332.65,-205 332.65,-205 332.65,-199 338.65,-193 344.65,-193 344.65,-193 460.65,-193 460.65,-193 466.65,-193 472.65,-199 472.65,-205 472.65,-205 472.65,-249 472.65,-249 472.65,-255 466.65,-261 460.65,-261\"/>\n",
       "<text text-anchor=\"start\" x=\"366.15\" y=\"-245.8\" font-family=\"Helvetica,sans-Serif\" font-size=\"14.00\">CC ≤ 0.55</text>\n",
       "<text text-anchor=\"start\" x=\"363.15\" y=\"-230.8\" font-family=\"Helvetica,sans-Serif\" font-size=\"14.00\">gini = 0.09</text>\n",
       "<text text-anchor=\"start\" x=\"349.65\" y=\"-215.8\" font-family=\"Helvetica,sans-Serif\" font-size=\"14.00\">samples = 345</text>\n",
       "<text text-anchor=\"start\" x=\"340.65\" y=\"-200.8\" font-family=\"Helvetica,sans-Serif\" font-size=\"14.00\">value = [329, 16]</text>\n",
       "</g>\n",
       "<!-- 1&#45;&gt;3 -->\n",
       "<g id=\"edge3\" class=\"edge\">\n",
       "<title>1&#45;&gt;3</title>\n",
       "<path fill=\"none\" stroke=\"black\" d=\"M307.43,-296.88C320.48,-287.44 334.82,-277.06 348.33,-267.29\"/>\n",
       "<polygon fill=\"black\" stroke=\"black\" points=\"350.57,-270 356.62,-261.3 346.46,-264.32 350.57,-270\"/>\n",
       "</g>\n",
       "<!-- 4 -->\n",
       "<g id=\"node5\" class=\"node\">\n",
       "<title>4</title>\n",
       "<path fill=\"#ea995f\" stroke=\"black\" d=\"M318.15,-149.5C318.15,-149.5 211.15,-149.5 211.15,-149.5 205.15,-149.5 199.15,-143.5 199.15,-137.5 199.15,-137.5 199.15,-108.5 199.15,-108.5 199.15,-102.5 205.15,-96.5 211.15,-96.5 211.15,-96.5 318.15,-96.5 318.15,-96.5 324.15,-96.5 330.15,-102.5 330.15,-108.5 330.15,-108.5 330.15,-137.5 330.15,-137.5 330.15,-143.5 324.15,-149.5 318.15,-149.5\"/>\n",
       "<text text-anchor=\"start\" x=\"225.15\" y=\"-134.3\" font-family=\"Helvetica,sans-Serif\" font-size=\"14.00\">gini = 0.27</text>\n",
       "<text text-anchor=\"start\" x=\"216.15\" y=\"-119.3\" font-family=\"Helvetica,sans-Serif\" font-size=\"14.00\">samples = 68</text>\n",
       "<text text-anchor=\"start\" x=\"207.15\" y=\"-104.3\" font-family=\"Helvetica,sans-Serif\" font-size=\"14.00\">value = [57, 11]</text>\n",
       "</g>\n",
       "<!-- 3&#45;&gt;4 -->\n",
       "<g id=\"edge4\" class=\"edge\">\n",
       "<title>3&#45;&gt;4</title>\n",
       "<path fill=\"none\" stroke=\"black\" d=\"M357.84,-192.88C341.62,-180.9 323.36,-167.4 307.33,-155.55\"/>\n",
       "<polygon fill=\"black\" stroke=\"black\" points=\"309.3,-152.65 299.17,-149.52 305.14,-158.28 309.3,-152.65\"/>\n",
       "</g>\n",
       "<!-- 5 -->\n",
       "<g id=\"node6\" class=\"node\">\n",
       "<title>5</title>\n",
       "<path fill=\"#e5833d\" stroke=\"black\" d=\"M592.15,-157C592.15,-157 485.15,-157 485.15,-157 479.15,-157 473.15,-151 473.15,-145 473.15,-145 473.15,-101 473.15,-101 473.15,-95 479.15,-89 485.15,-89 485.15,-89 592.15,-89 592.15,-89 598.15,-89 604.15,-95 604.15,-101 604.15,-101 604.15,-145 604.15,-145 604.15,-151 598.15,-157 592.15,-157\"/>\n",
       "<text text-anchor=\"start\" x=\"489.65\" y=\"-141.8\" font-family=\"Helvetica,sans-Serif\" font-size=\"14.00\">AF ≤ 4622.18</text>\n",
       "<text text-anchor=\"start\" x=\"499.15\" y=\"-126.8\" font-family=\"Helvetica,sans-Serif\" font-size=\"14.00\">gini = 0.04</text>\n",
       "<text text-anchor=\"start\" x=\"485.65\" y=\"-111.8\" font-family=\"Helvetica,sans-Serif\" font-size=\"14.00\">samples = 277</text>\n",
       "<text text-anchor=\"start\" x=\"481.15\" y=\"-96.8\" font-family=\"Helvetica,sans-Serif\" font-size=\"14.00\">value = [272, 5]</text>\n",
       "</g>\n",
       "<!-- 3&#45;&gt;5 -->\n",
       "<g id=\"edge5\" class=\"edge\">\n",
       "<title>3&#45;&gt;5</title>\n",
       "<path fill=\"none\" stroke=\"black\" d=\"M446.8,-192.88C459.27,-183.53 472.97,-173.26 485.89,-163.57\"/>\n",
       "<polygon fill=\"black\" stroke=\"black\" points=\"488.35,-166.1 494.25,-157.3 484.15,-160.5 488.35,-166.1\"/>\n",
       "</g>\n",
       "<!-- 6 -->\n",
       "<g id=\"node7\" class=\"node\">\n",
       "<title>6</title>\n",
       "<path fill=\"#e58139\" stroke=\"black\" d=\"M458.15,-52.5C458.15,-52.5 351.15,-52.5 351.15,-52.5 345.15,-52.5 339.15,-46.5 339.15,-40.5 339.15,-40.5 339.15,-11.5 339.15,-11.5 339.15,-5.5 345.15,0.5 351.15,0.5 351.15,0.5 458.15,0.5 458.15,0.5 464.15,0.5 470.15,-5.5 470.15,-11.5 470.15,-11.5 470.15,-40.5 470.15,-40.5 470.15,-46.5 464.15,-52.5 458.15,-52.5\"/>\n",
       "<text text-anchor=\"start\" x=\"369.65\" y=\"-37.3\" font-family=\"Helvetica,sans-Serif\" font-size=\"14.00\">gini = 0.0</text>\n",
       "<text text-anchor=\"start\" x=\"351.65\" y=\"-22.3\" font-family=\"Helvetica,sans-Serif\" font-size=\"14.00\">samples = 227</text>\n",
       "<text text-anchor=\"start\" x=\"347.15\" y=\"-7.3\" font-family=\"Helvetica,sans-Serif\" font-size=\"14.00\">value = [227, 0]</text>\n",
       "</g>\n",
       "<!-- 5&#45;&gt;6 -->\n",
       "<g id=\"edge6\" class=\"edge\">\n",
       "<title>5&#45;&gt;6</title>\n",
       "<path fill=\"none\" stroke=\"black\" d=\"M491.78,-88.77C477.91,-78.94 462.76,-68.2 449.05,-58.48\"/>\n",
       "<polygon fill=\"black\" stroke=\"black\" points=\"450.9,-55.5 440.72,-52.57 446.85,-61.21 450.9,-55.5\"/>\n",
       "</g>\n",
       "<!-- 7 -->\n",
       "<g id=\"node8\" class=\"node\">\n",
       "<title>7</title>\n",
       "<path fill=\"#e88f4f\" stroke=\"black\" d=\"M719.65,-52.5C719.65,-52.5 621.65,-52.5 621.65,-52.5 615.65,-52.5 609.65,-46.5 609.65,-40.5 609.65,-40.5 609.65,-11.5 609.65,-11.5 609.65,-5.5 615.65,0.5 621.65,0.5 621.65,0.5 719.65,0.5 719.65,0.5 725.65,0.5 731.65,-5.5 731.65,-11.5 731.65,-11.5 731.65,-40.5 731.65,-40.5 731.65,-46.5 725.65,-52.5 719.65,-52.5\"/>\n",
       "<text text-anchor=\"start\" x=\"631.15\" y=\"-37.3\" font-family=\"Helvetica,sans-Serif\" font-size=\"14.00\">gini = 0.18</text>\n",
       "<text text-anchor=\"start\" x=\"622.15\" y=\"-22.3\" font-family=\"Helvetica,sans-Serif\" font-size=\"14.00\">samples = 50</text>\n",
       "<text text-anchor=\"start\" x=\"617.65\" y=\"-7.3\" font-family=\"Helvetica,sans-Serif\" font-size=\"14.00\">value = [45, 5]</text>\n",
       "</g>\n",
       "<!-- 5&#45;&gt;7 -->\n",
       "<g id=\"edge7\" class=\"edge\">\n",
       "<title>5&#45;&gt;7</title>\n",
       "<path fill=\"none\" stroke=\"black\" d=\"M584.81,-88.77C598.48,-78.94 613.4,-68.2 626.91,-58.48\"/>\n",
       "<polygon fill=\"black\" stroke=\"black\" points=\"629.04,-61.25 635.12,-52.57 624.96,-55.57 629.04,-61.25\"/>\n",
       "</g>\n",
       "</g>\n",
       "</svg>\n"
      ],
      "text/plain": [
       "<graphviz.sources.Source at 0x7fd0c35af280>"
      ]
     },
     "execution_count": 46,
     "metadata": {},
     "output_type": "execute_result"
    }
   ],
   "source": [
    "model = DecisionTreeClassifier(min_samples_leaf=50)\n",
    "model.fit(model_train_x, model_train_y)\n",
    "draw_tree(model, model_train_x, size=12)"
   ]
  },
  {
   "cell_type": "markdown",
   "id": "222abfed",
   "metadata": {},
   "source": [
    "By allowing the tree to have a greater number of leaf nodes, we've allowed it to reach a grouping with a gini score of zero, which is a perfect classification. However, the larger a decision tree is, the more it tends to overfit the training data and may not generalize well to the test data. \n",
    "\n",
    "We evaluate model as well:"
   ]
  },
  {
   "cell_type": "code",
   "execution_count": 47,
   "id": "df791e8f",
   "metadata": {},
   "outputs": [
    {
     "data": {
      "text/plain": [
       "(0.12903225806451613, 8.450509680016193)"
      ]
     },
     "execution_count": 47,
     "metadata": {},
     "output_type": "execute_result"
    }
   ],
   "source": [
    "preds = model.predict(model_val_x)\n",
    "\n",
    "mean_absolute_error(model_val_y, preds), balanced_logarithmic_loss(model_val_y.to_numpy(), preds)"
   ]
  },
  {
   "cell_type": "markdown",
   "id": "138efb67",
   "metadata": {},
   "source": [
    "We find that it has a slightly higher error than the smaller tree maybe hinting at overfitting. When submitted to the competition, it had a score of 1.72 on the public leaderboard, an improvement over 25.97 of the OneR model."
   ]
  },
  {
   "cell_type": "markdown",
   "id": "a8f0282b",
   "metadata": {},
   "source": [
    "## Random Forests\n",
    "\n",
    "As mentioned, making the decision tree bigger will result in making it match the training data more closely, resulting in overfitting.\n",
    "\n",
    "Instead of using bigger trees, we can use more trees. That's the insight from Leo Breiman who helped formulate the technique. By training more trees, each trained on a random uncorrelated subset of the training data and averaging their results, we get a better result because the average of uncorrelated errors is close to zero meaning the prediction is closer to the true value.\n",
    "\n",
    "To demonstrate the technique, we can train a tree on a random subset of the data by:"
   ]
  },
  {
   "cell_type": "code",
   "execution_count": 48,
   "id": "4dc8a893",
   "metadata": {},
   "outputs": [],
   "source": [
    "def get_tree(proportion=0.75):\n",
    "    n = len(model_train_y)\n",
    "    indexes = random.choice(n, int(n*proportion))\n",
    "    return DecisionTreeClassifier(min_samples_leaf=5).fit(model_train_x.iloc[indexes], model_train_y.iloc[indexes])   "
   ]
  },
  {
   "cell_type": "markdown",
   "id": "d76375ee",
   "metadata": {},
   "source": [
    "Now we can train as many trees as needed and average their results."
   ]
  },
  {
   "cell_type": "code",
   "execution_count": 49,
   "id": "e47c95d2",
   "metadata": {},
   "outputs": [
    {
     "data": {
      "text/plain": [
       "[DecisionTreeClassifier(min_samples_leaf=5),\n",
       " DecisionTreeClassifier(min_samples_leaf=5),\n",
       " DecisionTreeClassifier(min_samples_leaf=5),\n",
       " DecisionTreeClassifier(min_samples_leaf=5),\n",
       " DecisionTreeClassifier(min_samples_leaf=5)]"
      ]
     },
     "execution_count": 49,
     "metadata": {},
     "output_type": "execute_result"
    }
   ],
   "source": [
    "trees = [get_tree() for _ in range(100)]\n",
    "trees[:5]"
   ]
  },
  {
   "cell_type": "code",
   "execution_count": 50,
   "id": "86979b56",
   "metadata": {},
   "outputs": [],
   "source": [
    "all_preds = [t.predict(model_val_x) for t in trees]\n",
    "avg_preds = np.stack(all_preds).mean(axis=0)"
   ]
  },
  {
   "cell_type": "code",
   "execution_count": 51,
   "id": "c0b593b6",
   "metadata": {},
   "outputs": [
    {
     "data": {
      "text/plain": [
       "(0.1665806451612903, 0.4201347888809029)"
      ]
     },
     "execution_count": 51,
     "metadata": {},
     "output_type": "execute_result"
    }
   ],
   "source": [
    "mean_absolute_error(model_val_y, avg_preds), balanced_logarithmic_loss(model_val_y.to_numpy(), avg_preds)"
   ]
  },
  {
   "cell_type": "markdown",
   "id": "3f8eaf40",
   "metadata": {},
   "source": [
    "The competition metric gives the best result yet of 0.42. This is the same score it received when submitted to the public leaderboard."
   ]
  },
  {
   "cell_type": "markdown",
   "id": "3a389b5d",
   "metadata": {},
   "source": [
    "`sklearn`'s `RandomForestClassifier` does a similar process, but in addition to selecting a random subset of rows, it also selects a random subset of columns for each tree."
   ]
  },
  {
   "cell_type": "code",
   "execution_count": 52,
   "id": "ebc2f92f",
   "metadata": {},
   "outputs": [
    {
     "data": {
      "text/plain": [
       "(0.05806451612903226, 5.180816459236603)"
      ]
     },
     "execution_count": 52,
     "metadata": {},
     "output_type": "execute_result"
    }
   ],
   "source": [
    "from sklearn.ensemble import RandomForestClassifier\n",
    "\n",
    "rf = RandomForestClassifier(n_estimators=100, min_samples_leaf=5)\n",
    "rf.fit(model_train_x, model_train_y)\n",
    "\n",
    "preds =  rf.predict(model_val_x)\n",
    "\n",
    "\n",
    "mean_absolute_error(model_val_y, preds), balanced_logarithmic_loss(model_val_y.to_numpy(), preds)"
   ]
  },
  {
   "cell_type": "markdown",
   "id": "e9132b84",
   "metadata": {},
   "source": [
    "Although locally the score seems to be worse by the competition metric, on the public leaderboard it gave a score of 0.4, slightly better than the handrolled random forest approach.\n",
    "\n",
    "The random forest model can also tell us which of the features were most important in making the predictions. We can plot the relevant feature importance as follows:"
   ]
  },
  {
   "cell_type": "code",
   "execution_count": 53,
   "id": "5ca41d86",
   "metadata": {},
   "outputs": [
    {
     "data": {
      "image/png": "[encoded data removed]",
      "text/plain": [
       "<Figure size 800x2000 with 1 Axes>"
      ]
     },
     "metadata": {},
     "output_type": "display_data"
    }
   ],
   "source": [
    "pd.DataFrame(dict(cols=model_train_x.columns, imp=rf.feature_importances_)).plot('cols', 'imp', 'barh', figsize=(8, 20));"
   ]
  },
  {
   "cell_type": "markdown",
   "id": "65d6ddde",
   "metadata": {},
   "source": [
    "From this, we can see that `DU` is the column that most heavily influences the final prediction. Since the data is anonymized, we cannot tell what trait `DU` represents but it seems to noticeably determine the outcome."
   ]
  },
  {
   "cell_type": "markdown",
   "id": "829e5e24",
   "metadata": {},
   "source": [
    "## Conclusion\n",
    "\n",
    "In this notebook, we started with a very simple model, the [OneR model][3], that makes predictions based on just a single feature of the dataset. This kind of classifier was actually found to perform competitively with other machine learning methods of the early 90s.\n",
    "\n",
    "We improved on the OneR model by performing splits based on several features instead of one, and thus implemented a decision tree. However, the bigger decision trees are, the more they tend to overfit training data.\n",
    "\n",
    "Next, we saw how we could improve on a single decision tree by using many trees together working in an ensemble, each making predictions and then combining their results by averaging their predictions, which gave the best score yet.\n",
    "\n",
    "However, there's still more that can be done to get better predictions for this competition. For example, since the training dataset is small, we can use [cross-validation][4] instead of using a single train/test split to get the model to generalize better. But for our purposes, we can conclude here. \n",
    "\n",
    "\n",
    "[3]: https://link.springer.com/article/10.1023/A:1022631118932\n",
    "[4]: https://scikit-learn.org/stable/modules/cross_validation.html\n",
    "\n",
    "Inspired  by Jeremy Howard's excellent notebook [here](https://www.kaggle.com/code/jhoward/how-random-forests-really-work/)."
   ]
  },
  {
   "cell_type": "code",
   "execution_count": null,
   "id": "b8628527",
   "metadata": {},
   "outputs": [],
   "source": []
  }
 ],
 "metadata": {
  "kernelspec": {
   "display_name": "Python 3 (ipykernel)",
   "language": "python",
   "name": "python3"
  },
  "language_info": {
   "codemirror_mode": {
    "name": "ipython",
    "version": 3
   },
   "file_extension": ".py",
   "mimetype": "text/x-python",
   "name": "python",
   "nbconvert_exporter": "python",
   "pygments_lexer": "ipython3",
   "version": "3.8.10"
  }
 },
 "nbformat": 4,
 "nbformat_minor": 5
}
