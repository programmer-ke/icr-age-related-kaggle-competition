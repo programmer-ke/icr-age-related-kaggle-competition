{
 "cells": [
  {
   "cell_type": "markdown",
   "id": "b1467bdc",
   "metadata": {},
   "source": [
    "# Baseline model"
   ]
  },
  {
   "cell_type": "markdown",
   "id": "d4218305",
   "metadata": {},
   "source": [
    "## Imports"
   ]
  },
  {
   "cell_type": "code",
   "execution_count": 1,
   "id": "782631be",
   "metadata": {},
   "outputs": [],
   "source": [
    "from fastai.imports import *\n"
   ]
  },
  {
   "cell_type": "markdown",
   "id": "173d13e9",
   "metadata": {},
   "source": [
    "## Data Processing\n",
    "\n",
    "Get the dataset appropriately whether we're in kaggle or not"
   ]
  },
  {
   "cell_type": "code",
   "execution_count": 2,
   "id": "7e366e70",
   "metadata": {},
   "outputs": [
    {
     "name": "stdout",
     "output_type": "stream",
     "text": [
      "icr-identify-age-related-conditions.zip: Skipping, found more recently modified local copy (use --force to force download)\n"
     ]
    }
   ],
   "source": [
    "import os\n",
    "competition_name = \"icr-identify-age-related-conditions\"\n",
    "\n",
    "is_kaggle = os.environ.get('KAGGLE_KERNEL_RUN_TYPE', '')\n",
    "if is_kaggle:\n",
    "    path = Path(f\"/kaggle/input/{competition_name}\")\n",
    "else:\n",
    "    import zipfile, kaggle\n",
    "    path = Path.home() / '.kaggle' / 'input' / competition_name\n",
    "    kaggle.api.competition_download_cli(competition_name, path=path.parent)\n",
    "    zipfile.ZipFile(f'{path}.zip').extractall(path)"
   ]
  },
  {
   "cell_type": "markdown",
   "id": "c3172fa6",
   "metadata": {},
   "source": [
    "Load the datasets."
   ]
  },
  {
   "cell_type": "code",
   "execution_count": 3,
   "id": "72c643d8",
   "metadata": {},
   "outputs": [
    {
     "data": {
      "text/plain": [
       "(#4) [Path('/home/krm/.kaggle/input/icr-identify-age-related-conditions/test.csv'),Path('/home/krm/.kaggle/input/icr-identify-age-related-conditions/greeks.csv'),Path('/home/krm/.kaggle/input/icr-identify-age-related-conditions/train.csv'),Path('/home/krm/.kaggle/input/icr-identify-age-related-conditions/sample_submission.csv')]"
      ]
     },
     "execution_count": 3,
     "metadata": {},
     "output_type": "execute_result"
    }
   ],
   "source": [
    "path.ls()"
   ]
  },
  {
   "cell_type": "code",
   "execution_count": 4,
   "id": "9578190d",
   "metadata": {},
   "outputs": [
    {
     "data": {
      "text/html": [
       "<div>\n",
       "<style scoped>\n",
       "    .dataframe tbody tr th:only-of-type {\n",
       "        vertical-align: middle;\n",
       "    }\n",
       "\n",
       "    .dataframe tbody tr th {\n",
       "        vertical-align: top;\n",
       "    }\n",
       "\n",
       "    .dataframe thead th {\n",
       "        text-align: right;\n",
       "    }\n",
       "</style>\n",
       "<table border=\"1\" class=\"dataframe\">\n",
       "  <thead>\n",
       "    <tr style=\"text-align: right;\">\n",
       "      <th></th>\n",
       "      <th>Id</th>\n",
       "      <th>AB</th>\n",
       "      <th>AF</th>\n",
       "      <th>AH</th>\n",
       "      <th>AM</th>\n",
       "      <th>AR</th>\n",
       "      <th>AX</th>\n",
       "      <th>AY</th>\n",
       "      <th>AZ</th>\n",
       "      <th>BC</th>\n",
       "      <th>...</th>\n",
       "      <th>FL</th>\n",
       "      <th>FR</th>\n",
       "      <th>FS</th>\n",
       "      <th>GB</th>\n",
       "      <th>GE</th>\n",
       "      <th>GF</th>\n",
       "      <th>GH</th>\n",
       "      <th>GI</th>\n",
       "      <th>GL</th>\n",
       "      <th>Class</th>\n",
       "    </tr>\n",
       "  </thead>\n",
       "  <tbody>\n",
       "    <tr>\n",
       "      <th>0</th>\n",
       "      <td>000ff2bfdfe9</td>\n",
       "      <td>0.209377</td>\n",
       "      <td>3109.03329</td>\n",
       "      <td>85.200147</td>\n",
       "      <td>22.394407</td>\n",
       "      <td>8.138688</td>\n",
       "      <td>0.699861</td>\n",
       "      <td>0.025578</td>\n",
       "      <td>9.812214</td>\n",
       "      <td>5.555634</td>\n",
       "      <td>...</td>\n",
       "      <td>7.298162</td>\n",
       "      <td>1.73855</td>\n",
       "      <td>0.094822</td>\n",
       "      <td>11.339138</td>\n",
       "      <td>72.611063</td>\n",
       "      <td>2003.810319</td>\n",
       "      <td>22.136229</td>\n",
       "      <td>69.834944</td>\n",
       "      <td>0.120343</td>\n",
       "      <td>1</td>\n",
       "    </tr>\n",
       "    <tr>\n",
       "      <th>1</th>\n",
       "      <td>007255e47698</td>\n",
       "      <td>0.145282</td>\n",
       "      <td>978.76416</td>\n",
       "      <td>85.200147</td>\n",
       "      <td>36.968889</td>\n",
       "      <td>8.138688</td>\n",
       "      <td>3.632190</td>\n",
       "      <td>0.025578</td>\n",
       "      <td>13.517790</td>\n",
       "      <td>1.229900</td>\n",
       "      <td>...</td>\n",
       "      <td>0.173229</td>\n",
       "      <td>0.49706</td>\n",
       "      <td>0.568932</td>\n",
       "      <td>9.292698</td>\n",
       "      <td>72.611063</td>\n",
       "      <td>27981.562750</td>\n",
       "      <td>29.135430</td>\n",
       "      <td>32.131996</td>\n",
       "      <td>21.978000</td>\n",
       "      <td>0</td>\n",
       "    </tr>\n",
       "    <tr>\n",
       "      <th>2</th>\n",
       "      <td>013f2bd269f5</td>\n",
       "      <td>0.470030</td>\n",
       "      <td>2635.10654</td>\n",
       "      <td>85.200147</td>\n",
       "      <td>32.360553</td>\n",
       "      <td>8.138688</td>\n",
       "      <td>6.732840</td>\n",
       "      <td>0.025578</td>\n",
       "      <td>12.824570</td>\n",
       "      <td>1.229900</td>\n",
       "      <td>...</td>\n",
       "      <td>7.709560</td>\n",
       "      <td>0.97556</td>\n",
       "      <td>1.198821</td>\n",
       "      <td>37.077772</td>\n",
       "      <td>88.609437</td>\n",
       "      <td>13676.957810</td>\n",
       "      <td>28.022851</td>\n",
       "      <td>35.192676</td>\n",
       "      <td>0.196941</td>\n",
       "      <td>0</td>\n",
       "    </tr>\n",
       "    <tr>\n",
       "      <th>3</th>\n",
       "      <td>043ac50845d5</td>\n",
       "      <td>0.252107</td>\n",
       "      <td>3819.65177</td>\n",
       "      <td>120.201618</td>\n",
       "      <td>77.112203</td>\n",
       "      <td>8.138688</td>\n",
       "      <td>3.685344</td>\n",
       "      <td>0.025578</td>\n",
       "      <td>11.053708</td>\n",
       "      <td>1.229900</td>\n",
       "      <td>...</td>\n",
       "      <td>6.122162</td>\n",
       "      <td>0.49706</td>\n",
       "      <td>0.284466</td>\n",
       "      <td>18.529584</td>\n",
       "      <td>82.416803</td>\n",
       "      <td>2094.262452</td>\n",
       "      <td>39.948656</td>\n",
       "      <td>90.493248</td>\n",
       "      <td>0.155829</td>\n",
       "      <td>0</td>\n",
       "    </tr>\n",
       "    <tr>\n",
       "      <th>4</th>\n",
       "      <td>044fb8a146ec</td>\n",
       "      <td>0.380297</td>\n",
       "      <td>3733.04844</td>\n",
       "      <td>85.200147</td>\n",
       "      <td>14.103738</td>\n",
       "      <td>8.138688</td>\n",
       "      <td>3.942255</td>\n",
       "      <td>0.054810</td>\n",
       "      <td>3.396778</td>\n",
       "      <td>102.151980</td>\n",
       "      <td>...</td>\n",
       "      <td>8.153058</td>\n",
       "      <td>48.50134</td>\n",
       "      <td>0.121914</td>\n",
       "      <td>16.408728</td>\n",
       "      <td>146.109943</td>\n",
       "      <td>8524.370502</td>\n",
       "      <td>45.381316</td>\n",
       "      <td>36.262628</td>\n",
       "      <td>0.096614</td>\n",
       "      <td>1</td>\n",
       "    </tr>\n",
       "  </tbody>\n",
       "</table>\n",
       "<p>5 rows × 58 columns</p>\n",
       "</div>"
      ],
      "text/plain": [
       "             Id        AB          AF          AH         AM        AR  \\\n",
       "0  000ff2bfdfe9  0.209377  3109.03329   85.200147  22.394407  8.138688   \n",
       "1  007255e47698  0.145282   978.76416   85.200147  36.968889  8.138688   \n",
       "2  013f2bd269f5  0.470030  2635.10654   85.200147  32.360553  8.138688   \n",
       "3  043ac50845d5  0.252107  3819.65177  120.201618  77.112203  8.138688   \n",
       "4  044fb8a146ec  0.380297  3733.04844   85.200147  14.103738  8.138688   \n",
       "\n",
       "         AX        AY         AZ          BC  ...        FL        FR  \\\n",
       "0  0.699861  0.025578   9.812214    5.555634  ...  7.298162   1.73855   \n",
       "1  3.632190  0.025578  13.517790    1.229900  ...  0.173229   0.49706   \n",
       "2  6.732840  0.025578  12.824570    1.229900  ...  7.709560   0.97556   \n",
       "3  3.685344  0.025578  11.053708    1.229900  ...  6.122162   0.49706   \n",
       "4  3.942255  0.054810   3.396778  102.151980  ...  8.153058  48.50134   \n",
       "\n",
       "         FS         GB          GE            GF         GH         GI  \\\n",
       "0  0.094822  11.339138   72.611063   2003.810319  22.136229  69.834944   \n",
       "1  0.568932   9.292698   72.611063  27981.562750  29.135430  32.131996   \n",
       "2  1.198821  37.077772   88.609437  13676.957810  28.022851  35.192676   \n",
       "3  0.284466  18.529584   82.416803   2094.262452  39.948656  90.493248   \n",
       "4  0.121914  16.408728  146.109943   8524.370502  45.381316  36.262628   \n",
       "\n",
       "          GL  Class  \n",
       "0   0.120343      1  \n",
       "1  21.978000      0  \n",
       "2   0.196941      0  \n",
       "3   0.155829      0  \n",
       "4   0.096614      1  \n",
       "\n",
       "[5 rows x 58 columns]"
      ]
     },
     "execution_count": 4,
     "metadata": {},
     "output_type": "execute_result"
    }
   ],
   "source": [
    "df_train = pd.read_csv(f'{path}/train.csv')\n",
    "df_test = pd.read_csv(f'{path}/test.csv')\n",
    "df_train.head()"
   ]
  },
  {
   "cell_type": "markdown",
   "id": "3244e6e5",
   "metadata": {},
   "source": [
    "Identify null values."
   ]
  },
  {
   "cell_type": "code",
   "execution_count": 5,
   "id": "6263cd1a",
   "metadata": {},
   "outputs": [
    {
     "data": {
      "text/plain": [
       "Id        0\n",
       "AB        0\n",
       "AF        0\n",
       "AH        0\n",
       "AM        0\n",
       "AR        0\n",
       "AX        0\n",
       "AY        0\n",
       "AZ        0\n",
       "BC        0\n",
       "BD        0\n",
       "BN        0\n",
       "BP        0\n",
       "BQ       60\n",
       "BR        0\n",
       "BZ        0\n",
       "CB        2\n",
       "CC        3\n",
       "CD        0\n",
       "CF        0\n",
       "CH        0\n",
       "CL        0\n",
       "CR        0\n",
       "CS        0\n",
       "CU        0\n",
       "CW        0\n",
       "DA        0\n",
       "DE        0\n",
       "DF        0\n",
       "DH        0\n",
       "DI        0\n",
       "DL        0\n",
       "DN        0\n",
       "DU        1\n",
       "DV        0\n",
       "DY        0\n",
       "EB        0\n",
       "EE        0\n",
       "EG        0\n",
       "EH        0\n",
       "EJ        0\n",
       "EL       60\n",
       "EP        0\n",
       "EU        0\n",
       "FC        1\n",
       "FD        0\n",
       "FE        0\n",
       "FI        0\n",
       "FL        1\n",
       "FR        0\n",
       "FS        2\n",
       "GB        0\n",
       "GE        0\n",
       "GF        0\n",
       "GH        0\n",
       "GI        0\n",
       "GL        1\n",
       "Class     0\n",
       "dtype: int64"
      ]
     },
     "execution_count": 5,
     "metadata": {},
     "output_type": "execute_result"
    }
   ],
   "source": [
    "df_train.isna().sum()"
   ]
  },
  {
   "cell_type": "code",
   "execution_count": 6,
   "id": "e5688f44",
   "metadata": {},
   "outputs": [
    {
     "name": "stdout",
     "output_type": "stream",
     "text": [
      "<class 'pandas.core.frame.DataFrame'>\n",
      "RangeIndex: 617 entries, 0 to 616\n",
      "Data columns (total 58 columns):\n",
      " #   Column  Non-Null Count  Dtype  \n",
      "---  ------  --------------  -----  \n",
      " 0   Id      617 non-null    object \n",
      " 1   AB      617 non-null    float64\n",
      " 2   AF      617 non-null    float64\n",
      " 3   AH      617 non-null    float64\n",
      " 4   AM      617 non-null    float64\n",
      " 5   AR      617 non-null    float64\n",
      " 6   AX      617 non-null    float64\n",
      " 7   AY      617 non-null    float64\n",
      " 8   AZ      617 non-null    float64\n",
      " 9   BC      617 non-null    float64\n",
      " 10  BD      617 non-null    float64\n",
      " 11  BN      617 non-null    float64\n",
      " 12  BP      617 non-null    float64\n",
      " 13  BQ      557 non-null    float64\n",
      " 14  BR      617 non-null    float64\n",
      " 15  BZ      617 non-null    float64\n",
      " 16  CB      615 non-null    float64\n",
      " 17  CC      614 non-null    float64\n",
      " 18  CD      617 non-null    float64\n",
      " 19  CF      617 non-null    float64\n",
      " 20  CH      617 non-null    float64\n",
      " 21  CL      617 non-null    float64\n",
      " 22  CR      617 non-null    float64\n",
      " 23  CS      617 non-null    float64\n",
      " 24  CU      617 non-null    float64\n",
      " 25  CW      617 non-null    float64\n",
      " 26  DA      617 non-null    float64\n",
      " 27  DE      617 non-null    float64\n",
      " 28  DF      617 non-null    float64\n",
      " 29  DH      617 non-null    float64\n",
      " 30  DI      617 non-null    float64\n",
      " 31  DL      617 non-null    float64\n",
      " 32  DN      617 non-null    float64\n",
      " 33  DU      616 non-null    float64\n",
      " 34  DV      617 non-null    float64\n",
      " 35  DY      617 non-null    float64\n",
      " 36  EB      617 non-null    float64\n",
      " 37  EE      617 non-null    float64\n",
      " 38  EG      617 non-null    float64\n",
      " 39  EH      617 non-null    float64\n",
      " 40  EJ      617 non-null    object \n",
      " 41  EL      557 non-null    float64\n",
      " 42  EP      617 non-null    float64\n",
      " 43  EU      617 non-null    float64\n",
      " 44  FC      616 non-null    float64\n",
      " 45  FD      617 non-null    float64\n",
      " 46  FE      617 non-null    float64\n",
      " 47  FI      617 non-null    float64\n",
      " 48  FL      616 non-null    float64\n",
      " 49  FR      617 non-null    float64\n",
      " 50  FS      615 non-null    float64\n",
      " 51  GB      617 non-null    float64\n",
      " 52  GE      617 non-null    float64\n",
      " 53  GF      617 non-null    float64\n",
      " 54  GH      617 non-null    float64\n",
      " 55  GI      617 non-null    float64\n",
      " 56  GL      616 non-null    float64\n",
      " 57  Class   617 non-null    int64  \n",
      "dtypes: float64(55), int64(1), object(2)\n",
      "memory usage: 279.7+ KB\n"
     ]
    }
   ],
   "source": [
    "df_train.info()"
   ]
  },
  {
   "cell_type": "markdown",
   "id": "b60d82ed",
   "metadata": {},
   "source": [
    "We'll only do simple data processing. We'll replace null values with modes, and convert EJ to a categorical columns"
   ]
  },
  {
   "cell_type": "code",
   "execution_count": 7,
   "id": "e30dee51",
   "metadata": {},
   "outputs": [],
   "source": [
    "modes = df_train.mode().iloc[0]"
   ]
  },
  {
   "cell_type": "code",
   "execution_count": 8,
   "id": "14e95884",
   "metadata": {},
   "outputs": [],
   "source": [
    "def process_data(df):\n",
    "    df.fillna(modes, inplace=True)\n",
    "    df[\"EJ\"] = pd.Categorical(df.EJ)\n",
    "    \n",
    "process_data(df_train)\n",
    "process_data(df_test)"
   ]
  },
  {
   "cell_type": "code",
   "execution_count": 9,
   "id": "aa51bada",
   "metadata": {},
   "outputs": [
    {
     "name": "stdout",
     "output_type": "stream",
     "text": [
      "<class 'pandas.core.frame.DataFrame'>\n",
      "RangeIndex: 617 entries, 0 to 616\n",
      "Data columns (total 58 columns):\n",
      " #   Column  Non-Null Count  Dtype   \n",
      "---  ------  --------------  -----   \n",
      " 0   Id      617 non-null    object  \n",
      " 1   AB      617 non-null    float64 \n",
      " 2   AF      617 non-null    float64 \n",
      " 3   AH      617 non-null    float64 \n",
      " 4   AM      617 non-null    float64 \n",
      " 5   AR      617 non-null    float64 \n",
      " 6   AX      617 non-null    float64 \n",
      " 7   AY      617 non-null    float64 \n",
      " 8   AZ      617 non-null    float64 \n",
      " 9   BC      617 non-null    float64 \n",
      " 10  BD      617 non-null    float64 \n",
      " 11  BN      617 non-null    float64 \n",
      " 12  BP      617 non-null    float64 \n",
      " 13  BQ      617 non-null    float64 \n",
      " 14  BR      617 non-null    float64 \n",
      " 15  BZ      617 non-null    float64 \n",
      " 16  CB      617 non-null    float64 \n",
      " 17  CC      617 non-null    float64 \n",
      " 18  CD      617 non-null    float64 \n",
      " 19  CF      617 non-null    float64 \n",
      " 20  CH      617 non-null    float64 \n",
      " 21  CL      617 non-null    float64 \n",
      " 22  CR      617 non-null    float64 \n",
      " 23  CS      617 non-null    float64 \n",
      " 24  CU      617 non-null    float64 \n",
      " 25  CW      617 non-null    float64 \n",
      " 26  DA      617 non-null    float64 \n",
      " 27  DE      617 non-null    float64 \n",
      " 28  DF      617 non-null    float64 \n",
      " 29  DH      617 non-null    float64 \n",
      " 30  DI      617 non-null    float64 \n",
      " 31  DL      617 non-null    float64 \n",
      " 32  DN      617 non-null    float64 \n",
      " 33  DU      617 non-null    float64 \n",
      " 34  DV      617 non-null    float64 \n",
      " 35  DY      617 non-null    float64 \n",
      " 36  EB      617 non-null    float64 \n",
      " 37  EE      617 non-null    float64 \n",
      " 38  EG      617 non-null    float64 \n",
      " 39  EH      617 non-null    float64 \n",
      " 40  EJ      617 non-null    category\n",
      " 41  EL      617 non-null    float64 \n",
      " 42  EP      617 non-null    float64 \n",
      " 43  EU      617 non-null    float64 \n",
      " 44  FC      617 non-null    float64 \n",
      " 45  FD      617 non-null    float64 \n",
      " 46  FE      617 non-null    float64 \n",
      " 47  FI      617 non-null    float64 \n",
      " 48  FL      617 non-null    float64 \n",
      " 49  FR      617 non-null    float64 \n",
      " 50  FS      617 non-null    float64 \n",
      " 51  GB      617 non-null    float64 \n",
      " 52  GE      617 non-null    float64 \n",
      " 53  GF      617 non-null    float64 \n",
      " 54  GH      617 non-null    float64 \n",
      " 55  GI      617 non-null    float64 \n",
      " 56  GL      617 non-null    float64 \n",
      " 57  Class   617 non-null    int64   \n",
      "dtypes: category(1), float64(55), int64(1), object(1)\n",
      "memory usage: 275.6+ KB\n"
     ]
    }
   ],
   "source": [
    "df_train.info()"
   ]
  },
  {
   "cell_type": "code",
   "execution_count": 10,
   "id": "b25827d5",
   "metadata": {},
   "outputs": [
    {
     "data": {
      "text/plain": [
       "0    1\n",
       "1    0\n",
       "2    1\n",
       "3    1\n",
       "4    1\n",
       "dtype: int8"
      ]
     },
     "execution_count": 10,
     "metadata": {},
     "output_type": "execute_result"
    }
   ],
   "source": [
    "df_train.EJ.cat.codes.head()"
   ]
  },
  {
   "cell_type": "markdown",
   "id": "21f0cda6",
   "metadata": {},
   "source": [
    "Separately identify the categorical, numeric and dependent variables"
   ]
  },
  {
   "cell_type": "code",
   "execution_count": 11,
   "id": "1826905c",
   "metadata": {},
   "outputs": [],
   "source": [
    "categoricals = [\"EJ\"]\n",
    "dependent = \"Class\"\n",
    "conts = [column for column in df_train.columns if not column in categoricals + [dependent] + [\"Id\"]]"
   ]
  },
  {
   "cell_type": "code",
   "execution_count": 12,
   "id": "a0a6f2cf",
   "metadata": {},
   "outputs": [
    {
     "data": {
      "text/plain": [
       "55"
      ]
     },
     "execution_count": 12,
     "metadata": {},
     "output_type": "execute_result"
    }
   ],
   "source": [
    "len(conts)"
   ]
  },
  {
   "cell_type": "markdown",
   "id": "796b63ad",
   "metadata": {},
   "source": [
    "## Binary Splits"
   ]
  },
  {
   "cell_type": "markdown",
   "id": "4d5015a0",
   "metadata": {},
   "source": [
    "A decision tree is build on binary splits, so we start by splitting on categorical column `EJ` just to see what results it gives us. We use seaborn to compare see how splitting on EJ relates to the outcome (diagnosed to have one of the age-related conditions)."
   ]
  },
  {
   "cell_type": "code",
   "execution_count": 13,
   "id": "edfcac11",
   "metadata": {},
   "outputs": [
    {
     "data": {
      "text/plain": [
       "[Text(0.5, 1.0, 'Histogram')]"
      ]
     },
     "execution_count": 13,
     "metadata": {},
     "output_type": "execute_result"
    },
    {
     "data": {
      "image/png": "[encoded data removed]",
      "text/plain": [
       "<Figure size 1100x500 with 2 Axes>"
      ]
     },
     "metadata": {},
     "output_type": "display_data"
    }
   ],
   "source": [
    "import seaborn as sns\n",
    "\n",
    "fig, axs = plt.subplots(1, 2, figsize=(11, 5))\n",
    "sns.barplot(data=df_train, y=dependent, x=\"EJ\", ax=axs[0]).set(title=\"Positive Diagnosis Rate\")\n",
    "sns.countplot(data=df_train, x=\"EJ\", ax=axs[1]).set(title=\"Histogram\")"
   ]
  },
  {
   "cell_type": "markdown",
   "id": "4a8250da",
   "metadata": {},
   "source": [
    "We have a higher positivity rate for category B (~ 20%) than category A (~ 3%). We also have much higher proportion of observations with category B (~ 400) than category A (~ 230). This correlation could in part explain why B has a higher positivity rate.\n",
    "\n",
    "We can also do a split based on a continuous column. Since these columns are anonymized, we'll go with column `AB` just for demonstration. We use a boxplot to compare the averages of both positive and negative diagnosis based on the trait `AB` and a density plot to visualize the distribution of observations on `AB`."
   ]
  },
  {
   "cell_type": "code",
   "execution_count": 14,
   "id": "3998a5fe",
   "metadata": {},
   "outputs": [
    {
     "data": {
      "text/plain": [
       "<Axes: xlabel='AB', ylabel='Density'>"
      ]
     },
     "execution_count": 14,
     "metadata": {},
     "output_type": "execute_result"
    },
    {
     "data": {
      "image/png": "[encoded data removed]",
      "text/plain": [
       "<Figure size 1100x500 with 2 Axes>"
      ]
     },
     "metadata": {},
     "output_type": "display_data"
    }
   ],
   "source": [
    "fig, (ax1, ax2) = plt.subplots(nrows=1, ncols=2, figsize=(11, 5))\n",
    "sns.boxenplot(data=df_train, x=dependent, y=\"AB\", ax=ax1)\n",
    "sns.kdeplot(data=df_train, x=\"AB\", ax=ax2)"
   ]
  },
  {
   "cell_type": "markdown",
   "id": "979386c7",
   "metadata": {},
   "source": [
    "What we see is that the observations that result in a positive diagnosis have a slightly higher average of value `AB` than those that don't. We also notice that there some outliers with higher values for `AB`. It is difficult to determine the value of `AB` that best splits between the two classes though, since most of the observations are between 0 and 1 for `AB`, although the average value of negative diagnosis (class 0) appears below 0.5.\n",
    "\n",
    "Since we have quite a number of columns, it would be tedious to plot each of them and figure out how well it partitions between positive and negative diagnosis, and which value of that column gives the best split.\n",
    "\n",
    "We can however create a function that will help us quickly evaluate different splits by calculating a measure of impurity of how a split divides the observations into 2 groups, i.e. how similar or dissimilar they are with respect to the dependent variable.\n",
    "\n",
    "We measure similarity by calculating the standard deviation of the dependent variable within each group of the split. The lower it is, they more similar the observations in each group are. We multiply this by the number of observations in each group since the bigger the group, they more weight it has.\n",
    "\n",
    "We calculate the score of a split by summing the scores of the left side and the right side of that split using a particular value of that column."
   ]
  },
  {
   "cell_type": "code",
   "execution_count": 15,
   "id": "b1191162",
   "metadata": {},
   "outputs": [],
   "source": [
    "def score(col, y, split_value):\n",
    "    lhs = col <= split_value\n",
    "    return (_side_score(lhs, y) + _side_score(~lhs, y))/len(y)\n",
    "\n",
    "def _side_score(side, y):\n",
    "    count = side.sum()\n",
    "    if count <=1: return 0\n",
    "    return y[side].std() * count"
   ]
  },
  {
   "cell_type": "markdown",
   "id": "6f3acd1e",
   "metadata": {},
   "source": [
    "For instance, the score based on value 0.5 for columns `AB`:"
   ]
  },
  {
   "cell_type": "code",
   "execution_count": 16,
   "id": "592d3264",
   "metadata": {},
   "outputs": [
    {
     "data": {
      "text/plain": [
       "0.36017711175753037"
      ]
     },
     "execution_count": 16,
     "metadata": {},
     "output_type": "execute_result"
    }
   ],
   "source": [
    "score(df_train.AB, df_train[dependent], 0.5)"
   ]
  },
  {
   "cell_type": "markdown",
   "id": "0f49b23a",
   "metadata": {},
   "source": [
    "For the categorical column, we'd need to replace the column string values with their underlying codes, since we're calculating scores using numeric values.\n"
   ]
  },
  {
   "cell_type": "code",
   "execution_count": 17,
   "id": "f48b9771",
   "metadata": {},
   "outputs": [
    {
     "data": {
      "text/html": [
       "<div>\n",
       "<style scoped>\n",
       "    .dataframe tbody tr th:only-of-type {\n",
       "        vertical-align: middle;\n",
       "    }\n",
       "\n",
       "    .dataframe tbody tr th {\n",
       "        vertical-align: top;\n",
       "    }\n",
       "\n",
       "    .dataframe thead th {\n",
       "        text-align: right;\n",
       "    }\n",
       "</style>\n",
       "<table border=\"1\" class=\"dataframe\">\n",
       "  <thead>\n",
       "    <tr style=\"text-align: right;\">\n",
       "      <th></th>\n",
       "      <th>EJ</th>\n",
       "    </tr>\n",
       "  </thead>\n",
       "  <tbody>\n",
       "    <tr>\n",
       "      <th>0</th>\n",
       "      <td>1</td>\n",
       "    </tr>\n",
       "    <tr>\n",
       "      <th>1</th>\n",
       "      <td>0</td>\n",
       "    </tr>\n",
       "    <tr>\n",
       "      <th>2</th>\n",
       "      <td>1</td>\n",
       "    </tr>\n",
       "    <tr>\n",
       "      <th>3</th>\n",
       "      <td>1</td>\n",
       "    </tr>\n",
       "    <tr>\n",
       "      <th>4</th>\n",
       "      <td>1</td>\n",
       "    </tr>\n",
       "  </tbody>\n",
       "</table>\n",
       "</div>"
      ],
      "text/plain": [
       "   EJ\n",
       "0   1\n",
       "1   0\n",
       "2   1\n",
       "3   1\n",
       "4   1"
      ]
     },
     "execution_count": 17,
     "metadata": {},
     "output_type": "execute_result"
    }
   ],
   "source": [
    "df_train_n = df_train.copy()\n",
    "df_train_n[categoricals] = df_train_n[categoricals].apply(lambda x: x.cat.codes)\n",
    "df_train_n[categoricals].head()"
   ]
  },
  {
   "cell_type": "markdown",
   "id": "dfa84e40",
   "metadata": {},
   "source": [
    "We then calculate the score using <= 1 as our split"
   ]
  },
  {
   "cell_type": "code",
   "execution_count": 18,
   "id": "121cb8bd",
   "metadata": {},
   "outputs": [
    {
     "data": {
      "text/plain": [
       "0.3803100751041243"
      ]
     },
     "execution_count": 18,
     "metadata": {},
     "output_type": "execute_result"
    }
   ],
   "source": [
    "score(df_train_n.EJ, df_train_n[dependent], 1)"
   ]
  },
  {
   "cell_type": "markdown",
   "id": "c1f7ee76",
   "metadata": {},
   "source": [
    "Looks like the split on the categorical fares a bit worse than that of column `AB` at 0.5"
   ]
  },
  {
   "cell_type": "markdown",
   "id": "b1569c0f",
   "metadata": {},
   "source": [
    "To help us find the best split point, we'll iterate through the columns, and for each, we iterate through it's unique values to find the best split point for the column."
   ]
  },
  {
   "cell_type": "markdown",
   "id": "830a648e",
   "metadata": {},
   "source": [
    "For example to find the best split point for column `AB`:"
   ]
  },
  {
   "cell_type": "code",
   "execution_count": 19,
   "id": "083ffc6f",
   "metadata": {},
   "outputs": [
    {
     "data": {
      "text/plain": [
       "array([0.081187 , 0.08546  , 0.098279 , 0.102552 , 0.111098 , 0.119644 ,\n",
       "       0.1217805, 0.1303265, 0.132463 , 0.136736 , 0.141009 , 0.145282 ,\n",
       "       0.149555 , 0.153828 , 0.1559645, 0.158101 , 0.1602375, 0.162374 ,\n",
       "       0.166647 , 0.17092  , 0.175193 , 0.179466 , 0.183739 , 0.1858755,\n",
       "       0.188012 , 0.1901485, 0.192285 , 0.196558 , 0.200831 , 0.2029675,\n",
       "       0.205104 , 0.209377 , 0.21365  , 0.217923 , 0.222196 , 0.2243325,\n",
       "       0.226469 , 0.230742 , 0.235015 , 0.239288 , 0.243561 , 0.247834 ,\n",
       "       0.252107 , 0.25638  , 0.260653 , 0.2627895, 0.264926 , 0.269199 ,\n",
       "       0.2713355, 0.273472 ])"
      ]
     },
     "execution_count": 19,
     "metadata": {},
     "output_type": "execute_result"
    }
   ],
   "source": [
    "col = df_train_n[\"AB\"]\n",
    "y = df_train_n[dependent]\n",
    "uniques = col.unique()\n",
    "uniques.sort()\n",
    "uniques[:50]"
   ]
  },
  {
   "cell_type": "code",
   "execution_count": 20,
   "id": "992e8d7d",
   "metadata": {},
   "outputs": [
    {
     "data": {
      "text/plain": [
       "0.410208"
      ]
     },
     "execution_count": 20,
     "metadata": {},
     "output_type": "execute_result"
    }
   ],
   "source": [
    "scores = np.array([score(col, y, split) for split in uniques])\n",
    "uniques[scores.argmin()]"
   ]
  },
  {
   "cell_type": "markdown",
   "id": "a96a28c9",
   "metadata": {},
   "source": [
    "This tells us that the value of `AB` that gives the best split is 0.410208.\n",
    "\n",
    "We can implement this idea to calculate the best split point for any given column."
   ]
  },
  {
   "cell_type": "code",
   "execution_count": 21,
   "id": "649f4def",
   "metadata": {},
   "outputs": [],
   "source": [
    "def min_column(df, col_name):\n",
    "    col, y = df[col_name], df[dependent]\n",
    "    uniques = col.unique()\n",
    "    scores = np.array([score(col, y, split) for split in uniques])\n",
    "    index = scores.argmin()\n",
    "    return uniques[index], scores[index]"
   ]
  },
  {
   "cell_type": "code",
   "execution_count": 22,
   "id": "d98a34b7",
   "metadata": {},
   "outputs": [
    {
     "data": {
      "text/plain": [
       "(0.410208, 0.3561906829723693)"
      ]
     },
     "execution_count": 22,
     "metadata": {},
     "output_type": "execute_result"
    }
   ],
   "source": [
    "min_column(df_train_n, \"AB\")"
   ]
  },
  {
   "cell_type": "markdown",
   "id": "22f1df3f",
   "metadata": {},
   "source": [
    "We can try the same thing for the categorical variable:"
   ]
  },
  {
   "cell_type": "code",
   "execution_count": 23,
   "id": "3015b0b2",
   "metadata": {},
   "outputs": [
    {
     "data": {
      "text/plain": [
       "(0, 0.3773339803468088)"
      ]
     },
     "execution_count": 23,
     "metadata": {},
     "output_type": "execute_result"
    }
   ],
   "source": [
    "min_column(df_train_n, \"EJ\")"
   ]
  },
  {
   "cell_type": "markdown",
   "id": "7e1f810a",
   "metadata": {},
   "source": [
    "Turns out having all observations on one side gives a better score when looking at the categorical column alone.\n",
    "\n",
    "We can then calculate the best split points for each column to find the best split overall."
   ]
  },
  {
   "cell_type": "code",
   "execution_count": 24,
   "id": "4cbe1405",
   "metadata": {},
   "outputs": [],
   "source": [
    "columns = conts + categoricals\n",
    "splits = {col: min_column(df_train_n, col) for col in columns}"
   ]
  },
  {
   "cell_type": "code",
   "execution_count": 25,
   "id": "cf2b1794",
   "metadata": {},
   "outputs": [
    {
     "data": {
      "text/plain": [
       "{'AB': (0.410208, 0.3561906829723693),\n",
       " 'AF': (2808.64232, 0.35583548065304915),\n",
       " 'AH': (193.801377, 0.3761985927636321),\n",
       " 'AM': (149.318758, 0.367338331639673),\n",
       " 'AR': (16.327194, 0.3678281215243884),\n",
       " 'AX': (17.877462, 0.37677322461475915),\n",
       " 'AY': (0.6019965, 0.37677322461475915),\n",
       " 'AZ': (10.971782, 0.3782810033906922),\n",
       " 'BC': (13.500788, 0.35968813799570454),\n",
       " 'BD ': (12083.34891, 0.3749922782916859),\n",
       " 'BN': (21.186, 0.3651185274145938),\n",
       " 'BP': (196.710795, 0.3725348222558456),\n",
       " 'BQ': (115.695865, 0.3668876611761174),\n",
       " 'BR': (3466.745415, 0.374094640781585),\n",
       " 'BZ': (2885.319798, 0.376211243844383),\n",
       " 'CB': (13.32695, 0.37775055805021784),\n",
       " 'CC': (0.5478777, 0.3665150807004323),\n",
       " 'CD ': (85.955376, 0.3635292346687648),\n",
       " 'CF': (1.8504485, 0.367406050093466),\n",
       " 'CH': (0.016318, 0.3782672405025747),\n",
       " 'CL': (1.24754, 0.37657306471010377),\n",
       " 'CR': (0.527325, 0.35228611051878406),\n",
       " 'CS': (62.2516675, 0.37277362672289577),\n",
       " 'CU': (1.274427, 0.37534114864714596),\n",
       " 'CW ': (35.67944, 0.3772898765041537),\n",
       " 'DA': (27.36564, 0.353137425790351),\n",
       " 'DE': (149.18453, 0.3625701653246753),\n",
       " 'DF': (0.500175, 0.36551421649454285),\n",
       " 'DH': (0.240504, 0.3671902453269601),\n",
       " 'DI': (253.8155925, 0.3550252288774408),\n",
       " 'DL': (134.1642, 0.37162996473999704),\n",
       " 'DN': (59.068544, 0.3749922782916859),\n",
       " 'DU': (2.27601, 0.3207517917154871),\n",
       " 'DV': (2.19891, 0.37819979248926816),\n",
       " 'DY': (4.474032, 0.3708655621394996),\n",
       " 'EB': (6.269316, 0.3625606667600181),\n",
       " 'EE': (1.463253, 0.36191183975348784),\n",
       " 'EG': (6845.912275, 0.37731357741606586),\n",
       " 'EH': (0.389376, 0.3593626675299252),\n",
       " 'EL': (46.05744, 0.37829464648148575),\n",
       " 'EP': (224.078075, 0.37429306818140773),\n",
       " 'EU': (8.497392, 0.3699652228963962),\n",
       " 'FC': (13.33752, 0.37580636037706155),\n",
       " 'FD ': (8.151501, 0.3607755013721559),\n",
       " 'FE': (15667.04141, 0.3658514670660312),\n",
       " 'FI': (8.9724075, 0.3657210528731738),\n",
       " 'FL': (7.925430474, 0.3436877494985317),\n",
       " 'FR': (2.73702, 0.365585424163423),\n",
       " 'FS': (0.839852, 0.37680072033409695),\n",
       " 'GB': (40.435794, 0.37726637931071944),\n",
       " 'GE': (363.134821, 0.37718575251296815),\n",
       " 'GF': (14737.27446, 0.37078665888029855),\n",
       " 'GH': (61.028121, 0.3762112438443829),\n",
       " 'GI': (117.6047, 0.3767203577225661),\n",
       " 'GL': (0.121055405, 0.3450719268397208),\n",
       " 'EJ': (0, 0.3773339803468088)}"
      ]
     },
     "execution_count": 25,
     "metadata": {},
     "output_type": "execute_result"
    }
   ],
   "source": [
    "splits"
   ]
  },
  {
   "cell_type": "code",
   "execution_count": 26,
   "id": "47fd9216",
   "metadata": {},
   "outputs": [
    {
     "data": {
      "text/plain": [
       "('DU', (2.27601, 0.3207517917154871))"
      ]
     },
     "execution_count": 26,
     "metadata": {},
     "output_type": "execute_result"
    }
   ],
   "source": [
    "min_score = 1\n",
    "for k, v in splits.items():\n",
    "    if v[1] < min_score:\n",
    "        min_score = v[1]\n",
    "        min_score_column = k\n",
    "min_score_column, splits[min_score_column]        "
   ]
  },
  {
   "cell_type": "markdown",
   "id": "7f7873f0",
   "metadata": {},
   "source": [
    "According to this, the column `DU` gives the best score at split point 2.27601 overall. We can make a simple model based off this approach. This will be a variant of what is called the [OneR](https://link.springer.com/article/10.1023/A:1022631118932) classifier."
   ]
  },
  {
   "cell_type": "code",
   "execution_count": 27,
   "id": "bf2ac36b",
   "metadata": {},
   "outputs": [],
   "source": [
    "from sklearn.model_selection import train_test_split\n",
    "\n",
    "one_r_train, one_r_val = train_test_split(df_train_n,  test_size=0.25)"
   ]
  },
  {
   "cell_type": "code",
   "execution_count": 28,
   "id": "6e8a0141",
   "metadata": {},
   "outputs": [
    {
     "data": {
      "text/plain": [
       "((462, 58), (155, 58))"
      ]
     },
     "execution_count": 28,
     "metadata": {},
     "output_type": "execute_result"
    }
   ],
   "source": [
    "one_r_train.shape, one_r_val.shape"
   ]
  },
  {
   "cell_type": "markdown",
   "id": "6b371445",
   "metadata": {},
   "source": [
    "We split each of training and validation sets to independent and dependent variables."
   ]
  },
  {
   "cell_type": "code",
   "execution_count": 29,
   "id": "d5e43124",
   "metadata": {},
   "outputs": [],
   "source": [
    "def x_y(df):\n",
    "    return df[conts + categoricals], df[dependent]\n",
    "\n",
    "one_r_train_x, one_r_train_y = x_y(one_r_train)\n",
    "one_r_val_x, one_r_val_y = x_y(one_r_val)"
   ]
  },
  {
   "cell_type": "markdown",
   "id": "6e5e8f51",
   "metadata": {},
   "source": [
    "We get the best split using the OneR training set."
   ]
  },
  {
   "cell_type": "code",
   "execution_count": 30,
   "id": "e5839771",
   "metadata": {},
   "outputs": [
    {
     "data": {
      "text/plain": [
       "{'AB': (0.410208, 0.35281387905213274),\n",
       " 'AF': (2823.29663, 0.35724190866995587),\n",
       " 'AH': (117.170886, 0.3779194957048336),\n",
       " 'AM': (149.318758, 0.3609105741224039),\n",
       " 'AR': (15.973224, 0.3684987466681436),\n",
       " 'AX': (17.877462, 0.37592969382891867),\n",
       " 'AY': (0.595602, 0.37592969382891867),\n",
       " 'AZ': (8.520304, 0.3789134523026233),\n",
       " 'BC': (13.500788, 0.3550724560499435),\n",
       " 'BD ': (12083.34891, 0.37592969382891867),\n",
       " 'BN': (20.8329, 0.3707394688622878),\n",
       " 'BP': (369.34407, 0.3718284509406249),\n",
       " 'BQ': (115.695865, 0.36740725189507994),\n",
       " 'BR': (4291.904627, 0.37687518279877813),\n",
       " 'BZ': (2885.319798, 0.3754958283567254),\n",
       " 'CB': (18.299281, 0.37792252321358455),\n",
       " 'CC': (0.28939032, 0.36629236555563865),\n",
       " 'CD ': (88.15936, 0.36554117602111524),\n",
       " 'CF': (1.8504485, 0.36642812739167485),\n",
       " 'CH': (0.012338, 0.3786568763505195),\n",
       " 'CL': (1.24754, 0.3790680163512013),\n",
       " 'CR': (0.689775, 0.3459180650047119),\n",
       " 'CS': (62.2516675, 0.3731018554335032),\n",
       " 'CU': (1.274427, 0.3773706669092076),\n",
       " 'CW ': (35.67944, 0.37539830734164314),\n",
       " 'DA': (29.1194, 0.3502313426230369),\n",
       " 'DE': (155.36692, 0.3606960173021779),\n",
       " 'DF': (0.500175, 0.3609171086256108),\n",
       " 'DH': (0.240504, 0.3684894287361775),\n",
       " 'DI': (247.183545, 0.34709587925166646),\n",
       " 'DL': (134.1642, 0.3731018554335032),\n",
       " 'DN': (59.068544, 0.3735437010139049),\n",
       " 'DU': (2.034615, 0.32022256415000827),\n",
       " 'DV': (2.19891, 0.37873736565746996),\n",
       " 'DY': (4.33478, 0.3720829297717444),\n",
       " 'EB': (6.269316, 0.362311966764758),\n",
       " 'EE': (1.463253, 0.3583158561543151),\n",
       " 'EG': (442.8857, 0.3751313931839531),\n",
       " 'EH': (0.438048, 0.36065017309052727),\n",
       " 'EL': (46.05744, 0.376385296535244),\n",
       " 'EP': (224.078075, 0.3746250408832441),\n",
       " 'EU': (6.537624, 0.36772309442164614),\n",
       " 'FC': (14.131488, 0.37563706204416325),\n",
       " 'FD ': (12.135228, 0.3590207172936892),\n",
       " 'FE': (17823.17036, 0.36251432358030733),\n",
       " 'FI': (8.9724075, 0.36345282538223744),\n",
       " 'FL': (10.2231498, 0.34148798779292655),\n",
       " 'FR': (4.20935, 0.3687253420114961),\n",
       " 'FS': (2.50601, 0.3783006196250608),\n",
       " 'GB': (62.667574, 0.3783006196250608),\n",
       " 'GE': (771.058022, 0.37815525076999884),\n",
       " 'GF': (29405.20352, 0.3613433552037832),\n",
       " 'GH': (61.028121, 0.37687518279877813),\n",
       " 'GI': (15.72778, 0.3775191541909772),\n",
       " 'GL': (0.1085625, 0.34543914202804354),\n",
       " 'EJ': (0, 0.37954117434190743)}"
      ]
     },
     "execution_count": 30,
     "metadata": {},
     "output_type": "execute_result"
    }
   ],
   "source": [
    "one_r_splits = {col: min_column(one_r_train, col) for col in one_r_train_x.columns}\n",
    "one_r_splits"
   ]
  },
  {
   "cell_type": "code",
   "execution_count": 31,
   "id": "bc403eda",
   "metadata": {},
   "outputs": [
    {
     "data": {
      "text/plain": [
       "('DU', (2.034615, 0.32022256415000827))"
      ]
     },
     "execution_count": 31,
     "metadata": {},
     "output_type": "execute_result"
    }
   ],
   "source": [
    "def get_best_split(splits):\n",
    "    min_score = 1\n",
    "    for k, v in splits.items():\n",
    "        if v[1] < min_score:\n",
    "            min_score = v[1]\n",
    "            min_score_column = k\n",
    "    return min_score_column, splits[min_score_column]\n",
    "\n",
    "column, split = get_best_split(one_r_splits)\n",
    "column, split"
   ]
  },
  {
   "cell_type": "code",
   "execution_count": null,
   "id": "7c133091",
   "metadata": {},
   "outputs": [],
   "source": []
  },
  {
   "cell_type": "code",
   "execution_count": null,
   "id": "e6380afa",
   "metadata": {},
   "outputs": [],
   "source": []
  }
 ],
 "metadata": {
  "kernelspec": {
   "display_name": "Python 3 (ipykernel)",
   "language": "python",
   "name": "python3"
  },
  "language_info": {
   "codemirror_mode": {
    "name": "ipython",
    "version": 3
   },
   "file_extension": ".py",
   "mimetype": "text/x-python",
   "name": "python",
   "nbconvert_exporter": "python",
   "pygments_lexer": "ipython3",
   "version": "3.8.10"
  }
 },
 "nbformat": 4,
 "nbformat_minor": 5
}
