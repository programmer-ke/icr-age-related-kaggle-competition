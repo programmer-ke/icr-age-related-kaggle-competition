{
 "cells": [
  {
   "cell_type": "markdown",
   "id": "1c869a61-acbf-4329-a82f-8210360e9eed",
   "metadata": {},
   "source": [
    "Given a table of observations of anonymized health characteristics as columns, the goal is to predict whether an observation leads to a positive diagnosis.\n",
    "\n",
    "# Dependencies"
   ]
  },
  {
   "cell_type": "code",
   "execution_count": 1,
   "id": "0631aea0-117f-4cf8-9477-17705f65b0d9",
   "metadata": {},
   "outputs": [
    {
     "name": "stdout",
     "output_type": "stream",
     "text": [
      "\n",
      "\u001b[1m[\u001b[0m\u001b[34;49mnotice\u001b[0m\u001b[1;39;49m]\u001b[0m\u001b[39;49m A new release of pip is available: \u001b[0m\u001b[31;49m23.2.1\u001b[0m\u001b[39;49m -> \u001b[0m\u001b[32;49m23.3.1\u001b[0m\n",
      "\u001b[1m[\u001b[0m\u001b[34;49mnotice\u001b[0m\u001b[1;39;49m]\u001b[0m\u001b[39;49m To update, run: \u001b[0m\u001b[32;49mpip install --upgrade pip\u001b[0m\n",
      "\n",
      "\u001b[1m[\u001b[0m\u001b[34;49mnotice\u001b[0m\u001b[1;39;49m]\u001b[0m\u001b[39;49m A new release of pip is available: \u001b[0m\u001b[31;49m23.2.1\u001b[0m\u001b[39;49m -> \u001b[0m\u001b[32;49m23.3.1\u001b[0m\n",
      "\u001b[1m[\u001b[0m\u001b[34;49mnotice\u001b[0m\u001b[1;39;49m]\u001b[0m\u001b[39;49m To update, run: \u001b[0m\u001b[32;49mpip install --upgrade pip\u001b[0m\n",
      "\n",
      "\u001b[1m[\u001b[0m\u001b[34;49mnotice\u001b[0m\u001b[1;39;49m]\u001b[0m\u001b[39;49m A new release of pip is available: \u001b[0m\u001b[31;49m23.2.1\u001b[0m\u001b[39;49m -> \u001b[0m\u001b[32;49m23.3.1\u001b[0m\n",
      "\u001b[1m[\u001b[0m\u001b[34;49mnotice\u001b[0m\u001b[1;39;49m]\u001b[0m\u001b[39;49m To update, run: \u001b[0m\u001b[32;49mpip install --upgrade pip\u001b[0m\n"
     ]
    }
   ],
   "source": [
    "import os\n",
    "is_kaggle = os.environ.get('KAGGLE_KERNEL_RUN_TYPE', '')\n",
    "if not is_kaggle:\n",
    "    !pip install -q torch torchvision torchaudio --index-url https://download.pytorch.org/whl/cpu\n",
    "    !pip install -q pandas numpy matplotlib seaborn fastai\n",
    "    !pip install -q kaggle"
   ]
  },
  {
   "cell_type": "code",
   "execution_count": 2,
   "id": "8da0dc2c-49ff-4109-9578-6c15fd76c5f9",
   "metadata": {},
   "outputs": [],
   "source": [
    "import pandas as pd\n",
    "import numpy as np\n",
    "from pathlib import Path\n",
    "\n",
    "# prettier plots\n",
    "pd.plotting.register_matplotlib_converters()\n",
    "import matplotlib.pyplot as plt\n",
    "%matplotlib inline\n",
    "import seaborn as sns"
   ]
  },
  {
   "cell_type": "markdown",
   "id": "926c4ae8-ab1b-4ee8-ac12-2ad4e8fa7725",
   "metadata": {},
   "source": [
    "# Data Prep"
   ]
  },
  {
   "cell_type": "code",
   "execution_count": 3,
   "id": "c880c363-7adb-4fd6-b4ac-a07a440d4695",
   "metadata": {},
   "outputs": [
    {
     "name": "stdout",
     "output_type": "stream",
     "text": [
      "icr-identify-age-related-conditions.zip: Skipping, found more recently modified local copy (use --force to force download)\n",
      "Archive:  /home/krm/.kaggle/input/icr-identify-age-related-conditions.zip\n",
      "  inflating: /home/krm/.kaggle/input/icr-identify-age-related-conditions/greeks.csv  \n",
      "  inflating: /home/krm/.kaggle/input/icr-identify-age-related-conditions/sample_submission.csv  \n",
      "  inflating: /home/krm/.kaggle/input/icr-identify-age-related-conditions/test.csv  \n",
      "  inflating: /home/krm/.kaggle/input/icr-identify-age-related-conditions/train.csv  \n"
     ]
    }
   ],
   "source": [
    "competition_name = \"icr-identify-age-related-conditions\"\n",
    "\n",
    "if is_kaggle:\n",
    "    input_path = Path(f\"/kaggle/input/{competition_name}\")\n",
    "else:\n",
    "    input_path = Path.home() / \".kaggle\" / \"input\" / competition_name\n",
    "    !kaggle competitions download -p {input_path.parent} {competition_name}\n",
    "    !unzip -o {input_path}.zip -d {input_path}"
   ]
  },
  {
   "cell_type": "code",
   "execution_count": 4,
   "id": "19020c3c-2a50-46ae-86b2-0357122fb601",
   "metadata": {},
   "outputs": [
    {
     "data": {
      "text/plain": [
       "[PosixPath('/home/krm/.kaggle/input/icr-identify-age-related-conditions/test.csv'),\n",
       " PosixPath('/home/krm/.kaggle/input/icr-identify-age-related-conditions/greeks.csv'),\n",
       " PosixPath('/home/krm/.kaggle/input/icr-identify-age-related-conditions/train.csv'),\n",
       " PosixPath('/home/krm/.kaggle/input/icr-identify-age-related-conditions/sample_submission.csv')]"
      ]
     },
     "execution_count": 4,
     "metadata": {},
     "output_type": "execute_result"
    }
   ],
   "source": [
    "list(input_path.iterdir())"
   ]
  },
  {
   "cell_type": "code",
   "execution_count": 5,
   "id": "ec23d11e-3745-4306-bcb9-68aa569ef872",
   "metadata": {},
   "outputs": [
    {
     "data": {
      "text/html": [
       "<div>\n",
       "<style scoped>\n",
       "    .dataframe tbody tr th:only-of-type {\n",
       "        vertical-align: middle;\n",
       "    }\n",
       "\n",
       "    .dataframe tbody tr th {\n",
       "        vertical-align: top;\n",
       "    }\n",
       "\n",
       "    .dataframe thead th {\n",
       "        text-align: right;\n",
       "    }\n",
       "</style>\n",
       "<table border=\"1\" class=\"dataframe\">\n",
       "  <thead>\n",
       "    <tr style=\"text-align: right;\">\n",
       "      <th></th>\n",
       "      <th>Id</th>\n",
       "      <th>AB</th>\n",
       "      <th>AF</th>\n",
       "      <th>AH</th>\n",
       "      <th>AM</th>\n",
       "      <th>AR</th>\n",
       "      <th>AX</th>\n",
       "      <th>AY</th>\n",
       "      <th>AZ</th>\n",
       "      <th>BC</th>\n",
       "      <th>...</th>\n",
       "      <th>FL</th>\n",
       "      <th>FR</th>\n",
       "      <th>FS</th>\n",
       "      <th>GB</th>\n",
       "      <th>GE</th>\n",
       "      <th>GF</th>\n",
       "      <th>GH</th>\n",
       "      <th>GI</th>\n",
       "      <th>GL</th>\n",
       "      <th>Class</th>\n",
       "    </tr>\n",
       "  </thead>\n",
       "  <tbody>\n",
       "    <tr>\n",
       "      <th>0</th>\n",
       "      <td>000ff2bfdfe9</td>\n",
       "      <td>0.209377</td>\n",
       "      <td>3109.03329</td>\n",
       "      <td>85.200147</td>\n",
       "      <td>22.394407</td>\n",
       "      <td>8.138688</td>\n",
       "      <td>0.699861</td>\n",
       "      <td>0.025578</td>\n",
       "      <td>9.812214</td>\n",
       "      <td>5.555634</td>\n",
       "      <td>...</td>\n",
       "      <td>7.298162</td>\n",
       "      <td>1.73855</td>\n",
       "      <td>0.094822</td>\n",
       "      <td>11.339138</td>\n",
       "      <td>72.611063</td>\n",
       "      <td>2003.810319</td>\n",
       "      <td>22.136229</td>\n",
       "      <td>69.834944</td>\n",
       "      <td>0.120343</td>\n",
       "      <td>1</td>\n",
       "    </tr>\n",
       "    <tr>\n",
       "      <th>1</th>\n",
       "      <td>007255e47698</td>\n",
       "      <td>0.145282</td>\n",
       "      <td>978.76416</td>\n",
       "      <td>85.200147</td>\n",
       "      <td>36.968889</td>\n",
       "      <td>8.138688</td>\n",
       "      <td>3.632190</td>\n",
       "      <td>0.025578</td>\n",
       "      <td>13.517790</td>\n",
       "      <td>1.229900</td>\n",
       "      <td>...</td>\n",
       "      <td>0.173229</td>\n",
       "      <td>0.49706</td>\n",
       "      <td>0.568932</td>\n",
       "      <td>9.292698</td>\n",
       "      <td>72.611063</td>\n",
       "      <td>27981.562750</td>\n",
       "      <td>29.135430</td>\n",
       "      <td>32.131996</td>\n",
       "      <td>21.978000</td>\n",
       "      <td>0</td>\n",
       "    </tr>\n",
       "    <tr>\n",
       "      <th>2</th>\n",
       "      <td>013f2bd269f5</td>\n",
       "      <td>0.470030</td>\n",
       "      <td>2635.10654</td>\n",
       "      <td>85.200147</td>\n",
       "      <td>32.360553</td>\n",
       "      <td>8.138688</td>\n",
       "      <td>6.732840</td>\n",
       "      <td>0.025578</td>\n",
       "      <td>12.824570</td>\n",
       "      <td>1.229900</td>\n",
       "      <td>...</td>\n",
       "      <td>7.709560</td>\n",
       "      <td>0.97556</td>\n",
       "      <td>1.198821</td>\n",
       "      <td>37.077772</td>\n",
       "      <td>88.609437</td>\n",
       "      <td>13676.957810</td>\n",
       "      <td>28.022851</td>\n",
       "      <td>35.192676</td>\n",
       "      <td>0.196941</td>\n",
       "      <td>0</td>\n",
       "    </tr>\n",
       "    <tr>\n",
       "      <th>3</th>\n",
       "      <td>043ac50845d5</td>\n",
       "      <td>0.252107</td>\n",
       "      <td>3819.65177</td>\n",
       "      <td>120.201618</td>\n",
       "      <td>77.112203</td>\n",
       "      <td>8.138688</td>\n",
       "      <td>3.685344</td>\n",
       "      <td>0.025578</td>\n",
       "      <td>11.053708</td>\n",
       "      <td>1.229900</td>\n",
       "      <td>...</td>\n",
       "      <td>6.122162</td>\n",
       "      <td>0.49706</td>\n",
       "      <td>0.284466</td>\n",
       "      <td>18.529584</td>\n",
       "      <td>82.416803</td>\n",
       "      <td>2094.262452</td>\n",
       "      <td>39.948656</td>\n",
       "      <td>90.493248</td>\n",
       "      <td>0.155829</td>\n",
       "      <td>0</td>\n",
       "    </tr>\n",
       "    <tr>\n",
       "      <th>4</th>\n",
       "      <td>044fb8a146ec</td>\n",
       "      <td>0.380297</td>\n",
       "      <td>3733.04844</td>\n",
       "      <td>85.200147</td>\n",
       "      <td>14.103738</td>\n",
       "      <td>8.138688</td>\n",
       "      <td>3.942255</td>\n",
       "      <td>0.054810</td>\n",
       "      <td>3.396778</td>\n",
       "      <td>102.151980</td>\n",
       "      <td>...</td>\n",
       "      <td>8.153058</td>\n",
       "      <td>48.50134</td>\n",
       "      <td>0.121914</td>\n",
       "      <td>16.408728</td>\n",
       "      <td>146.109943</td>\n",
       "      <td>8524.370502</td>\n",
       "      <td>45.381316</td>\n",
       "      <td>36.262628</td>\n",
       "      <td>0.096614</td>\n",
       "      <td>1</td>\n",
       "    </tr>\n",
       "    <tr>\n",
       "      <th>...</th>\n",
       "      <td>...</td>\n",
       "      <td>...</td>\n",
       "      <td>...</td>\n",
       "      <td>...</td>\n",
       "      <td>...</td>\n",
       "      <td>...</td>\n",
       "      <td>...</td>\n",
       "      <td>...</td>\n",
       "      <td>...</td>\n",
       "      <td>...</td>\n",
       "      <td>...</td>\n",
       "      <td>...</td>\n",
       "      <td>...</td>\n",
       "      <td>...</td>\n",
       "      <td>...</td>\n",
       "      <td>...</td>\n",
       "      <td>...</td>\n",
       "      <td>...</td>\n",
       "      <td>...</td>\n",
       "      <td>...</td>\n",
       "      <td>...</td>\n",
       "    </tr>\n",
       "    <tr>\n",
       "      <th>612</th>\n",
       "      <td>fd3dafe738fd</td>\n",
       "      <td>0.149555</td>\n",
       "      <td>3130.05946</td>\n",
       "      <td>123.763599</td>\n",
       "      <td>9.513984</td>\n",
       "      <td>13.020852</td>\n",
       "      <td>3.499305</td>\n",
       "      <td>0.077343</td>\n",
       "      <td>8.545512</td>\n",
       "      <td>2.804172</td>\n",
       "      <td>...</td>\n",
       "      <td>0.173229</td>\n",
       "      <td>1.26092</td>\n",
       "      <td>0.067730</td>\n",
       "      <td>8.967128</td>\n",
       "      <td>217.148554</td>\n",
       "      <td>8095.932828</td>\n",
       "      <td>24.640462</td>\n",
       "      <td>69.191944</td>\n",
       "      <td>21.978000</td>\n",
       "      <td>0</td>\n",
       "    </tr>\n",
       "    <tr>\n",
       "      <th>613</th>\n",
       "      <td>fd895603f071</td>\n",
       "      <td>0.435846</td>\n",
       "      <td>5462.03438</td>\n",
       "      <td>85.200147</td>\n",
       "      <td>46.551007</td>\n",
       "      <td>15.973224</td>\n",
       "      <td>5.979825</td>\n",
       "      <td>0.025882</td>\n",
       "      <td>12.622906</td>\n",
       "      <td>3.777550</td>\n",
       "      <td>...</td>\n",
       "      <td>10.223150</td>\n",
       "      <td>1.24236</td>\n",
       "      <td>0.426699</td>\n",
       "      <td>35.896418</td>\n",
       "      <td>496.994214</td>\n",
       "      <td>3085.308063</td>\n",
       "      <td>29.648928</td>\n",
       "      <td>124.808872</td>\n",
       "      <td>0.145340</td>\n",
       "      <td>0</td>\n",
       "    </tr>\n",
       "    <tr>\n",
       "      <th>614</th>\n",
       "      <td>fd8ef6377f76</td>\n",
       "      <td>0.427300</td>\n",
       "      <td>2459.10720</td>\n",
       "      <td>130.138587</td>\n",
       "      <td>55.355778</td>\n",
       "      <td>10.005552</td>\n",
       "      <td>8.070549</td>\n",
       "      <td>0.025578</td>\n",
       "      <td>15.408390</td>\n",
       "      <td>1.229900</td>\n",
       "      <td>...</td>\n",
       "      <td>0.173229</td>\n",
       "      <td>0.49706</td>\n",
       "      <td>0.067730</td>\n",
       "      <td>19.962092</td>\n",
       "      <td>128.896894</td>\n",
       "      <td>6474.652866</td>\n",
       "      <td>26.166072</td>\n",
       "      <td>119.559420</td>\n",
       "      <td>21.978000</td>\n",
       "      <td>0</td>\n",
       "    </tr>\n",
       "    <tr>\n",
       "      <th>615</th>\n",
       "      <td>fe1942975e40</td>\n",
       "      <td>0.363205</td>\n",
       "      <td>1263.53524</td>\n",
       "      <td>85.200147</td>\n",
       "      <td>23.685856</td>\n",
       "      <td>8.138688</td>\n",
       "      <td>7.981959</td>\n",
       "      <td>0.025578</td>\n",
       "      <td>7.524588</td>\n",
       "      <td>1.229900</td>\n",
       "      <td>...</td>\n",
       "      <td>9.256996</td>\n",
       "      <td>0.78764</td>\n",
       "      <td>0.670527</td>\n",
       "      <td>24.594488</td>\n",
       "      <td>72.611063</td>\n",
       "      <td>1965.343176</td>\n",
       "      <td>25.116750</td>\n",
       "      <td>37.155112</td>\n",
       "      <td>0.184622</td>\n",
       "      <td>0</td>\n",
       "    </tr>\n",
       "    <tr>\n",
       "      <th>616</th>\n",
       "      <td>ffcca4ded3bb</td>\n",
       "      <td>0.482849</td>\n",
       "      <td>2672.53426</td>\n",
       "      <td>546.663930</td>\n",
       "      <td>112.006102</td>\n",
       "      <td>8.138688</td>\n",
       "      <td>3.198099</td>\n",
       "      <td>0.116928</td>\n",
       "      <td>3.396778</td>\n",
       "      <td>7.948668</td>\n",
       "      <td>...</td>\n",
       "      <td>0.173229</td>\n",
       "      <td>1.14492</td>\n",
       "      <td>0.149006</td>\n",
       "      <td>13.673940</td>\n",
       "      <td>72.611063</td>\n",
       "      <td>6850.484442</td>\n",
       "      <td>45.745974</td>\n",
       "      <td>114.842372</td>\n",
       "      <td>21.978000</td>\n",
       "      <td>0</td>\n",
       "    </tr>\n",
       "  </tbody>\n",
       "</table>\n",
       "<p>617 rows × 58 columns</p>\n",
       "</div>"
      ],
      "text/plain": [
       "               Id        AB          AF          AH          AM         AR  \\\n",
       "0    000ff2bfdfe9  0.209377  3109.03329   85.200147   22.394407   8.138688   \n",
       "1    007255e47698  0.145282   978.76416   85.200147   36.968889   8.138688   \n",
       "2    013f2bd269f5  0.470030  2635.10654   85.200147   32.360553   8.138688   \n",
       "3    043ac50845d5  0.252107  3819.65177  120.201618   77.112203   8.138688   \n",
       "4    044fb8a146ec  0.380297  3733.04844   85.200147   14.103738   8.138688   \n",
       "..            ...       ...         ...         ...         ...        ...   \n",
       "612  fd3dafe738fd  0.149555  3130.05946  123.763599    9.513984  13.020852   \n",
       "613  fd895603f071  0.435846  5462.03438   85.200147   46.551007  15.973224   \n",
       "614  fd8ef6377f76  0.427300  2459.10720  130.138587   55.355778  10.005552   \n",
       "615  fe1942975e40  0.363205  1263.53524   85.200147   23.685856   8.138688   \n",
       "616  ffcca4ded3bb  0.482849  2672.53426  546.663930  112.006102   8.138688   \n",
       "\n",
       "           AX        AY         AZ          BC  ...         FL        FR  \\\n",
       "0    0.699861  0.025578   9.812214    5.555634  ...   7.298162   1.73855   \n",
       "1    3.632190  0.025578  13.517790    1.229900  ...   0.173229   0.49706   \n",
       "2    6.732840  0.025578  12.824570    1.229900  ...   7.709560   0.97556   \n",
       "3    3.685344  0.025578  11.053708    1.229900  ...   6.122162   0.49706   \n",
       "4    3.942255  0.054810   3.396778  102.151980  ...   8.153058  48.50134   \n",
       "..        ...       ...        ...         ...  ...        ...       ...   \n",
       "612  3.499305  0.077343   8.545512    2.804172  ...   0.173229   1.26092   \n",
       "613  5.979825  0.025882  12.622906    3.777550  ...  10.223150   1.24236   \n",
       "614  8.070549  0.025578  15.408390    1.229900  ...   0.173229   0.49706   \n",
       "615  7.981959  0.025578   7.524588    1.229900  ...   9.256996   0.78764   \n",
       "616  3.198099  0.116928   3.396778    7.948668  ...   0.173229   1.14492   \n",
       "\n",
       "           FS         GB          GE            GF         GH          GI  \\\n",
       "0    0.094822  11.339138   72.611063   2003.810319  22.136229   69.834944   \n",
       "1    0.568932   9.292698   72.611063  27981.562750  29.135430   32.131996   \n",
       "2    1.198821  37.077772   88.609437  13676.957810  28.022851   35.192676   \n",
       "3    0.284466  18.529584   82.416803   2094.262452  39.948656   90.493248   \n",
       "4    0.121914  16.408728  146.109943   8524.370502  45.381316   36.262628   \n",
       "..        ...        ...         ...           ...        ...         ...   \n",
       "612  0.067730   8.967128  217.148554   8095.932828  24.640462   69.191944   \n",
       "613  0.426699  35.896418  496.994214   3085.308063  29.648928  124.808872   \n",
       "614  0.067730  19.962092  128.896894   6474.652866  26.166072  119.559420   \n",
       "615  0.670527  24.594488   72.611063   1965.343176  25.116750   37.155112   \n",
       "616  0.149006  13.673940   72.611063   6850.484442  45.745974  114.842372   \n",
       "\n",
       "            GL  Class  \n",
       "0     0.120343      1  \n",
       "1    21.978000      0  \n",
       "2     0.196941      0  \n",
       "3     0.155829      0  \n",
       "4     0.096614      1  \n",
       "..         ...    ...  \n",
       "612  21.978000      0  \n",
       "613   0.145340      0  \n",
       "614  21.978000      0  \n",
       "615   0.184622      0  \n",
       "616  21.978000      0  \n",
       "\n",
       "[617 rows x 58 columns]"
      ]
     },
     "execution_count": 5,
     "metadata": {},
     "output_type": "execute_result"
    }
   ],
   "source": [
    "train_df = pd.read_csv(input_path / \"train.csv\")\n",
    "train_df"
   ]
  },
  {
   "cell_type": "code",
   "execution_count": 6,
   "id": "c141ced7-7177-4a66-a09c-bb5bfa355138",
   "metadata": {},
   "outputs": [
    {
     "name": "stdout",
     "output_type": "stream",
     "text": [
      "<class 'pandas.core.frame.DataFrame'>\n",
      "RangeIndex: 617 entries, 0 to 616\n",
      "Data columns (total 58 columns):\n",
      " #   Column  Non-Null Count  Dtype  \n",
      "---  ------  --------------  -----  \n",
      " 0   Id      617 non-null    object \n",
      " 1   AB      617 non-null    float64\n",
      " 2   AF      617 non-null    float64\n",
      " 3   AH      617 non-null    float64\n",
      " 4   AM      617 non-null    float64\n",
      " 5   AR      617 non-null    float64\n",
      " 6   AX      617 non-null    float64\n",
      " 7   AY      617 non-null    float64\n",
      " 8   AZ      617 non-null    float64\n",
      " 9   BC      617 non-null    float64\n",
      " 10  BD      617 non-null    float64\n",
      " 11  BN      617 non-null    float64\n",
      " 12  BP      617 non-null    float64\n",
      " 13  BQ      557 non-null    float64\n",
      " 14  BR      617 non-null    float64\n",
      " 15  BZ      617 non-null    float64\n",
      " 16  CB      615 non-null    float64\n",
      " 17  CC      614 non-null    float64\n",
      " 18  CD      617 non-null    float64\n",
      " 19  CF      617 non-null    float64\n",
      " 20  CH      617 non-null    float64\n",
      " 21  CL      617 non-null    float64\n",
      " 22  CR      617 non-null    float64\n",
      " 23  CS      617 non-null    float64\n",
      " 24  CU      617 non-null    float64\n",
      " 25  CW      617 non-null    float64\n",
      " 26  DA      617 non-null    float64\n",
      " 27  DE      617 non-null    float64\n",
      " 28  DF      617 non-null    float64\n",
      " 29  DH      617 non-null    float64\n",
      " 30  DI      617 non-null    float64\n",
      " 31  DL      617 non-null    float64\n",
      " 32  DN      617 non-null    float64\n",
      " 33  DU      616 non-null    float64\n",
      " 34  DV      617 non-null    float64\n",
      " 35  DY      617 non-null    float64\n",
      " 36  EB      617 non-null    float64\n",
      " 37  EE      617 non-null    float64\n",
      " 38  EG      617 non-null    float64\n",
      " 39  EH      617 non-null    float64\n",
      " 40  EJ      617 non-null    object \n",
      " 41  EL      557 non-null    float64\n",
      " 42  EP      617 non-null    float64\n",
      " 43  EU      617 non-null    float64\n",
      " 44  FC      616 non-null    float64\n",
      " 45  FD      617 non-null    float64\n",
      " 46  FE      617 non-null    float64\n",
      " 47  FI      617 non-null    float64\n",
      " 48  FL      616 non-null    float64\n",
      " 49  FR      617 non-null    float64\n",
      " 50  FS      615 non-null    float64\n",
      " 51  GB      617 non-null    float64\n",
      " 52  GE      617 non-null    float64\n",
      " 53  GF      617 non-null    float64\n",
      " 54  GH      617 non-null    float64\n",
      " 55  GI      617 non-null    float64\n",
      " 56  GL      616 non-null    float64\n",
      " 57  Class   617 non-null    int64  \n",
      "dtypes: float64(55), int64(1), object(2)\n",
      "memory usage: 279.7+ KB\n"
     ]
    }
   ],
   "source": [
    "train_df.info()"
   ]
  },
  {
   "cell_type": "markdown",
   "id": "64f9af1b-1923-47e2-9a95-4e50ce12b7c8",
   "metadata": {},
   "source": [
    "We have a columns `Id`, unique identifier for the observation, followed by 56 anonymized health characteristics and the predictions `Class`, where 1 is positive and 0 is negative."
   ]
  },
  {
   "cell_type": "code",
   "execution_count": 7,
   "id": "67c0210e-0211-4f90-a0a3-8781d51ec711",
   "metadata": {},
   "outputs": [
    {
     "data": {
      "text/html": [
       "<div>\n",
       "<style scoped>\n",
       "    .dataframe tbody tr th:only-of-type {\n",
       "        vertical-align: middle;\n",
       "    }\n",
       "\n",
       "    .dataframe tbody tr th {\n",
       "        vertical-align: top;\n",
       "    }\n",
       "\n",
       "    .dataframe thead th {\n",
       "        text-align: right;\n",
       "    }\n",
       "</style>\n",
       "<table border=\"1\" class=\"dataframe\">\n",
       "  <thead>\n",
       "    <tr style=\"text-align: right;\">\n",
       "      <th></th>\n",
       "      <th>AB</th>\n",
       "      <th>AF</th>\n",
       "      <th>AH</th>\n",
       "      <th>AM</th>\n",
       "      <th>AR</th>\n",
       "      <th>AX</th>\n",
       "      <th>AY</th>\n",
       "      <th>AZ</th>\n",
       "      <th>BC</th>\n",
       "      <th>BD</th>\n",
       "      <th>...</th>\n",
       "      <th>FL</th>\n",
       "      <th>FR</th>\n",
       "      <th>FS</th>\n",
       "      <th>GB</th>\n",
       "      <th>GE</th>\n",
       "      <th>GF</th>\n",
       "      <th>GH</th>\n",
       "      <th>GI</th>\n",
       "      <th>GL</th>\n",
       "      <th>Class</th>\n",
       "    </tr>\n",
       "  </thead>\n",
       "  <tbody>\n",
       "    <tr>\n",
       "      <th>count</th>\n",
       "      <td>617.000000</td>\n",
       "      <td>617.000000</td>\n",
       "      <td>617.000000</td>\n",
       "      <td>617.000000</td>\n",
       "      <td>617.000000</td>\n",
       "      <td>617.000000</td>\n",
       "      <td>617.000000</td>\n",
       "      <td>617.000000</td>\n",
       "      <td>617.000000</td>\n",
       "      <td>617.000000</td>\n",
       "      <td>...</td>\n",
       "      <td>616.000000</td>\n",
       "      <td>617.000000</td>\n",
       "      <td>615.000000</td>\n",
       "      <td>617.000000</td>\n",
       "      <td>617.000000</td>\n",
       "      <td>617.000000</td>\n",
       "      <td>617.000000</td>\n",
       "      <td>617.000000</td>\n",
       "      <td>616.000000</td>\n",
       "      <td>617.000000</td>\n",
       "    </tr>\n",
       "    <tr>\n",
       "      <th>mean</th>\n",
       "      <td>0.477149</td>\n",
       "      <td>3502.013221</td>\n",
       "      <td>118.624513</td>\n",
       "      <td>38.968552</td>\n",
       "      <td>10.128242</td>\n",
       "      <td>5.545576</td>\n",
       "      <td>0.060320</td>\n",
       "      <td>10.566447</td>\n",
       "      <td>8.053012</td>\n",
       "      <td>5350.388655</td>\n",
       "      <td>...</td>\n",
       "      <td>5.433199</td>\n",
       "      <td>3.533905</td>\n",
       "      <td>0.421501</td>\n",
       "      <td>20.724856</td>\n",
       "      <td>131.714987</td>\n",
       "      <td>14679.595398</td>\n",
       "      <td>31.489716</td>\n",
       "      <td>50.584437</td>\n",
       "      <td>8.530961</td>\n",
       "      <td>0.175041</td>\n",
       "    </tr>\n",
       "    <tr>\n",
       "      <th>std</th>\n",
       "      <td>0.468388</td>\n",
       "      <td>2300.322717</td>\n",
       "      <td>127.838950</td>\n",
       "      <td>69.728226</td>\n",
       "      <td>10.518877</td>\n",
       "      <td>2.551696</td>\n",
       "      <td>0.416817</td>\n",
       "      <td>4.350645</td>\n",
       "      <td>65.166943</td>\n",
       "      <td>3021.326641</td>\n",
       "      <td>...</td>\n",
       "      <td>11.496257</td>\n",
       "      <td>50.181948</td>\n",
       "      <td>1.305365</td>\n",
       "      <td>9.991907</td>\n",
       "      <td>144.181524</td>\n",
       "      <td>19352.959387</td>\n",
       "      <td>9.864239</td>\n",
       "      <td>36.266251</td>\n",
       "      <td>10.327010</td>\n",
       "      <td>0.380310</td>\n",
       "    </tr>\n",
       "    <tr>\n",
       "      <th>min</th>\n",
       "      <td>0.081187</td>\n",
       "      <td>192.593280</td>\n",
       "      <td>85.200147</td>\n",
       "      <td>3.177522</td>\n",
       "      <td>8.138688</td>\n",
       "      <td>0.699861</td>\n",
       "      <td>0.025578</td>\n",
       "      <td>3.396778</td>\n",
       "      <td>1.229900</td>\n",
       "      <td>1693.624320</td>\n",
       "      <td>...</td>\n",
       "      <td>0.173229</td>\n",
       "      <td>0.497060</td>\n",
       "      <td>0.067730</td>\n",
       "      <td>4.102182</td>\n",
       "      <td>72.611063</td>\n",
       "      <td>13.038894</td>\n",
       "      <td>9.432735</td>\n",
       "      <td>0.897628</td>\n",
       "      <td>0.001129</td>\n",
       "      <td>0.000000</td>\n",
       "    </tr>\n",
       "    <tr>\n",
       "      <th>25%</th>\n",
       "      <td>0.252107</td>\n",
       "      <td>2197.345480</td>\n",
       "      <td>85.200147</td>\n",
       "      <td>12.270314</td>\n",
       "      <td>8.138688</td>\n",
       "      <td>4.128294</td>\n",
       "      <td>0.025578</td>\n",
       "      <td>8.129580</td>\n",
       "      <td>1.229900</td>\n",
       "      <td>4155.702870</td>\n",
       "      <td>...</td>\n",
       "      <td>0.173229</td>\n",
       "      <td>0.497060</td>\n",
       "      <td>0.067730</td>\n",
       "      <td>14.036718</td>\n",
       "      <td>72.611063</td>\n",
       "      <td>2798.992584</td>\n",
       "      <td>25.034888</td>\n",
       "      <td>23.011684</td>\n",
       "      <td>0.124392</td>\n",
       "      <td>0.000000</td>\n",
       "    </tr>\n",
       "    <tr>\n",
       "      <th>50%</th>\n",
       "      <td>0.354659</td>\n",
       "      <td>3120.318960</td>\n",
       "      <td>85.200147</td>\n",
       "      <td>20.533110</td>\n",
       "      <td>8.138688</td>\n",
       "      <td>5.031912</td>\n",
       "      <td>0.025578</td>\n",
       "      <td>10.461320</td>\n",
       "      <td>1.229900</td>\n",
       "      <td>4997.960730</td>\n",
       "      <td>...</td>\n",
       "      <td>3.028141</td>\n",
       "      <td>1.131000</td>\n",
       "      <td>0.250601</td>\n",
       "      <td>18.771436</td>\n",
       "      <td>72.611063</td>\n",
       "      <td>7838.273610</td>\n",
       "      <td>30.608946</td>\n",
       "      <td>41.007968</td>\n",
       "      <td>0.337827</td>\n",
       "      <td>0.000000</td>\n",
       "    </tr>\n",
       "    <tr>\n",
       "      <th>75%</th>\n",
       "      <td>0.559763</td>\n",
       "      <td>4361.637390</td>\n",
       "      <td>113.739540</td>\n",
       "      <td>39.139886</td>\n",
       "      <td>8.138688</td>\n",
       "      <td>6.431634</td>\n",
       "      <td>0.036845</td>\n",
       "      <td>12.969516</td>\n",
       "      <td>5.081244</td>\n",
       "      <td>6035.885700</td>\n",
       "      <td>...</td>\n",
       "      <td>6.238814</td>\n",
       "      <td>1.512060</td>\n",
       "      <td>0.535067</td>\n",
       "      <td>25.608406</td>\n",
       "      <td>127.591671</td>\n",
       "      <td>19035.709240</td>\n",
       "      <td>36.863947</td>\n",
       "      <td>67.931664</td>\n",
       "      <td>21.978000</td>\n",
       "      <td>0.000000</td>\n",
       "    </tr>\n",
       "    <tr>\n",
       "      <th>max</th>\n",
       "      <td>6.161666</td>\n",
       "      <td>28688.187660</td>\n",
       "      <td>1910.123198</td>\n",
       "      <td>630.518230</td>\n",
       "      <td>178.943634</td>\n",
       "      <td>38.270880</td>\n",
       "      <td>10.315851</td>\n",
       "      <td>38.971568</td>\n",
       "      <td>1463.693448</td>\n",
       "      <td>53060.599240</td>\n",
       "      <td>...</td>\n",
       "      <td>137.932739</td>\n",
       "      <td>1244.227020</td>\n",
       "      <td>31.365763</td>\n",
       "      <td>135.781294</td>\n",
       "      <td>1497.351958</td>\n",
       "      <td>143790.071200</td>\n",
       "      <td>81.210825</td>\n",
       "      <td>191.194764</td>\n",
       "      <td>21.978000</td>\n",
       "      <td>1.000000</td>\n",
       "    </tr>\n",
       "  </tbody>\n",
       "</table>\n",
       "<p>8 rows × 56 columns</p>\n",
       "</div>"
      ],
      "text/plain": [
       "               AB            AF           AH          AM          AR  \\\n",
       "count  617.000000    617.000000   617.000000  617.000000  617.000000   \n",
       "mean     0.477149   3502.013221   118.624513   38.968552   10.128242   \n",
       "std      0.468388   2300.322717   127.838950   69.728226   10.518877   \n",
       "min      0.081187    192.593280    85.200147    3.177522    8.138688   \n",
       "25%      0.252107   2197.345480    85.200147   12.270314    8.138688   \n",
       "50%      0.354659   3120.318960    85.200147   20.533110    8.138688   \n",
       "75%      0.559763   4361.637390   113.739540   39.139886    8.138688   \n",
       "max      6.161666  28688.187660  1910.123198  630.518230  178.943634   \n",
       "\n",
       "               AX          AY          AZ           BC           BD   ...  \\\n",
       "count  617.000000  617.000000  617.000000   617.000000    617.000000  ...   \n",
       "mean     5.545576    0.060320   10.566447     8.053012   5350.388655  ...   \n",
       "std      2.551696    0.416817    4.350645    65.166943   3021.326641  ...   \n",
       "min      0.699861    0.025578    3.396778     1.229900   1693.624320  ...   \n",
       "25%      4.128294    0.025578    8.129580     1.229900   4155.702870  ...   \n",
       "50%      5.031912    0.025578   10.461320     1.229900   4997.960730  ...   \n",
       "75%      6.431634    0.036845   12.969516     5.081244   6035.885700  ...   \n",
       "max     38.270880   10.315851   38.971568  1463.693448  53060.599240  ...   \n",
       "\n",
       "               FL           FR          FS          GB           GE  \\\n",
       "count  616.000000   617.000000  615.000000  617.000000   617.000000   \n",
       "mean     5.433199     3.533905    0.421501   20.724856   131.714987   \n",
       "std     11.496257    50.181948    1.305365    9.991907   144.181524   \n",
       "min      0.173229     0.497060    0.067730    4.102182    72.611063   \n",
       "25%      0.173229     0.497060    0.067730   14.036718    72.611063   \n",
       "50%      3.028141     1.131000    0.250601   18.771436    72.611063   \n",
       "75%      6.238814     1.512060    0.535067   25.608406   127.591671   \n",
       "max    137.932739  1244.227020   31.365763  135.781294  1497.351958   \n",
       "\n",
       "                  GF          GH          GI          GL       Class  \n",
       "count     617.000000  617.000000  617.000000  616.000000  617.000000  \n",
       "mean    14679.595398   31.489716   50.584437    8.530961    0.175041  \n",
       "std     19352.959387    9.864239   36.266251   10.327010    0.380310  \n",
       "min        13.038894    9.432735    0.897628    0.001129    0.000000  \n",
       "25%      2798.992584   25.034888   23.011684    0.124392    0.000000  \n",
       "50%      7838.273610   30.608946   41.007968    0.337827    0.000000  \n",
       "75%     19035.709240   36.863947   67.931664   21.978000    0.000000  \n",
       "max    143790.071200   81.210825  191.194764   21.978000    1.000000  \n",
       "\n",
       "[8 rows x 56 columns]"
      ]
     },
     "execution_count": 7,
     "metadata": {},
     "output_type": "execute_result"
    }
   ],
   "source": [
    "train_df.describe()"
   ]
  },
  {
   "cell_type": "markdown",
   "id": "b89c2ad7-e397-47dc-8974-b72819886526",
   "metadata": {},
   "source": [
    "The mean value of Class much closer to zero, which means that we have more observations classified as negative than positive."
   ]
  },
  {
   "cell_type": "code",
   "execution_count": 8,
   "id": "aefc586e-d882-4c1c-a5d9-b612e608697f",
   "metadata": {},
   "outputs": [
    {
     "data": {
      "text/plain": [
       "<Axes: ylabel='count'>"
      ]
     },
     "execution_count": 8,
     "metadata": {},
     "output_type": "execute_result"
    },
    {
     "data": {
      "image/png": "[encoded data removed]",
      "text/plain": [
       "<Figure size 640x480 with 1 Axes>"
      ]
     },
     "metadata": {},
     "output_type": "display_data"
    }
   ],
   "source": [
    "train_df.Class.value_counts().plot(kind=\"pie\")"
   ]
  },
  {
   "cell_type": "markdown",
   "id": "587a40e2-cf22-4ec2-b598-cca65f32e9d5",
   "metadata": {},
   "source": [
    "We can show the null values by column:"
   ]
  },
  {
   "cell_type": "code",
   "execution_count": 9,
   "id": "c1506c3d-f425-43b7-a97e-f016642316d5",
   "metadata": {},
   "outputs": [
    {
     "data": {
      "text/plain": [
       "BQ    60\n",
       "CB     2\n",
       "CC     3\n",
       "DU     1\n",
       "EL    60\n",
       "FC     1\n",
       "FL     1\n",
       "FS     2\n",
       "GL     1\n",
       "dtype: int64"
      ]
     },
     "execution_count": 9,
     "metadata": {},
     "output_type": "execute_result"
    }
   ],
   "source": [
    "na_col_count = train_df.isna().sum()\n",
    "na_col_count = na_col_count[na_col_count > 0]\n",
    "na_col_count"
   ]
  },
  {
   "cell_type": "markdown",
   "id": "e2c4e6dc-2d68-49f1-9b07-c407e4ce2939",
   "metadata": {},
   "source": [
    "To take care of null values, we'll replace them with the mode of each column. "
   ]
  },
  {
   "cell_type": "code",
   "execution_count": 10,
   "id": "aa861cfa-6d31-48af-affd-582fe9cb25b3",
   "metadata": {},
   "outputs": [
    {
     "data": {
      "text/plain": [
       "0"
      ]
     },
     "execution_count": 10,
     "metadata": {},
     "output_type": "execute_result"
    }
   ],
   "source": [
    "mode = train_df.BQ.mode()[0]\n",
    "train_df.BQ.fillna(mode).isna().sum()"
   ]
  },
  {
   "cell_type": "markdown",
   "id": "f3d9b0f7-c2aa-4467-904b-bae8f732f422",
   "metadata": {},
   "source": [
    "We'll also add a separate column for each of them with a boolean indicating whether the original value was null. This may be useful in the case where a null value is a useful predictor. The new columns will have data like below:"
   ]
  },
  {
   "cell_type": "code",
   "execution_count": 11,
   "id": "d5b24391-e6f5-42ad-b43a-e08711e51621",
   "metadata": {},
   "outputs": [
    {
     "data": {
      "text/plain": [
       "0      0\n",
       "1      0\n",
       "2      0\n",
       "3      0\n",
       "4      0\n",
       "      ..\n",
       "612    0\n",
       "613    0\n",
       "614    0\n",
       "615    1\n",
       "616    0\n",
       "Name: BQ, Length: 617, dtype: int64"
      ]
     },
     "execution_count": 11,
     "metadata": {},
     "output_type": "execute_result"
    }
   ],
   "source": [
    "train_df.BQ.isna().astype('int')"
   ]
  },
  {
   "cell_type": "markdown",
   "id": "2d8643cd-d914-4a34-b73a-6ce16cf898ac",
   "metadata": {},
   "source": [
    "We take a look at the non-numeric columns:"
   ]
  },
  {
   "cell_type": "code",
   "execution_count": 12,
   "id": "15dcebd1-6cf8-4172-b3ce-dec4c40ad852",
   "metadata": {},
   "outputs": [
    {
     "data": {
      "text/html": [
       "<div>\n",
       "<style scoped>\n",
       "    .dataframe tbody tr th:only-of-type {\n",
       "        vertical-align: middle;\n",
       "    }\n",
       "\n",
       "    .dataframe tbody tr th {\n",
       "        vertical-align: top;\n",
       "    }\n",
       "\n",
       "    .dataframe thead th {\n",
       "        text-align: right;\n",
       "    }\n",
       "</style>\n",
       "<table border=\"1\" class=\"dataframe\">\n",
       "  <thead>\n",
       "    <tr style=\"text-align: right;\">\n",
       "      <th></th>\n",
       "      <th>Id</th>\n",
       "      <th>EJ</th>\n",
       "    </tr>\n",
       "  </thead>\n",
       "  <tbody>\n",
       "    <tr>\n",
       "      <th>count</th>\n",
       "      <td>617</td>\n",
       "      <td>617</td>\n",
       "    </tr>\n",
       "    <tr>\n",
       "      <th>unique</th>\n",
       "      <td>617</td>\n",
       "      <td>2</td>\n",
       "    </tr>\n",
       "    <tr>\n",
       "      <th>top</th>\n",
       "      <td>000ff2bfdfe9</td>\n",
       "      <td>B</td>\n",
       "    </tr>\n",
       "    <tr>\n",
       "      <th>freq</th>\n",
       "      <td>1</td>\n",
       "      <td>395</td>\n",
       "    </tr>\n",
       "  </tbody>\n",
       "</table>\n",
       "</div>"
      ],
      "text/plain": [
       "                  Id   EJ\n",
       "count            617  617\n",
       "unique           617    2\n",
       "top     000ff2bfdfe9    B\n",
       "freq               1  395"
      ]
     },
     "execution_count": 12,
     "metadata": {},
     "output_type": "execute_result"
    }
   ],
   "source": [
    "train_df.describe(include=[object])"
   ]
  },
  {
   "cell_type": "markdown",
   "id": "d84df174-6cdf-4af8-993e-766251fbad57",
   "metadata": {},
   "source": [
    "Since we'll be doing multiplication by parameters of the model, we need all inputs as numeric values. We typically treat non-numeric types as categorical variables, replacing them with additional columns for each unique value in the category. Each row will have a boolean value indicating which category it's value belongs to.\n",
    "\n",
    "`Id` has too many values to be broken out into multiple categories and should be unique per observation, so we'll exclude it. We can get categories for the EJ column as with pandas method `get_dummies` as below:"
   ]
  },
  {
   "cell_type": "code",
   "execution_count": 13,
   "id": "305114a0-50ad-4b8e-826d-fa2214349eed",
   "metadata": {},
   "outputs": [
    {
     "data": {
      "text/plain": [
       "0    B\n",
       "1    A\n",
       "2    B\n",
       "3    B\n",
       "4    B\n",
       "Name: EJ, dtype: object"
      ]
     },
     "execution_count": 13,
     "metadata": {},
     "output_type": "execute_result"
    }
   ],
   "source": [
    "train_df.EJ[:5]"
   ]
  },
  {
   "cell_type": "code",
   "execution_count": 14,
   "id": "a4989be6-8885-4c6c-9c71-afe3ee429a1f",
   "metadata": {},
   "outputs": [
    {
     "data": {
      "text/html": [
       "<div>\n",
       "<style scoped>\n",
       "    .dataframe tbody tr th:only-of-type {\n",
       "        vertical-align: middle;\n",
       "    }\n",
       "\n",
       "    .dataframe tbody tr th {\n",
       "        vertical-align: top;\n",
       "    }\n",
       "\n",
       "    .dataframe thead th {\n",
       "        text-align: right;\n",
       "    }\n",
       "</style>\n",
       "<table border=\"1\" class=\"dataframe\">\n",
       "  <thead>\n",
       "    <tr style=\"text-align: right;\">\n",
       "      <th></th>\n",
       "      <th>EJ_A</th>\n",
       "      <th>EJ_B</th>\n",
       "    </tr>\n",
       "  </thead>\n",
       "  <tbody>\n",
       "    <tr>\n",
       "      <th>0</th>\n",
       "      <td>False</td>\n",
       "      <td>True</td>\n",
       "    </tr>\n",
       "    <tr>\n",
       "      <th>1</th>\n",
       "      <td>True</td>\n",
       "      <td>False</td>\n",
       "    </tr>\n",
       "    <tr>\n",
       "      <th>2</th>\n",
       "      <td>False</td>\n",
       "      <td>True</td>\n",
       "    </tr>\n",
       "    <tr>\n",
       "      <th>3</th>\n",
       "      <td>False</td>\n",
       "      <td>True</td>\n",
       "    </tr>\n",
       "    <tr>\n",
       "      <th>4</th>\n",
       "      <td>False</td>\n",
       "      <td>True</td>\n",
       "    </tr>\n",
       "  </tbody>\n",
       "</table>\n",
       "</div>"
      ],
      "text/plain": [
       "    EJ_A   EJ_B\n",
       "0  False   True\n",
       "1   True  False\n",
       "2  False   True\n",
       "3  False   True\n",
       "4  False   True"
      ]
     },
     "execution_count": 14,
     "metadata": {},
     "output_type": "execute_result"
    }
   ],
   "source": [
    "dummies_df = pd.get_dummies(train_df, columns=['EJ'])\n",
    "dummies_df[['EJ_A', 'EJ_B']][:5]"
   ]
  },
  {
   "cell_type": "markdown",
   "id": "b96d9cf7-d26b-4bad-bdb7-14b2a6264a42",
   "metadata": {},
   "source": [
    "`get_dummies` will replace the original `EJ` column with two columns for each possible value. The boolean values can then be converted to integers.\n",
    "\n",
    "However, since there are only two possible values for EJ, a second column will be a duplicate of the same information since they're mutually exclusive. We'll retain it as one column and use a boolean integer to distinguish between the two categories like below:"
   ]
  },
  {
   "cell_type": "code",
   "execution_count": 15,
   "id": "862ff46c-1cde-44f5-a07d-daf899e73082",
   "metadata": {},
   "outputs": [
    {
     "data": {
      "text/plain": [
       "array([1, 0, 1, 1, 1, 0, 1, 1, 1, 0], dtype=int8)"
      ]
     },
     "execution_count": 15,
     "metadata": {},
     "output_type": "execute_result"
    }
   ],
   "source": [
    "pd.Categorical(train_df.EJ).codes[:10]"
   ]
  },
  {
   "cell_type": "markdown",
   "id": "49cbc204-9751-4f68-89bd-10183d56f4f2",
   "metadata": {},
   "source": [
    "Looking at the float64 columns in the dataframe, some have quite a skewed distribution, i.e. a few rows with outlier values. For example in the column below, a few rows have really large values."
   ]
  },
  {
   "cell_type": "code",
   "execution_count": 16,
   "id": "a4d78fa8-4ffa-4406-bf75-270d5eab4ac6",
   "metadata": {},
   "outputs": [
    {
     "data": {
      "text/plain": [
       "<Axes: xlabel='FR', ylabel='Density'>"
      ]
     },
     "execution_count": 16,
     "metadata": {},
     "output_type": "execute_result"
    },
    {
     "data": {
      "image/png": "[encoded data removed]",
      "text/plain": [
       "<Figure size 640x480 with 1 Axes>"
      ]
     },
     "metadata": {},
     "output_type": "display_data"
    }
   ],
   "source": [
    "sns.kdeplot(data=train_df.FR, fill=True)"
   ]
  },
  {
   "cell_type": "code",
   "execution_count": 17,
   "id": "2883c558-75e4-4277-8b4f-e7c9ff567a05",
   "metadata": {},
   "outputs": [
    {
     "data": {
      "text/plain": [
       "(0.49706, 3.533905218800648, 1244.22702)"
      ]
     },
     "execution_count": 17,
     "metadata": {},
     "output_type": "execute_result"
    }
   ],
   "source": [
    "train_df.FR.min(), train_df.FR.mean(), train_df.FR.max()"
   ]
  },
  {
   "cell_type": "markdown",
   "id": "1f69e013-9ce9-4304-8225-16fe9bbf20aa",
   "metadata": {},
   "source": [
    "This will result in only a few rows with large values dominating the results. To avoid this, we replace their values with the log, resulting in a smaller range."
   ]
  },
  {
   "cell_type": "code",
   "execution_count": 18,
   "id": "709071d5-50bd-4f01-ae66-71db3b9a9625",
   "metadata": {},
   "outputs": [
    {
     "data": {
      "text/plain": [
       "<Axes: xlabel='FR', ylabel='Density'>"
      ]
     },
     "execution_count": 18,
     "metadata": {},
     "output_type": "execute_result"
    },
    {
     "data": {
      "image/png": "[encoded data removed]",
      "text/plain": [
       "<Figure size 640x480 with 1 Axes>"
      ]
     },
     "metadata": {},
     "output_type": "display_data"
    }
   ],
   "source": [
    "data = np.log(train_df.FR)\n",
    "sns.kdeplot(data, fill=True)"
   ]
  },
  {
   "cell_type": "code",
   "execution_count": 19,
   "id": "c67fe53f-204d-4119-a0f6-fd89a4156d96",
   "metadata": {},
   "outputs": [
    {
     "data": {
      "text/plain": [
       "(-0.6990445358260293, 0.06233208049973395, 7.126269748610907)"
      ]
     },
     "execution_count": 19,
     "metadata": {},
     "output_type": "execute_result"
    }
   ],
   "source": [
    "data.min(), data.mean(), data.max()"
   ]
  },
  {
   "cell_type": "markdown",
   "id": "e7a1cd13-842e-4942-808c-10c6c338fe69",
   "metadata": {},
   "source": [
    "We now have a much smaller range from -0.6 to 7.1.\n",
    "\n",
    "We can now combine all the transformations above and apply them on  the training and testing dataframes."
   ]
  },
  {
   "cell_type": "code",
   "execution_count": 20,
   "id": "0b87b861-7277-4f6d-ab87-034f9bd811c2",
   "metadata": {},
   "outputs": [
    {
     "data": {
      "text/html": [
       "<div>\n",
       "<style scoped>\n",
       "    .dataframe tbody tr th:only-of-type {\n",
       "        vertical-align: middle;\n",
       "    }\n",
       "\n",
       "    .dataframe tbody tr th {\n",
       "        vertical-align: top;\n",
       "    }\n",
       "\n",
       "    .dataframe thead th {\n",
       "        text-align: right;\n",
       "    }\n",
       "</style>\n",
       "<table border=\"1\" class=\"dataframe\">\n",
       "  <thead>\n",
       "    <tr style=\"text-align: right;\">\n",
       "      <th></th>\n",
       "      <th>Id</th>\n",
       "      <th>AB</th>\n",
       "      <th>AF</th>\n",
       "      <th>AH</th>\n",
       "      <th>AM</th>\n",
       "      <th>AR</th>\n",
       "      <th>AX</th>\n",
       "      <th>AY</th>\n",
       "      <th>AZ</th>\n",
       "      <th>BC</th>\n",
       "      <th>...</th>\n",
       "      <th>FI</th>\n",
       "      <th>FL</th>\n",
       "      <th>FR</th>\n",
       "      <th>FS</th>\n",
       "      <th>GB</th>\n",
       "      <th>GE</th>\n",
       "      <th>GF</th>\n",
       "      <th>GH</th>\n",
       "      <th>GI</th>\n",
       "      <th>GL</th>\n",
       "    </tr>\n",
       "  </thead>\n",
       "  <tbody>\n",
       "    <tr>\n",
       "      <th>0</th>\n",
       "      <td>00eed32682bb</td>\n",
       "      <td>0.0</td>\n",
       "      <td>0.0</td>\n",
       "      <td>0.0</td>\n",
       "      <td>0.0</td>\n",
       "      <td>0.0</td>\n",
       "      <td>0.0</td>\n",
       "      <td>0.0</td>\n",
       "      <td>0.0</td>\n",
       "      <td>0.0</td>\n",
       "      <td>...</td>\n",
       "      <td>0.0</td>\n",
       "      <td>0.0</td>\n",
       "      <td>0.0</td>\n",
       "      <td>0.0</td>\n",
       "      <td>0.0</td>\n",
       "      <td>0.0</td>\n",
       "      <td>0.0</td>\n",
       "      <td>0.0</td>\n",
       "      <td>0.0</td>\n",
       "      <td>0.0</td>\n",
       "    </tr>\n",
       "    <tr>\n",
       "      <th>1</th>\n",
       "      <td>010ebe33f668</td>\n",
       "      <td>0.0</td>\n",
       "      <td>0.0</td>\n",
       "      <td>0.0</td>\n",
       "      <td>0.0</td>\n",
       "      <td>0.0</td>\n",
       "      <td>0.0</td>\n",
       "      <td>0.0</td>\n",
       "      <td>0.0</td>\n",
       "      <td>0.0</td>\n",
       "      <td>...</td>\n",
       "      <td>0.0</td>\n",
       "      <td>0.0</td>\n",
       "      <td>0.0</td>\n",
       "      <td>0.0</td>\n",
       "      <td>0.0</td>\n",
       "      <td>0.0</td>\n",
       "      <td>0.0</td>\n",
       "      <td>0.0</td>\n",
       "      <td>0.0</td>\n",
       "      <td>0.0</td>\n",
       "    </tr>\n",
       "    <tr>\n",
       "      <th>2</th>\n",
       "      <td>02fa521e1838</td>\n",
       "      <td>0.0</td>\n",
       "      <td>0.0</td>\n",
       "      <td>0.0</td>\n",
       "      <td>0.0</td>\n",
       "      <td>0.0</td>\n",
       "      <td>0.0</td>\n",
       "      <td>0.0</td>\n",
       "      <td>0.0</td>\n",
       "      <td>0.0</td>\n",
       "      <td>...</td>\n",
       "      <td>0.0</td>\n",
       "      <td>0.0</td>\n",
       "      <td>0.0</td>\n",
       "      <td>0.0</td>\n",
       "      <td>0.0</td>\n",
       "      <td>0.0</td>\n",
       "      <td>0.0</td>\n",
       "      <td>0.0</td>\n",
       "      <td>0.0</td>\n",
       "      <td>0.0</td>\n",
       "    </tr>\n",
       "    <tr>\n",
       "      <th>3</th>\n",
       "      <td>040e15f562a2</td>\n",
       "      <td>0.0</td>\n",
       "      <td>0.0</td>\n",
       "      <td>0.0</td>\n",
       "      <td>0.0</td>\n",
       "      <td>0.0</td>\n",
       "      <td>0.0</td>\n",
       "      <td>0.0</td>\n",
       "      <td>0.0</td>\n",
       "      <td>0.0</td>\n",
       "      <td>...</td>\n",
       "      <td>0.0</td>\n",
       "      <td>0.0</td>\n",
       "      <td>0.0</td>\n",
       "      <td>0.0</td>\n",
       "      <td>0.0</td>\n",
       "      <td>0.0</td>\n",
       "      <td>0.0</td>\n",
       "      <td>0.0</td>\n",
       "      <td>0.0</td>\n",
       "      <td>0.0</td>\n",
       "    </tr>\n",
       "    <tr>\n",
       "      <th>4</th>\n",
       "      <td>046e85c7cc7f</td>\n",
       "      <td>0.0</td>\n",
       "      <td>0.0</td>\n",
       "      <td>0.0</td>\n",
       "      <td>0.0</td>\n",
       "      <td>0.0</td>\n",
       "      <td>0.0</td>\n",
       "      <td>0.0</td>\n",
       "      <td>0.0</td>\n",
       "      <td>0.0</td>\n",
       "      <td>...</td>\n",
       "      <td>0.0</td>\n",
       "      <td>0.0</td>\n",
       "      <td>0.0</td>\n",
       "      <td>0.0</td>\n",
       "      <td>0.0</td>\n",
       "      <td>0.0</td>\n",
       "      <td>0.0</td>\n",
       "      <td>0.0</td>\n",
       "      <td>0.0</td>\n",
       "      <td>0.0</td>\n",
       "    </tr>\n",
       "  </tbody>\n",
       "</table>\n",
       "<p>5 rows × 57 columns</p>\n",
       "</div>"
      ],
      "text/plain": [
       "             Id   AB   AF   AH   AM   AR   AX   AY   AZ   BC  ...   FI   FL  \\\n",
       "0  00eed32682bb  0.0  0.0  0.0  0.0  0.0  0.0  0.0  0.0  0.0  ...  0.0  0.0   \n",
       "1  010ebe33f668  0.0  0.0  0.0  0.0  0.0  0.0  0.0  0.0  0.0  ...  0.0  0.0   \n",
       "2  02fa521e1838  0.0  0.0  0.0  0.0  0.0  0.0  0.0  0.0  0.0  ...  0.0  0.0   \n",
       "3  040e15f562a2  0.0  0.0  0.0  0.0  0.0  0.0  0.0  0.0  0.0  ...  0.0  0.0   \n",
       "4  046e85c7cc7f  0.0  0.0  0.0  0.0  0.0  0.0  0.0  0.0  0.0  ...  0.0  0.0   \n",
       "\n",
       "    FR   FS   GB   GE   GF   GH   GI   GL  \n",
       "0  0.0  0.0  0.0  0.0  0.0  0.0  0.0  0.0  \n",
       "1  0.0  0.0  0.0  0.0  0.0  0.0  0.0  0.0  \n",
       "2  0.0  0.0  0.0  0.0  0.0  0.0  0.0  0.0  \n",
       "3  0.0  0.0  0.0  0.0  0.0  0.0  0.0  0.0  \n",
       "4  0.0  0.0  0.0  0.0  0.0  0.0  0.0  0.0  \n",
       "\n",
       "[5 rows x 57 columns]"
      ]
     },
     "execution_count": 20,
     "metadata": {},
     "output_type": "execute_result"
    }
   ],
   "source": [
    "ycol = \"Class\"\n",
    "categorical_col = \"EJ\"\n",
    "continuous_cols = [c for c in train_df.columns if c not in [categorical_col, ycol, \"Id\"]]\n",
    "\n",
    "test_df = pd.read_csv(input_path / \"test.csv\")\n",
    "test_df"
   ]
  },
  {
   "cell_type": "code",
   "execution_count": 21,
   "id": "6d20a461-b8bc-4b66-ab47-7c23568467e0",
   "metadata": {},
   "outputs": [],
   "source": [
    "def pre_process(df, modes, na_cols):\n",
    "    df = df.drop(columns=\"Id\")\n",
    "    \n",
    "    for col in na_cols:\n",
    "        df[f'{col}_na'] = df[col].isna().astype('int')\n",
    "        \n",
    "    df = df.fillna(modes)\n",
    "    \n",
    "    df[categorical_col] = pd.Categorical(df[categorical_col]).codes \n",
    "\n",
    "    for col in continuous_cols:\n",
    "        # add one, because np.log(0) is infinite\n",
    "        df[col] = np.log(df[col] + 1)\n",
    "    return df\n",
    "\n",
    "modes = train_df.mode().iloc[0]\n",
    "train_df1 = pre_process(train_df, modes, na_col_count.index)\n",
    "test_df1 = pre_process(test_df, modes, na_col_count.index)"
   ]
  },
  {
   "cell_type": "markdown",
   "id": "b50464f7-3bfd-452f-86d0-db4002ec7a5d",
   "metadata": {},
   "source": [
    "We need our independent and dependent variables as pytorch tensors. We'll extract the data from the dataframes. "
   ]
  },
  {
   "cell_type": "code",
   "execution_count": 22,
   "id": "d45fcdb9-cdd0-418c-a711-d4525e9610eb",
   "metadata": {},
   "outputs": [
    {
     "data": {
      "text/plain": [
       "torch.Size([617])"
      ]
     },
     "execution_count": 22,
     "metadata": {},
     "output_type": "execute_result"
    }
   ],
   "source": [
    "import torch\n",
    "from torch import tensor\n",
    "\n",
    "y = tensor(train_df1.Class)\n",
    "y.shape"
   ]
  },
  {
   "cell_type": "code",
   "execution_count": 23,
   "id": "5a415ff1-468a-4749-9681-5ac677fb0808",
   "metadata": {},
   "outputs": [
    {
     "data": {
      "text/plain": [
       "torch.Size([617, 56])"
      ]
     },
     "execution_count": 23,
     "metadata": {},
     "output_type": "execute_result"
    }
   ],
   "source": [
    "data = train_df1[continuous_cols + [categorical_col]].values\n",
    "X = tensor(data, dtype=torch.float)\n",
    "X.shape"
   ]
  },
  {
   "cell_type": "markdown",
   "id": "c5560fae-0eeb-4b95-9b40-7eed0cdbad6b",
   "metadata": {},
   "source": [
    "We can print the first 3 input rows and predictions as below:"
   ]
  },
  {
   "cell_type": "code",
   "execution_count": 24,
   "id": "4fa84ede-3e6d-434c-a3a2-6252ccc9d560",
   "metadata": {},
   "outputs": [
    {
     "name": "stdout",
     "output_type": "stream",
     "text": [
      "tensor([[1.9011e-01, 8.0424e+00, 4.4567e+00, 3.1525e+00, 2.2125e+00, 5.3055e-01,\n",
      "         2.5256e-02, 2.3807e+00, 1.8803e+00, 8.3254e+00, 3.1612e+00, 5.1741e+00,\n",
      "         5.0351e+00, 6.7153e+00, 5.5546e+00, 3.8758e+00, 4.4691e-01, 3.1941e+00,\n",
      "         1.7668e+00, 2.3211e-02, 7.1795e-01, 6.6934e-02, 2.6936e+00, 8.3378e-01,\n",
      "         3.6165e+00, 4.2497e+00, 5.6923e+00, 2.1405e-01, 2.5016e-01, 4.5025e+00,\n",
      "         4.4464e+00, 3.4229e+00, 1.8422e+00, 1.0091e+00, 3.1858e+00, 2.1156e+00,\n",
      "         1.0944e+00, 7.2683e+00, 6.6737e-01, 3.4620e+00, 4.3761e+00, 1.5745e+00,\n",
      "         2.6669e+00, 2.4217e+00, 9.1082e+00, 1.5225e+00, 2.1160e+00, 1.0074e+00,\n",
      "         9.0592e-02, 2.5128e+00, 4.2988e+00, 7.6033e+00, 3.1414e+00, 4.2604e+00,\n",
      "         1.1363e-01, 1.0000e+00],\n",
      "        [1.3565e-01, 6.8873e+00, 4.4567e+00, 3.6368e+00, 2.2125e+00, 1.5330e+00,\n",
      "         2.5256e-02, 2.6754e+00, 8.0196e-01, 8.6121e+00, 3.0165e+00, 5.0554e+00,\n",
      "         2.7571e+00, 3.9554e+00, 5.5546e+00, 3.4431e+00, 3.9522e-01, 3.9441e+00,\n",
      "         1.9580e+00, 3.0958e-02, 7.4852e-01, 7.5038e-01, 3.3780e+00, 8.5747e-01,\n",
      "         3.6500e+00, 4.2739e+00, 5.1905e+00, 2.1405e-01, 3.1005e-01, 4.7148e+00,\n",
      "         4.3405e+00, 3.6515e+00, 5.5024e-03, 1.0091e+00, 2.9026e+00, 1.7794e+00,\n",
      "         6.1983e-01, 7.0142e+00, 3.0374e-03, 4.7016e+00, 4.5687e+00, 3.9752e+00,\n",
      "         2.9001e+00, 2.5994e-01, 8.8226e+00, 2.4300e+00, 1.5976e-01, 4.0350e-01,\n",
      "         4.5040e-01, 2.3314e+00, 4.2988e+00, 1.0239e+01, 3.4057e+00, 3.5005e+00,\n",
      "         3.1345e+00, 0.0000e+00],\n",
      "        [3.8528e-01, 7.8771e+00, 4.4567e+00, 3.5074e+00, 2.2125e+00, 2.0455e+00,\n",
      "         2.5256e-02, 2.6264e+00, 8.0196e-01, 8.5442e+00, 3.3135e+00, 4.8674e+00,\n",
      "         5.3951e+00, 6.1803e+00, 5.5546e+00, 3.5134e+00, 4.0270e-01, 4.4654e+00,\n",
      "         1.8526e+00, 3.5578e-02, 7.1795e-01, 5.3083e-01, 3.6980e+00, 6.9794e-01,\n",
      "         3.1117e+00, 4.2742e+00, 5.7759e+00, 2.1405e-01, 1.9098e-01, 4.7963e+00,\n",
      "         4.1967e+00, 3.3691e+00, 8.2844e-01, 1.0091e+00, 3.6339e+00, 2.1763e+00,\n",
      "         2.2134e+00, 7.3099e+00, 3.2006e-01, 4.7016e+00, 4.3761e+00, 1.8548e+00,\n",
      "         5.4170e+00, 2.2768e+00, 9.0288e+00, 2.5358e+00, 2.1644e+00, 6.8085e-01,\n",
      "         7.8792e-01, 3.6396e+00, 4.4955e+00, 9.5235e+00, 3.3681e+00, 3.5889e+00,\n",
      "         1.7977e-01, 1.0000e+00]])\n",
      "tensor([1, 0, 0])\n"
     ]
    }
   ],
   "source": [
    "print(X[:3])\n",
    "print(y[:3])"
   ]
  },
  {
   "cell_type": "markdown",
   "id": "68708f40-0436-4ef4-8ffc-16db1c560b5e",
   "metadata": {},
   "source": [
    "# Fit Model"
   ]
  },
  {
   "cell_type": "markdown",
   "id": "8642a8d0-a496-45e7-b8a8-f99d283c34c7",
   "metadata": {},
   "source": [
    "## Linear Model"
   ]
  },
  {
   "cell_type": "markdown",
   "id": "5945d897-8d71-431f-aaa3-83d7db7f21d0",
   "metadata": {},
   "source": [
    "We'll start with simple linear model, for which we need coefficients for each input feature and a bias as our parameters. We initialize the parameters as random numbers centered around 0:"
   ]
  },
  {
   "cell_type": "code",
   "execution_count": 25,
   "id": "56f8364f-6d29-4901-9f54-4bbedece521b",
   "metadata": {},
   "outputs": [
    {
     "data": {
      "text/plain": [
       "(tensor([ 0.3823,  0.4150, -0.1171,  0.4593, -0.1096,  0.1009, -0.2434,  0.2936,\n",
       "          0.4408, -0.3668,  0.4346,  0.0936,  0.3694,  0.0677,  0.2411, -0.0706,\n",
       "          0.3854,  0.0739, -0.2334,  0.1274, -0.2304, -0.0586, -0.2031,  0.3317,\n",
       "         -0.3947, -0.2305, -0.1412, -0.3006,  0.0472, -0.4938,  0.4516, -0.4247,\n",
       "          0.3860,  0.0832, -0.1624,  0.3090,  0.0779,  0.4040,  0.0547, -0.1577,\n",
       "          0.1343, -0.1356,  0.2104,  0.4464,  0.2890, -0.2186,  0.2886,  0.0895,\n",
       "          0.2539, -0.3048, -0.4950, -0.1932, -0.3835,  0.4103,  0.1440,  0.2071]),\n",
       " tensor([0.1581]))"
      ]
     },
     "execution_count": 25,
     "metadata": {},
     "output_type": "execute_result"
    }
   ],
   "source": [
    "torch.manual_seed(42)\n",
    "n_coeff = X.shape[1]\n",
    "\n",
    "coeffs = torch.rand(n_coeff) - 0.5\n",
    "bias = torch.rand(1) - 0.5\n",
    "coeffs, bias"
   ]
  },
  {
   "cell_type": "markdown",
   "id": "203e77d7-1147-4009-acec-549e4f7dd213",
   "metadata": {},
   "source": [
    "We'd get our initial predictions from the linear model as shown below:"
   ]
  },
  {
   "cell_type": "code",
   "execution_count": 26,
   "id": "5343ad87-aa22-4dff-bb6e-c663ae0520e8",
   "metadata": {},
   "outputs": [
    {
     "data": {
      "text/plain": [
       "torch.Size([617])"
      ]
     },
     "execution_count": 26,
     "metadata": {},
     "output_type": "execute_result"
    }
   ],
   "source": [
    "preds = (X * coeffs).sum(dim=1) + bias\n",
    "preds.shape"
   ]
  },
  {
   "cell_type": "markdown",
   "id": "95ed6746-6972-46cf-9de6-3332aa576fe7",
   "metadata": {},
   "source": [
    "However, the columns with relatively larger values are likely to dominate the results. Getting the average column values, we can see that there's quite a variation:"
   ]
  },
  {
   "cell_type": "code",
   "execution_count": 27,
   "id": "3cccb9e1-6a4e-4e2a-926a-eed96e2facab",
   "metadata": {},
   "outputs": [
    {
     "data": {
      "text/plain": [
       "tensor([0.3612, 7.9640, 4.6529, 3.2092, 2.3232, 1.8221, 0.0456, 2.3701, 1.3394,\n",
       "        8.5203, 3.0967, 5.3208, 4.2660, 6.3931, 5.8539, 3.8312, 0.5143, 4.4070,\n",
       "        2.2376, 0.0301, 0.8093, 0.5437, 3.5791, 0.8437, 3.1281, 3.8712, 5.7427,\n",
       "        0.3634, 0.3093, 4.8944, 4.5125, 3.2673, 0.5106, 1.0411, 3.0968, 2.2275,\n",
       "        1.2954, 7.2820, 0.1663, 4.1095, 4.5880, 3.0390, 3.7811, 1.1472, 8.9723,\n",
       "        2.3728, 1.2481, 0.7731, 0.2892, 2.9911, 4.6552, 8.8071, 3.4352, 3.6830,\n",
       "        1.3632, 0.6402])"
      ]
     },
     "execution_count": 27,
     "metadata": {},
     "output_type": "execute_result"
    }
   ],
   "source": [
    "X.sum(axis=0) / X.shape[0]"
   ]
  },
  {
   "cell_type": "markdown",
   "id": "d4dd9224-ac46-47c7-93b4-af5a0bd289e0",
   "metadata": {},
   "source": [
    "We can scale all columns to values between 0 and 1 by dividing each column with it's maximum value. The average column values then have much less variation."
   ]
  },
  {
   "cell_type": "code",
   "execution_count": 28,
   "id": "fd4d8cea-7e42-41ee-b0f9-1bd6620e0b13",
   "metadata": {},
   "outputs": [
    {
     "data": {
      "text/plain": [
       "tensor([0.1835, 0.7759, 0.6158, 0.4977, 0.4474, 0.4964, 0.0188, 0.6426, 0.1837,\n",
       "        0.7832, 0.9077, 0.6819, 0.7298, 0.5285, 0.5409, 0.4957, 0.3155, 0.6829,\n",
       "        0.4215, 0.1487, 0.2321, 0.3894, 0.6398, 0.4730, 0.7479, 0.7231, 0.7505,\n",
       "        0.0993, 0.4279, 0.7036, 0.7793, 0.7862, 0.1003, 0.3188, 0.6153, 0.4881,\n",
       "        0.4374, 0.7058, 0.0441, 0.8741, 0.6582, 0.3461, 0.4716, 0.1558, 0.7557,\n",
       "        0.6579, 0.2530, 0.1085, 0.0832, 0.6081, 0.6366, 0.7416, 0.7791, 0.7004,\n",
       "        0.4349, 0.6402])"
      ]
     },
     "execution_count": 28,
     "metadata": {},
     "output_type": "execute_result"
    }
   ],
   "source": [
    "max_vals, _ = X.max(axis=0)\n",
    "(X / max_vals).sum(0) / X.shape[0]"
   ]
  },
  {
   "cell_type": "markdown",
   "id": "ebef35cc-ac2f-4fc4-b533-6ab6c30e5ba5",
   "metadata": {},
   "source": [
    "We therefore scale down our X values:"
   ]
  },
  {
   "cell_type": "code",
   "execution_count": 29,
   "id": "bb8f1aa3-b483-4a05-b077-74751c5ca91e",
   "metadata": {},
   "outputs": [],
   "source": [
    "X = X / max_vals"
   ]
  },
  {
   "cell_type": "markdown",
   "id": "a865f604-8ca3-471a-9b14-24497996e36b",
   "metadata": {},
   "source": [
    "This is how we can get our initial set of predictions:"
   ]
  },
  {
   "cell_type": "code",
   "execution_count": 30,
   "id": "8d069ac5-e18c-41e4-b44d-b6fc2fd016fa",
   "metadata": {},
   "outputs": [
    {
     "data": {
      "text/plain": [
       "tensor([1.3688, 0.3260, 1.1451, 1.1732, 0.9525, 0.4920, 1.0112, 0.7388, 0.9440,\n",
       "        0.6490])"
      ]
     },
     "execution_count": 30,
     "metadata": {},
     "output_type": "execute_result"
    }
   ],
   "source": [
    "preds = (X * coeffs).sum(axis=1) + bias\n",
    "preds[:10]"
   ]
  },
  {
   "cell_type": "markdown",
   "id": "fd7732ab-8109-4bdf-9428-71143cf79f29",
   "metadata": {},
   "source": [
    "For the linear model to learn, it needs to evaluate its predictions at each step to see how far it is from the true predictions, and modify its parameters to give better predictions.\n",
    "\n",
    "One simple way to do this is to get the mean error across all the predictions by calculating the mean absolute error like below:"
   ]
  },
  {
   "cell_type": "code",
   "execution_count": 31,
   "id": "8e2e840a-ce7c-4022-91da-9237aa6afb78",
   "metadata": {},
   "outputs": [
    {
     "data": {
      "text/plain": [
       "tensor(0.7565)"
      ]
     },
     "execution_count": 31,
     "metadata": {},
     "output_type": "execute_result"
    }
   ],
   "source": [
    "torch.abs(preds-y).mean()"
   ]
  },
  {
   "cell_type": "markdown",
   "id": "538c1f80-c76a-4970-911a-c95dd171b86b",
   "metadata": {},
   "source": [
    "The mean absolute error will therefore be the loss function that will be used improve predictions.\n",
    "\n",
    "We add functions to calculate predictions and the loss as shown above. "
   ]
  },
  {
   "cell_type": "code",
   "execution_count": 32,
   "id": "4441159f-43c3-4f51-98ee-0216e0bf77c3",
   "metadata": {},
   "outputs": [],
   "source": [
    "def calculate_preds(coeffs, bias, X): return (X * coeffs).sum(axis=1) + bias\n",
    "def calculate_loss(coeffs, bias, X, y): return torch.abs(calculate_preds(coeffs, bias, X) - y).mean()"
   ]
  },
  {
   "cell_type": "code",
   "execution_count": 33,
   "id": "c8a93235-b838-4819-be6e-0d5cfcd9ce29",
   "metadata": {},
   "outputs": [
    {
     "data": {
      "text/plain": [
       "tensor(0.7565)"
      ]
     },
     "execution_count": 33,
     "metadata": {},
     "output_type": "execute_result"
    }
   ],
   "source": [
    "calculate_loss(coeffs, bias, X, y)"
   ]
  },
  {
   "cell_type": "markdown",
   "id": "36f44634-a7fd-421e-8b1c-4a22c5952594",
   "metadata": {},
   "source": [
    "It gives us the same MAE as seen previously.\n",
    "\n",
    "Now that we have a means of getting predictions and evaluating them via the loss function, we now need a way of using the loss to alter the parameters (coefficients + bias) to improve the next set of predictions. We do this by getting the gradient of each parameter after calculating the loss. We need to intialize the parameters in a special way to achieve this."
   ]
  },
  {
   "cell_type": "code",
   "execution_count": 34,
   "id": "390deddd-45a5-4d81-a1f2-def33999fca8",
   "metadata": {},
   "outputs": [
    {
     "data": {
      "text/plain": [
       "(tensor([ 0.3823,  0.4150, -0.1171,  0.4593, -0.1096,  0.1009, -0.2434,  0.2936,\n",
       "          0.4408, -0.3668,  0.4346,  0.0936,  0.3694,  0.0677,  0.2411, -0.0706,\n",
       "          0.3854,  0.0739, -0.2334,  0.1274, -0.2304, -0.0586, -0.2031,  0.3317,\n",
       "         -0.3947, -0.2305, -0.1412, -0.3006,  0.0472, -0.4938,  0.4516, -0.4247,\n",
       "          0.3860,  0.0832, -0.1624,  0.3090,  0.0779,  0.4040,  0.0547, -0.1577,\n",
       "          0.1343, -0.1356,  0.2104,  0.4464,  0.2890, -0.2186,  0.2886,  0.0895,\n",
       "          0.2539, -0.3048, -0.4950, -0.1932, -0.3835,  0.4103,  0.1440,  0.2071],\n",
       "        requires_grad=True),\n",
       " tensor([0.1581], requires_grad=True))"
      ]
     },
     "execution_count": 34,
     "metadata": {},
     "output_type": "execute_result"
    }
   ],
   "source": [
    "coeffs.requires_grad_(), bias.requires_grad_()\n",
    "coeffs, bias"
   ]
  },
  {
   "cell_type": "markdown",
   "id": "6fc19928-9bd2-4dbf-b8a3-63ade47b42ad",
   "metadata": {},
   "source": [
    "This results in a tensor with `requires_grad` set to `True`. After we calculate the loss, we use pytorch's inbuilt functionality to calculate the gradients for each parameter:"
   ]
  },
  {
   "cell_type": "code",
   "execution_count": 35,
   "id": "8d150564-87b1-42db-82af-449e97382be8",
   "metadata": {},
   "outputs": [
    {
     "data": {
      "text/plain": [
       "tensor(0.7565, grad_fn=<MeanBackward0>)"
      ]
     },
     "execution_count": 35,
     "metadata": {},
     "output_type": "execute_result"
    }
   ],
   "source": [
    "loss = calculate_loss(coeffs, bias, X, y)\n",
    "loss"
   ]
  },
  {
   "cell_type": "code",
   "execution_count": 36,
   "id": "4c9289d8-e95b-4a82-92b7-2362eab41f71",
   "metadata": {},
   "outputs": [],
   "source": [
    "loss.backward()"
   ]
  },
  {
   "cell_type": "markdown",
   "id": "e3ade70e-c632-4a5b-90fb-c8b3779c38cc",
   "metadata": {},
   "source": [
    "Now we can see the gradients per parameter:"
   ]
  },
  {
   "cell_type": "code",
   "execution_count": 37,
   "id": "33172f44-4591-4310-92f5-5f21eb73e15d",
   "metadata": {},
   "outputs": [
    {
     "data": {
      "text/plain": [
       "(tensor([0.1567, 0.6927, 0.5511, 0.4441, 0.3996, 0.4430, 0.0141, 0.5748, 0.1580,\n",
       "         0.7024, 0.8117, 0.6109, 0.6501, 0.4746, 0.4841, 0.4478, 0.2880, 0.6078,\n",
       "         0.3762, 0.1326, 0.2071, 0.3587, 0.5756, 0.4314, 0.6708, 0.6537, 0.6786,\n",
       "         0.0834, 0.3879, 0.6260, 0.7039, 0.7055, 0.0961, 0.2853, 0.5433, 0.4367,\n",
       "         0.4018, 0.6324, 0.0431, 0.7754, 0.5901, 0.3043, 0.4202, 0.1487, 0.6747,\n",
       "         0.5915, 0.2390, 0.0950, 0.0766, 0.5454, 0.5733, 0.6641, 0.6969, 0.6295,\n",
       "         0.3592, 0.6078]),\n",
       " tensor([0.8963]))"
      ]
     },
     "execution_count": 37,
     "metadata": {},
     "output_type": "execute_result"
    }
   ],
   "source": [
    "coeffs.grad, bias.grad"
   ]
  },
  {
   "cell_type": "markdown",
   "id": "62376a1f-15a4-45a6-8e85-17f921d05398",
   "metadata": {},
   "source": [
    "When we called `requires_grad_` on the parameters, we signal to pytorch to record the operations that the parameters are involved in. When we call `backward` on the loss, pytorch calculates the partial derivative of each parameter, i.e. the derivative of the combined sequence of operations for each parameter given that all the others held constant.\n",
    "\n",
    "Let's repeat the steps:"
   ]
  },
  {
   "cell_type": "code",
   "execution_count": 38,
   "id": "14016888-a470-4cb9-a03c-8a8d22d091fc",
   "metadata": {},
   "outputs": [
    {
     "data": {
      "text/plain": [
       "(tensor(0.7565, grad_fn=<MeanBackward0>),\n",
       " tensor([0.3133, 1.3855, 1.1021, 0.8882, 0.7992, 0.8859, 0.0281, 1.1496, 0.3159,\n",
       "         1.4048, 1.6233, 1.2219, 1.3001, 0.9491, 0.9683, 0.8957, 0.5761, 1.2156,\n",
       "         0.7524, 0.2652, 0.4141, 0.7174, 1.1512, 0.8629, 1.3416, 1.3074, 1.3571,\n",
       "         0.1667, 0.7759, 1.2520, 1.4078, 1.4111, 0.1922, 0.5707, 1.0866, 0.8734,\n",
       "         0.8035, 1.2648, 0.0862, 1.5508, 1.1802, 0.6086, 0.8405, 0.2974, 1.3494,\n",
       "         1.1831, 0.4779, 0.1899, 0.1531, 1.0907, 1.1466, 1.3282, 1.3938, 1.2590,\n",
       "         0.7183, 1.2156]),\n",
       " tensor([1.7925]))"
      ]
     },
     "execution_count": 38,
     "metadata": {},
     "output_type": "execute_result"
    }
   ],
   "source": [
    "loss = calculate_loss(coeffs, bias, X, y)\n",
    "loss.backward()\n",
    "loss, coeffs.grad, bias.grad"
   ]
  },
  {
   "cell_type": "markdown",
   "id": "c62005b3-a32b-4fcc-84e0-81dae2cdc1b3",
   "metadata": {},
   "source": [
    "We notice that the gradients have doubled. This is because pytorch repeated the same order of operations and calculated the gradients as we had earlier, but then added them the the earlier gradients. So we have to be careful each time we use the gradients to update the parameters, to zero them afterward so that we get a new set of gradients after the next iteration."
   ]
  },
  {
   "cell_type": "code",
   "execution_count": 39,
   "id": "f2c12bcb-3a96-45c1-a65f-d90cfa62b949",
   "metadata": {},
   "outputs": [
    {
     "data": {
      "text/plain": [
       "(tensor([0., 0., 0., 0., 0., 0., 0., 0., 0., 0., 0., 0., 0., 0., 0., 0., 0., 0., 0., 0., 0., 0., 0., 0.,\n",
       "         0., 0., 0., 0., 0., 0., 0., 0., 0., 0., 0., 0., 0., 0., 0., 0., 0., 0., 0., 0., 0., 0., 0., 0.,\n",
       "         0., 0., 0., 0., 0., 0., 0., 0.]),\n",
       " tensor([0.]))"
      ]
     },
     "execution_count": 39,
     "metadata": {},
     "output_type": "execute_result"
    }
   ],
   "source": [
    "coeffs.grad.zero_(), bias.grad.zero_()\n",
    "coeffs.grad, bias.grad"
   ]
  },
  {
   "cell_type": "markdown",
   "id": "f3ca5772-e7d3-44fa-a956-845ea468b6b8",
   "metadata": {},
   "source": [
    "We now run the iterations a few times. Notice the loss decreasing with every iteration:"
   ]
  },
  {
   "cell_type": "code",
   "execution_count": 40,
   "id": "03df8d27-ebbc-42db-8f40-55a58de9976a",
   "metadata": {},
   "outputs": [
    {
     "name": "stdout",
     "output_type": "stream",
     "text": [
      "tensor(0.7565, grad_fn=<MeanBackward0>)\n",
      "tensor(0.6127, grad_fn=<MeanBackward0>)\n",
      "tensor(0.4945, grad_fn=<MeanBackward0>)\n"
     ]
    }
   ],
   "source": [
    "for _ in range(3):\n",
    "    loss = calculate_loss(coeffs, bias, X, y)\n",
    "    print(loss)\n",
    "    loss.backward()\n",
    "    with torch.no_grad():\n",
    "        # will not include the operations in this block\n",
    "        # in calculating the next set of gradients\n",
    "        coeffs.sub_(coeffs.grad * 0.01)\n",
    "        bias.sub_(bias.grad * 0.01)\n",
    "        coeffs.grad.zero_()\n",
    "        bias.grad.zero_()"
   ]
  },
  {
   "cell_type": "markdown",
   "id": "3c607a50-f952-44af-8a1a-ba16eb80e1b0",
   "metadata": {},
   "source": [
    "The goal is to minimize the error with each training cycle through the data, i.e. each epoch. This translates to moving the parameters in the direction opposite of the gradient at a point on the graph that can be plotted for the function that combines all the operations involved in calculating the loss.\n",
    "\n",
    "If the gradient is positive, meaning that the slope's direction on the graph at that point is upwards, we want to move backwards. If the gradient is negative, meaning that the direction is downwards, we want to move forward, because we want to find the minimum point in the graph. This is achieved by subtracting each gradient from its parameter.\n",
    "\n",
    "However, there's a risk that we might subtract too much and overshoot the minimum point. So we scale down the gradient by a factor before subtracting it from the parameter. This becomes our `learning_rate`."
   ]
  },
  {
   "cell_type": "markdown",
   "id": "b2db8bbd-6fa2-41b7-a05a-0aa66fd48349",
   "metadata": {},
   "source": [
    "# Inference"
   ]
  },
  {
   "cell_type": "code",
   "execution_count": null,
   "id": "b15787aa-5bec-4365-888b-9e133ff08193",
   "metadata": {},
   "outputs": [],
   "source": []
  }
 ],
 "metadata": {
  "kernelspec": {
   "display_name": "Python 3 (ipykernel)",
   "language": "python",
   "name": "python3"
  },
  "language_info": {
   "codemirror_mode": {
    "name": "ipython",
    "version": 3
   },
   "file_extension": ".py",
   "mimetype": "text/x-python",
   "name": "python",
   "nbconvert_exporter": "python",
   "pygments_lexer": "ipython3",
   "version": "3.8.10"
  }
 },
 "nbformat": 4,
 "nbformat_minor": 5
}
