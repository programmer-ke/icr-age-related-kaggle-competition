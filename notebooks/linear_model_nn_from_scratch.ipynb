{
 "cells": [
  {
   "cell_type": "markdown",
   "id": "1c869a61-acbf-4329-a82f-8210360e9eed",
   "metadata": {},
   "source": [
    "# Dependencies"
   ]
  },
  {
   "cell_type": "code",
   "execution_count": 2,
   "id": "0631aea0-117f-4cf8-9477-17705f65b0d9",
   "metadata": {},
   "outputs": [],
   "source": [
    "import os\n",
    "is_kaggle = os.environ.get('KAGGLE_KERNEL_RUN_TYPE', '')\n",
    "if not is_kaggle:\n",
    "    !pip install -q torch torchvision torchaudio --index-url https://download.pytorch.org/whl/cpu\n",
    "    !pip install -q pandas numpy matplotlib seaborn fastai\n",
    "    !pip install -q kaggle"
   ]
  },
  {
   "cell_type": "code",
   "execution_count": 5,
   "id": "8da0dc2c-49ff-4109-9578-6c15fd76c5f9",
   "metadata": {},
   "outputs": [],
   "source": [
    "import pandas as pd\n",
    "import numpy as np\n",
    "from pathlib import Path\n",
    "\n",
    "# prettier plots\n",
    "pd.plotting.register_matplotlib_converters()\n",
    "import matplotlib.pyplot as plt\n",
    "%matplotlib inline\n",
    "import seaborn as sns"
   ]
  },
  {
   "cell_type": "markdown",
   "id": "926c4ae8-ab1b-4ee8-ac12-2ad4e8fa7725",
   "metadata": {},
   "source": [
    "# Data Prep"
   ]
  },
  {
   "cell_type": "code",
   "execution_count": 6,
   "id": "c880c363-7adb-4fd6-b4ac-a07a440d4695",
   "metadata": {},
   "outputs": [
    {
     "name": "stdout",
     "output_type": "stream",
     "text": [
      "icr-identify-age-related-conditions.zip: Skipping, found more recently modified local copy (use --force to force download)\n",
      "Archive:  /home/krm/.kaggle/input/icr-identify-age-related-conditions.zip\n",
      "  inflating: /home/krm/.kaggle/input/icr-identify-age-related-conditions/greeks.csv  \n",
      "  inflating: /home/krm/.kaggle/input/icr-identify-age-related-conditions/sample_submission.csv  \n",
      "  inflating: /home/krm/.kaggle/input/icr-identify-age-related-conditions/test.csv  \n",
      "  inflating: /home/krm/.kaggle/input/icr-identify-age-related-conditions/train.csv  \n"
     ]
    }
   ],
   "source": [
    "competition_name = \"icr-identify-age-related-conditions\"\n",
    "\n",
    "if is_kaggle:\n",
    "    input_path = Path(f\"/kaggle/input/{competition_name}\")\n",
    "else:\n",
    "    input_path = Path.home() / \".kaggle\" / \"input\" / competition_name\n",
    "    !kaggle competitions download -p {input_path.parent} {competition_name}\n",
    "    !unzip -o {input_path}.zip -d {input_path}"
   ]
  },
  {
   "cell_type": "markdown",
   "id": "68708f40-0436-4ef4-8ffc-16db1c560b5e",
   "metadata": {},
   "source": [
    "# Fit Model"
   ]
  },
  {
   "cell_type": "markdown",
   "id": "b2db8bbd-6fa2-41b7-a05a-0aa66fd48349",
   "metadata": {},
   "source": [
    "# Inference"
   ]
  }
 ],
 "metadata": {
  "kernelspec": {
   "display_name": "Python 3 (ipykernel)",
   "language": "python",
   "name": "python3"
  },
  "language_info": {
   "codemirror_mode": {
    "name": "ipython",
    "version": 3
   },
   "file_extension": ".py",
   "mimetype": "text/x-python",
   "name": "python",
   "nbconvert_exporter": "python",
   "pygments_lexer": "ipython3",
   "version": "3.8.10"
  }
 },
 "nbformat": 4,
 "nbformat_minor": 5
}
